{
  "nbformat": 4,
  "nbformat_minor": 0,
  "metadata": {
    "colab": {
      "provenance": []
    },
    "kernelspec": {
      "name": "python3",
      "display_name": "Python 3"
    },
    "language_info": {
      "name": "python"
    }
  },
  "cells": [
    {
      "cell_type": "code",
      "execution_count": null,
      "metadata": {
        "id": "hAdsWnZxtByG"
      },
      "outputs": [],
      "source": []
    },
    {
      "cell_type": "markdown",
      "source": [
        "## Minha primeira função"
      ],
      "metadata": {
        "id": "h0AsGwEsvf7G"
      }
    },
    {
      "cell_type": "code",
      "source": [
        "def saudacao():\n",
        "  nome = input('Qual o seu nome? ')\n",
        "  print(f'Ola {nome}, tudo bem? ')\n"
      ],
      "metadata": {
        "id": "R_kkH8yYvkbW"
      },
      "execution_count": null,
      "outputs": []
    },
    {
      "cell_type": "code",
      "source": [
        "saudacao()"
      ],
      "metadata": {
        "colab": {
          "base_uri": "https://localhost:8080/"
        },
        "id": "rAJpkHldxFL5",
        "outputId": "06a5291d-5709-45b1-d99c-fd7dccb4a9e3"
      },
      "execution_count": null,
      "outputs": [
        {
          "output_type": "stream",
          "name": "stdout",
          "text": [
            "Qual o seu nome? david\n",
            "Ola david, tudo bem? \n"
          ]
        }
      ]
    },
    {
      "cell_type": "code",
      "source": [],
      "metadata": {
        "id": "WKzdbv0kxJz5"
      },
      "execution_count": null,
      "outputs": []
    },
    {
      "cell_type": "markdown",
      "source": [
        "## Condicional"
      ],
      "metadata": {
        "id": "UGrIuTgFKIIe"
      }
    },
    {
      "cell_type": "code",
      "source": [
        "idade = 20"
      ],
      "metadata": {
        "id": "1v3VOuXgKK28"
      },
      "execution_count": null,
      "outputs": []
    },
    {
      "cell_type": "code",
      "source": [
        "idade = 20\n",
        "\n",
        "def verica_se_pode_dirigir(idade):\n",
        "  if idade >= 18:\n",
        "   print('Tem permissão para dirigir')"
      ],
      "metadata": {
        "id": "IaJqdwCHKOAc"
      },
      "execution_count": null,
      "outputs": []
    },
    {
      "cell_type": "code",
      "source": [
        "idade = 15\n",
        "\n",
        "def verica_se_pode_dirigir(idade):\n",
        "  if idade >= 18:\n",
        "   print('Tem permissão para dirigir')\n",
        "  else:\n",
        "    print('Não tem permissão para dirigir')\n",
        "verica_se_pode_dirigir(idade)    "
      ],
      "metadata": {
        "colab": {
          "base_uri": "https://localhost:8080/"
        },
        "id": "VUjWecLXKP-i",
        "outputId": "adc9b2a7-9375-4857-db89-d8d19fefff99"
      },
      "execution_count": null,
      "outputs": [
        {
          "output_type": "stream",
          "name": "stdout",
          "text": [
            "Não tem permissão para dirigir\n"
          ]
        }
      ]
    },
    {
      "cell_type": "code",
      "source": [
        "def verifica_se_pode_dirigir_sem_parametro():\n",
        "    idade = input('Qual sua idade')\n",
        "    idade = int(idade)\n",
        "    if idade >= 18:\n",
        "        print('Tem permissão para dirigir')\n",
        "    else:\n",
        "        print('Não tem permissão para dirigir')\n",
        "\n",
        "\n",
        "verifica_se_pode_dirigir_sem_parametro()"
      ],
      "metadata": {
        "colab": {
          "base_uri": "https://localhost:8080/"
        },
        "id": "0C-jUtDYKkPC",
        "outputId": "00cf2ea9-3472-4c64-deab-77f52137c0b2"
      },
      "execution_count": null,
      "outputs": [
        {
          "output_type": "stream",
          "name": "stdout",
          "text": [
            "Qual sua idade26\n",
            "Tem permissão para dirigir\n"
          ]
        }
      ]
    },
    {
      "cell_type": "code",
      "source": [],
      "metadata": {
        "id": "b9tnLCXaMmZg"
      },
      "execution_count": null,
      "outputs": []
    },
    {
      "cell_type": "markdown",
      "source": [
        "#IMPORTS"
      ],
      "metadata": {
        "id": "fkgmpVzu1j8D"
      }
    },
    {
      "cell_type": "code",
      "source": [
        "import matplotlib.pyplot as plt\n",
        "\n",
        "notas_matematica = [10, 5, 6, 9, 4, 7, 5, 9]\n",
        "\n",
        "x = list(range(1, 9))\n",
        "y = notas_matematica\n",
        "plt.plot(x, y)"
      ],
      "metadata": {
        "colab": {
          "base_uri": "https://localhost:8080/",
          "height": 282
        },
        "id": "iDx-BTHt1nXr",
        "outputId": "93a38798-63e1-4733-e5be-67947e1fa054"
      },
      "execution_count": null,
      "outputs": [
        {
          "output_type": "execute_result",
          "data": {
            "text/plain": [
              "[<matplotlib.lines.Line2D at 0x7fb5494081d0>]"
            ]
          },
          "metadata": {},
          "execution_count": 1
        },
        {
          "output_type": "display_data",
          "data": {
            "text/plain": [
              "<Figure size 432x288 with 1 Axes>"
            ],
            "image/png": "[encoded data removed]"
          },
          "metadata": {
            "needs_background": "light"
          }
        }
      ]
    },
    {
      "cell_type": "markdown",
      "source": [
        "#numpy"
      ],
      "metadata": {
        "id": "N9csCdYu86jy"
      }
    },
    {
      "cell_type": "code",
      "source": [
        "import numpy as np\n",
        "km = np.loadtxt(carros-km.txt)\n",
        "anos = np.loadtxt(carros-anos.txt, dtype=int)\n",
        "\n",
        "\n",
        "km_media = km / (2019 - anos)\n"
      ],
      "metadata": {
        "id": "ah3yZ82t89u8"
      },
      "execution_count": null,
      "outputs": []
    },
    {
      "cell_type": "markdown",
      "source": [
        "#Pandas"
      ],
      "metadata": {
        "id": "_SrAZNVgrL0N"
      }
    },
    {
      "cell_type": "code",
      "source": [
        "import pandas as pd\n",
        "\n",
        "pd.read_csv('tips.csv')"
      ],
      "metadata": {
        "colab": {
          "base_uri": "https://localhost:8080/",
          "height": 424
        },
        "id": "dnDLBy13rNrR",
        "outputId": "b5faa727-e600-4eec-b3ac-56c4e185cb7e"
      },
      "execution_count": null,
      "outputs": [
        {
          "output_type": "execute_result",
          "data": {
            "text/plain": [
              "     total_bill   tip dessert   day    time  size\n",
              "0         16.99  1.01      No   Sun  Dinner     2\n",
              "1         10.34  1.66      No   Sun  Dinner     3\n",
              "2         21.01  3.50      No   Sun  Dinner     3\n",
              "3         23.68  3.31      No   Sun  Dinner     2\n",
              "4         24.59  3.61      No   Sun  Dinner     4\n",
              "..          ...   ...     ...   ...     ...   ...\n",
              "239       29.03  5.92      No   Sat  Dinner     3\n",
              "240       27.18  2.00     Yes   Sat  Dinner     2\n",
              "241       22.67  2.00     Yes   Sat  Dinner     2\n",
              "242       17.82  1.75      No   Sat  Dinner     2\n",
              "243       18.78  3.00      No  Thur  Dinner     2\n",
              "\n",
              "[244 rows x 6 columns]"
            ],
            "text/html": [
              "\n",
              "  <div id=\"df-90aa7e8d-d434-465a-917d-7937d7f058be\">\n",
              "    <div class=\"colab-df-container\">\n",
              "      <div>\n",
              "<style scoped>\n",
              "    .dataframe tbody tr th:only-of-type {\n",
              "        vertical-align: middle;\n",
              "    }\n",
              "\n",
              "    .dataframe tbody tr th {\n",
              "        vertical-align: top;\n",
              "    }\n",
              "\n",
              "    .dataframe thead th {\n",
              "        text-align: right;\n",
              "    }\n",
              "</style>\n",
              "<table border=\"1\" class=\"dataframe\">\n",
              "  <thead>\n",
              "    <tr style=\"text-align: right;\">\n",
              "      <th></th>\n",
              "      <th>total_bill</th>\n",
              "      <th>tip</th>\n",
              "      <th>dessert</th>\n",
              "      <th>day</th>\n",
              "      <th>time</th>\n",
              "      <th>size</th>\n",
              "    </tr>\n",
              "  </thead>\n",
              "  <tbody>\n",
              "    <tr>\n",
              "      <th>0</th>\n",
              "      <td>16.99</td>\n",
              "      <td>1.01</td>\n",
              "      <td>No</td>\n",
              "      <td>Sun</td>\n",
              "      <td>Dinner</td>\n",
              "      <td>2</td>\n",
              "    </tr>\n",
              "    <tr>\n",
              "      <th>1</th>\n",
              "      <td>10.34</td>\n",
              "      <td>1.66</td>\n",
              "      <td>No</td>\n",
              "      <td>Sun</td>\n",
              "      <td>Dinner</td>\n",
              "      <td>3</td>\n",
              "    </tr>\n",
              "    <tr>\n",
              "      <th>2</th>\n",
              "      <td>21.01</td>\n",
              "      <td>3.50</td>\n",
              "      <td>No</td>\n",
              "      <td>Sun</td>\n",
              "      <td>Dinner</td>\n",
              "      <td>3</td>\n",
              "    </tr>\n",
              "    <tr>\n",
              "      <th>3</th>\n",
              "      <td>23.68</td>\n",
              "      <td>3.31</td>\n",
              "      <td>No</td>\n",
              "      <td>Sun</td>\n",
              "      <td>Dinner</td>\n",
              "      <td>2</td>\n",
              "    </tr>\n",
              "    <tr>\n",
              "      <th>4</th>\n",
              "      <td>24.59</td>\n",
              "      <td>3.61</td>\n",
              "      <td>No</td>\n",
              "      <td>Sun</td>\n",
              "      <td>Dinner</td>\n",
              "      <td>4</td>\n",
              "    </tr>\n",
              "    <tr>\n",
              "      <th>...</th>\n",
              "      <td>...</td>\n",
              "      <td>...</td>\n",
              "      <td>...</td>\n",
              "      <td>...</td>\n",
              "      <td>...</td>\n",
              "      <td>...</td>\n",
              "    </tr>\n",
              "    <tr>\n",
              "      <th>239</th>\n",
              "      <td>29.03</td>\n",
              "      <td>5.92</td>\n",
              "      <td>No</td>\n",
              "      <td>Sat</td>\n",
              "      <td>Dinner</td>\n",
              "      <td>3</td>\n",
              "    </tr>\n",
              "    <tr>\n",
              "      <th>240</th>\n",
              "      <td>27.18</td>\n",
              "      <td>2.00</td>\n",
              "      <td>Yes</td>\n",
              "      <td>Sat</td>\n",
              "      <td>Dinner</td>\n",
              "      <td>2</td>\n",
              "    </tr>\n",
              "    <tr>\n",
              "      <th>241</th>\n",
              "      <td>22.67</td>\n",
              "      <td>2.00</td>\n",
              "      <td>Yes</td>\n",
              "      <td>Sat</td>\n",
              "      <td>Dinner</td>\n",
              "      <td>2</td>\n",
              "    </tr>\n",
              "    <tr>\n",
              "      <th>242</th>\n",
              "      <td>17.82</td>\n",
              "      <td>1.75</td>\n",
              "      <td>No</td>\n",
              "      <td>Sat</td>\n",
              "      <td>Dinner</td>\n",
              "      <td>2</td>\n",
              "    </tr>\n",
              "    <tr>\n",
              "      <th>243</th>\n",
              "      <td>18.78</td>\n",
              "      <td>3.00</td>\n",
              "      <td>No</td>\n",
              "      <td>Thur</td>\n",
              "      <td>Dinner</td>\n",
              "      <td>2</td>\n",
              "    </tr>\n",
              "  </tbody>\n",
              "</table>\n",
              "<p>244 rows × 6 columns</p>\n",
              "</div>\n",
              "      <button class=\"colab-df-convert\" onclick=\"convertToInteractive('df-90aa7e8d-d434-465a-917d-7937d7f058be')\"\n",
              "              title=\"Convert this dataframe to an interactive table.\"\n",
              "              style=\"display:none;\">\n",
              "        \n",
              "  <svg xmlns=\"http://www.w3.org/2000/svg\" height=\"24px\"viewBox=\"0 0 24 24\"\n",
              "       width=\"24px\">\n",
              "    <path d=\"M0 0h24v24H0V0z\" fill=\"none\"/>\n",
              "    <path d=\"M18.56 5.44l.94 2.06.94-2.06 2.06-.94-2.06-.94-.94-2.06-.94 2.06-2.06.94zm-11 1L8.5 8.5l.94-2.06 2.06-.94-2.06-.94L8.5 2.5l-.94 2.06-2.06.94zm10 10l.94 2.06.94-2.06 2.06-.94-2.06-.94-.94-2.06-.94 2.06-2.06.94z\"/><path d=\"M17.41 7.96l-1.37-1.37c-.4-.4-.92-.59-1.43-.59-.52 0-1.04.2-1.43.59L10.3 9.45l-7.72 7.72c-.78.78-.78 2.05 0 2.83L4 21.41c.39.39.9.59 1.41.59.51 0 1.02-.2 1.41-.59l7.78-7.78 2.81-2.81c.8-.78.8-2.07 0-2.86zM5.41 20L4 18.59l7.72-7.72 1.47 1.35L5.41 20z\"/>\n",
              "  </svg>\n",
              "      </button>\n",
              "      \n",
              "  <style>\n",
              "    .colab-df-container {\n",
              "      display:flex;\n",
              "      flex-wrap:wrap;\n",
              "      gap: 12px;\n",
              "    }\n",
              "\n",
              "    .colab-df-convert {\n",
              "      background-color: #E8F0FE;\n",
              "      border: none;\n",
              "      border-radius: 50%;\n",
              "      cursor: pointer;\n",
              "      display: none;\n",
              "      fill: #1967D2;\n",
              "      height: 32px;\n",
              "      padding: 0 0 0 0;\n",
              "      width: 32px;\n",
              "    }\n",
              "\n",
              "    .colab-df-convert:hover {\n",
              "      background-color: #E2EBFA;\n",
              "      box-shadow: 0px 1px 2px rgba(60, 64, 67, 0.3), 0px 1px 3px 1px rgba(60, 64, 67, 0.15);\n",
              "      fill: #174EA6;\n",
              "    }\n",
              "\n",
              "    [theme=dark] .colab-df-convert {\n",
              "      background-color: #3B4455;\n",
              "      fill: #D2E3FC;\n",
              "    }\n",
              "\n",
              "    [theme=dark] .colab-df-convert:hover {\n",
              "      background-color: #434B5C;\n",
              "      box-shadow: 0px 1px 3px 1px rgba(0, 0, 0, 0.15);\n",
              "      filter: drop-shadow(0px 1px 2px rgba(0, 0, 0, 0.3));\n",
              "      fill: #FFFFFF;\n",
              "    }\n",
              "  </style>\n",
              "\n",
              "      <script>\n",
              "        const buttonEl =\n",
              "          document.querySelector('#df-90aa7e8d-d434-465a-917d-7937d7f058be button.colab-df-convert');\n",
              "        buttonEl.style.display =\n",
              "          google.colab.kernel.accessAllowed ? 'block' : 'none';\n",
              "\n",
              "        async function convertToInteractive(key) {\n",
              "          const element = document.querySelector('#df-90aa7e8d-d434-465a-917d-7937d7f058be');\n",
              "          const dataTable =\n",
              "            await google.colab.kernel.invokeFunction('convertToInteractive',\n",
              "                                                     [key], {});\n",
              "          if (!dataTable) return;\n",
              "\n",
              "          const docLinkHtml = 'Like what you see? Visit the ' +\n",
              "            '<a target=\"_blank\" href=https://colab.research.google.com/notebooks/data_table.ipynb>data table notebook</a>'\n",
              "            + ' to learn more about interactive tables.';\n",
              "          element.innerHTML = '';\n",
              "          dataTable['output_type'] = 'display_data';\n",
              "          await google.colab.output.renderOutput(dataTable, element);\n",
              "          const docLink = document.createElement('div');\n",
              "          docLink.innerHTML = docLinkHtml;\n",
              "          element.appendChild(docLink);\n",
              "        }\n",
              "      </script>\n",
              "    </div>\n",
              "  </div>\n",
              "  "
            ]
          },
          "metadata": {},
          "execution_count": 2
        }
      ]
    },
    {
      "cell_type": "code",
      "source": [],
      "metadata": {
        "id": "gGGdXL3frTKX"
      },
      "execution_count": null,
      "outputs": []
    },
    {
      "cell_type": "markdown",
      "source": [
        "# LISTAS"
      ],
      "metadata": {
        "id": "TwaGMyMqavaT"
      }
    },
    {
      "cell_type": "code",
      "source": [
        "#Criando uma lista chamada animais\n",
        "animais = [1,2,3]\n",
        "animais"
      ],
      "metadata": {
        "colab": {
          "base_uri": "https://localhost:8080/"
        },
        "id": "7Gn85lTGaxtR",
        "outputId": "0b9db74f-eb15-40f8-c305-a3b5cb812787"
      },
      "execution_count": 1,
      "outputs": [
        {
          "output_type": "execute_result",
          "data": {
            "text/plain": [
              "[1, 2, 3]"
            ]
          },
          "metadata": {},
          "execution_count": 1
        }
      ]
    },
    {
      "cell_type": "code",
      "source": [
        "animais = [\"cachorro\", \"gato\", 12345, 6.5]\n",
        "animais"
      ],
      "metadata": {
        "colab": {
          "base_uri": "https://localhost:8080/"
        },
        "id": "azlYlfOeazZK",
        "outputId": "f85e12ee-a8fe-4363-cc9c-19f5413161e9"
      },
      "execution_count": 2,
      "outputs": [
        {
          "output_type": "execute_result",
          "data": {
            "text/plain": [
              "['cachorro', 'gato', 12345, 6.5]"
            ]
          },
          "metadata": {},
          "execution_count": 2
        }
      ]
    },
    {
      "cell_type": "code",
      "source": [
        "#Imprimindo o primeiro elemento da lista\n",
        "animais[0]"
      ],
      "metadata": {
        "colab": {
          "base_uri": "https://localhost:8080/",
          "height": 35
        },
        "id": "V5ZtqAysa3d9",
        "outputId": "4d43e344-1828-44c5-a604-00c3766d694a"
      },
      "execution_count": 3,
      "outputs": [
        {
          "output_type": "execute_result",
          "data": {
            "text/plain": [
              "'cachorro'"
            ],
            "application/vnd.google.colaboratory.intrinsic+json": {
              "type": "string"
            }
          },
          "metadata": {},
          "execution_count": 3
        }
      ]
    },
    {
      "cell_type": "code",
      "source": [
        "#Substituindo o primeiro elemento da lista\n",
        "animais[0] = \"papagaio\""
      ],
      "metadata": {
        "id": "UVMKWzANa5X6"
      },
      "execution_count": 4,
      "outputs": []
    },
    {
      "cell_type": "code",
      "source": [
        "animais"
      ],
      "metadata": {
        "colab": {
          "base_uri": "https://localhost:8080/"
        },
        "id": "1b-1mvc7a7S-",
        "outputId": "83a8b110-47af-493a-fe17-895a51f0c83f"
      },
      "execution_count": 5,
      "outputs": [
        {
          "output_type": "execute_result",
          "data": {
            "text/plain": [
              "['papagaio', 'gato', 12345, 6.5]"
            ]
          },
          "metadata": {},
          "execution_count": 5
        }
      ]
    },
    {
      "cell_type": "code",
      "source": [
        "len(animais)"
      ],
      "metadata": {
        "colab": {
          "base_uri": "https://localhost:8080/"
        },
        "id": "NkC1PGuXa81Q",
        "outputId": "489149c0-9085-4ac5-e434-e0e49ead7b4e"
      },
      "execution_count": 6,
      "outputs": [
        {
          "output_type": "execute_result",
          "data": {
            "text/plain": [
              "4"
            ]
          },
          "metadata": {},
          "execution_count": 6
        }
      ]
    },
    {
      "cell_type": "code",
      "source": [
        "\"gato\" in animais"
      ],
      "metadata": {
        "colab": {
          "base_uri": "https://localhost:8080/"
        },
        "id": "5EhvXAj3a-Wt",
        "outputId": "e0278c08-af1f-4184-c579-ea4512cdb08c"
      },
      "execution_count": 7,
      "outputs": [
        {
          "output_type": "execute_result",
          "data": {
            "text/plain": [
              "True"
            ]
          },
          "metadata": {},
          "execution_count": 7
        }
      ]
    },
    {
      "cell_type": "code",
      "source": [
        "lista = [500, 30, 300, 80, 10]"
      ],
      "metadata": {
        "id": "w0c_aa5cbALt"
      },
      "execution_count": 8,
      "outputs": []
    },
    {
      "cell_type": "code",
      "source": [
        "max(lista)"
      ],
      "metadata": {
        "colab": {
          "base_uri": "https://localhost:8080/"
        },
        "id": "b03Do3_pbBw5",
        "outputId": "d6c81ff2-1520-4c0a-b4a3-558900038c25"
      },
      "execution_count": 9,
      "outputs": [
        {
          "output_type": "execute_result",
          "data": {
            "text/plain": [
              "500"
            ]
          },
          "metadata": {},
          "execution_count": 9
        }
      ]
    },
    {
      "cell_type": "code",
      "source": [
        "min(lista)"
      ],
      "metadata": {
        "colab": {
          "base_uri": "https://localhost:8080/"
        },
        "id": "k_TN4Vb8bD3e",
        "outputId": "9eeb4fac-3de5-4bb0-c9a2-0656091a4619"
      },
      "execution_count": 10,
      "outputs": [
        {
          "output_type": "execute_result",
          "data": {
            "text/plain": [
              "10"
            ]
          },
          "metadata": {},
          "execution_count": 10
        }
      ]
    },
    {
      "cell_type": "code",
      "source": [
        "animais.extend([\"cobra\", 6])"
      ],
      "metadata": {
        "id": "e0mbngqtbF1I"
      },
      "execution_count": 11,
      "outputs": []
    },
    {
      "cell_type": "code",
      "source": [
        "lista.sort()"
      ],
      "metadata": {
        "id": "_p31IouvbHVP"
      },
      "execution_count": 12,
      "outputs": []
    },
    {
      "cell_type": "code",
      "source": [
        "lista"
      ],
      "metadata": {
        "colab": {
          "base_uri": "https://localhost:8080/"
        },
        "id": "-GPU0yP_bInJ",
        "outputId": "97488599-0406-4782-9398-494a660fe7e3"
      },
      "execution_count": 13,
      "outputs": [
        {
          "output_type": "execute_result",
          "data": {
            "text/plain": [
              "[10, 30, 80, 300, 500]"
            ]
          },
          "metadata": {},
          "execution_count": 13
        }
      ]
    },
    {
      "cell_type": "code",
      "source": [],
      "metadata": {
        "id": "dLuDi6fwbKL-"
      },
      "execution_count": null,
      "outputs": []
    },
    {
      "cell_type": "markdown",
      "metadata": {
        "id": "VHmSI4EcoX-h"
      },
      "source": [
        "# **Tuplas**"
      ]
    },
    {
      "cell_type": "code",
      "metadata": {
        "id": "Qrv07mzWocDT"
      },
      "source": [
        "#As tuplas usam parênteses como sintaxe\n",
        "tp = (\"Banana\", \"Maçã\", 10, 50)"
      ],
      "execution_count": null,
      "outputs": []
    },
    {
      "cell_type": "code",
      "metadata": {
        "id": "r7ZMMLn8pt7R",
        "colab": {
          "base_uri": "https://localhost:8080/",
          "height": 34
        },
        "outputId": "d2ad4094-b8d6-489f-a605-36c4b569bd8b"
      },
      "source": [
        "#Retornando o primeiro elemento\n",
        "tp[0]"
      ],
      "execution_count": null,
      "outputs": [
        {
          "output_type": "execute_result",
          "data": {
            "text/plain": [
              "'Banana'"
            ]
          },
          "metadata": {
            "tags": []
          },
          "execution_count": 28
        }
      ]
    },
    {
      "cell_type": "code",
      "metadata": {
        "id": "jKRnh-DbpzBj",
        "colab": {
          "base_uri": "https://localhost:8080/",
          "height": 183
        },
        "outputId": "1712b5c1-6f49-4252-bd81-b6b9c603ca6a"
      },
      "source": [
        "#Diferente das listas as tuplas são imutáveis, o que quer dizer que não podemos alterar os seus elementos\n",
        "tp[0] = \"Laranja\""
      ],
      "execution_count": 14,
      "outputs": [
        {
          "output_type": "error",
          "ename": "NameError",
          "evalue": "ignored",
          "traceback": [
            "\u001b[0;31m---------------------------------------------------------------------------\u001b[0m",
            "\u001b[0;31mNameError\u001b[0m                                 Traceback (most recent call last)",
            "\u001b[0;32m<ipython-input-14-9264cd18bf8a>\u001b[0m in \u001b[0;36m<module>\u001b[0;34m\u001b[0m\n\u001b[1;32m      1\u001b[0m \u001b[0;31m#Diferente das listas as tuplas são imutáveis, o que quer dizer que não podemos alterar os seus elementos\u001b[0m\u001b[0;34m\u001b[0m\u001b[0;34m\u001b[0m\u001b[0;34m\u001b[0m\u001b[0m\n\u001b[0;32m----> 2\u001b[0;31m \u001b[0mtp\u001b[0m\u001b[0;34m[\u001b[0m\u001b[0;36m0\u001b[0m\u001b[0;34m]\u001b[0m \u001b[0;34m=\u001b[0m \u001b[0;34m\"Laranja\"\u001b[0m\u001b[0;34m\u001b[0m\u001b[0;34m\u001b[0m\u001b[0m\n\u001b[0m",
            "\u001b[0;31mNameError\u001b[0m: name 'tp' is not defined"
          ]
        }
      ]
    },
    {
      "cell_type": "code",
      "source": [],
      "metadata": {
        "id": "h-t4DJwubdLo"
      },
      "execution_count": null,
      "outputs": []
    },
    {
      "cell_type": "code",
      "metadata": {
        "id": "a-KaNhePE0nb",
        "colab": {
          "base_uri": "https://localhost:8080/",
          "height": 34
        },
        "outputId": "ddf3ebbd-355a-467e-d238-0c9601e07c61"
      },
      "source": [
        "tp.count(\"Maçã\")"
      ],
      "execution_count": null,
      "outputs": [
        {
          "output_type": "execute_result",
          "data": {
            "text/plain": [
              "1"
            ]
          },
          "metadata": {
            "tags": []
          },
          "execution_count": 30
        }
      ]
    },
    {
      "cell_type": "code",
      "metadata": {
        "id": "ntXTi7MaFAX7",
        "colab": {
          "base_uri": "https://localhost:8080/",
          "height": 34
        },
        "outputId": "595f3409-7948-4919-cff4-787d350423b7"
      },
      "source": [
        "tp[0:2]"
      ],
      "execution_count": null,
      "outputs": [
        {
          "output_type": "execute_result",
          "data": {
            "text/plain": [
              "('Banana', 'Maçã')"
            ]
          },
          "metadata": {
            "tags": []
          },
          "execution_count": 31
        }
      ]
    },
    {
      "cell_type": "markdown",
      "metadata": {
        "id": "Q0Ltz4kcFQps"
      },
      "source": [
        "# **Dicionários**"
      ]
    },
    {
      "cell_type": "code",
      "metadata": {
        "id": "43OFknPUFO68"
      },
      "source": [
        "#Para criar um dicionário utilizamos as {}\n",
        "dc = {\"Maçã\":20, \"Banana\":10, \"Laranja\":15, \"Uva\":5} #Dicionários trabalham com o condeito chave e valor"
      ],
      "execution_count": null,
      "outputs": []
    },
    {
      "cell_type": "code",
      "metadata": {
        "id": "dCH9PefxGBdZ",
        "colab": {
          "base_uri": "https://localhost:8080/",
          "height": 34
        },
        "outputId": "4017b350-db9b-4404-8f2b-1d41d9e983bf"
      },
      "source": [
        "dc"
      ],
      "execution_count": null,
      "outputs": [
        {
          "output_type": "execute_result",
          "data": {
            "text/plain": [
              "{'Banana': 10, 'Laranja': 15, 'Maçã': 20, 'Uva': 5}"
            ]
          },
          "metadata": {
            "tags": []
          },
          "execution_count": 33
        }
      ]
    },
    {
      "cell_type": "code",
      "metadata": {
        "id": "iyGxfz72FxNa",
        "colab": {
          "base_uri": "https://localhost:8080/",
          "height": 34
        },
        "outputId": "4e85b169-8639-4402-ddcf-5a954e6acd9f"
      },
      "source": [
        "#Acessando o valor de um dicionário através da chave\n",
        "dc[\"Maçã\"]"
      ],
      "execution_count": null,
      "outputs": [
        {
          "output_type": "execute_result",
          "data": {
            "text/plain": [
              "20"
            ]
          },
          "metadata": {
            "tags": []
          },
          "execution_count": 34
        }
      ]
    },
    {
      "cell_type": "code",
      "metadata": {
        "id": "6WwkohdpF5Cq",
        "colab": {
          "base_uri": "https://localhost:8080/",
          "height": 34
        },
        "outputId": "053f88f7-b499-47d5-c741-25f0a394e2c8"
      },
      "source": [
        "#Atualizando o valor da Maçã\n",
        "dc[\"Maçã\"] = 25\n",
        "dc"
      ],
      "execution_count": null,
      "outputs": [
        {
          "output_type": "execute_result",
          "data": {
            "text/plain": [
              "{'Banana': 10, 'Laranja': 15, 'Maçã': 25, 'Uva': 5}"
            ]
          },
          "metadata": {
            "tags": []
          },
          "execution_count": 35
        }
      ]
    },
    {
      "cell_type": "code",
      "metadata": {
        "id": "_50MV-XaGFae",
        "colab": {
          "base_uri": "https://localhost:8080/",
          "height": 34
        },
        "outputId": "53879989-4805-4017-f5a9-9294ba60d86a"
      },
      "source": [
        "#Retornando todas as chaves do dicionário\n",
        "dc.keys()"
      ],
      "execution_count": null,
      "outputs": [
        {
          "output_type": "execute_result",
          "data": {
            "text/plain": [
              "dict_keys(['Maçã', 'Banana', 'Laranja', 'Uva'])"
            ]
          },
          "metadata": {
            "tags": []
          },
          "execution_count": 36
        }
      ]
    },
    {
      "cell_type": "code",
      "metadata": {
        "id": "AHLXfikMGRS4",
        "colab": {
          "base_uri": "https://localhost:8080/",
          "height": 34
        },
        "outputId": "1beaa637-f1dd-4122-80a5-5d317c993943"
      },
      "source": [
        "#Retornando os valores do dicionário\n",
        "dc.values()"
      ],
      "execution_count": null,
      "outputs": [
        {
          "output_type": "execute_result",
          "data": {
            "text/plain": [
              "dict_values([25, 10, 15, 5])"
            ]
          },
          "metadata": {
            "tags": []
          },
          "execution_count": 37
        }
      ]
    },
    {
      "cell_type": "code",
      "metadata": {
        "id": "co2yQ4IrGX8n",
        "colab": {
          "base_uri": "https://localhost:8080/",
          "height": 34
        },
        "outputId": "f8f5dc72-2f3d-433b-c54b-cea91173e306"
      },
      "source": [
        "#Verificando se já existe uma chave no dicionário e caso não exista inserir\n",
        "dc.setdefault(\"Limão\", 22)"
      ],
      "execution_count": null,
      "outputs": [
        {
          "output_type": "execute_result",
          "data": {
            "text/plain": [
              "22"
            ]
          },
          "metadata": {
            "tags": []
          },
          "execution_count": 38
        }
      ]
    },
    {
      "cell_type": "code",
      "metadata": {
        "id": "M9_v4jAZGyz6",
        "colab": {
          "base_uri": "https://localhost:8080/",
          "height": 165
        },
        "outputId": "5016323b-bd6a-4cec-dd5d-b2aeca528f26"
      },
      "source": [
        "dc"
      ],
      "execution_count": 15,
      "outputs": [
        {
          "output_type": "error",
          "ename": "NameError",
          "evalue": "ignored",
          "traceback": [
            "\u001b[0;31m---------------------------------------------------------------------------\u001b[0m",
            "\u001b[0;31mNameError\u001b[0m                                 Traceback (most recent call last)",
            "\u001b[0;32m<ipython-input-15-4b6df5cbca32>\u001b[0m in \u001b[0;36m<module>\u001b[0;34m\u001b[0m\n\u001b[0;32m----> 1\u001b[0;31m \u001b[0mdc\u001b[0m\u001b[0;34m\u001b[0m\u001b[0;34m\u001b[0m\u001b[0m\n\u001b[0m",
            "\u001b[0;31mNameError\u001b[0m: name 'dc' is not defined"
          ]
        }
      ]
    },
    {
      "cell_type": "code",
      "source": [],
      "metadata": {
        "id": "ylI2y-kablrU"
      },
      "execution_count": null,
      "outputs": []
    },
    {
      "cell_type": "code",
      "metadata": {
        "id": "HosPJUDJZ0c5"
      },
      "source": [
        "#importando a biblioteca pandas\n",
        "import pandas as pd"
      ],
      "execution_count": null,
      "outputs": []
    },
    {
      "cell_type": "code",
      "metadata": {
        "id": "9-5IJCXOa4T3"
      },
      "source": [
        "df = pd.read_csv(\"/content/drive/My Drive/Datasets/Gapminder.csv\",error_bad_lines=False, sep=\";\")"
      ],
      "execution_count": null,
      "outputs": []
    },
    {
      "cell_type": "code",
      "metadata": {
        "id": "AyOIeFoTbQN5",
        "outputId": "61fa078b-016a-4601-e081-899319ebbe27",
        "colab": {
          "base_uri": "https://localhost:8080/",
          "height": 204
        }
      },
      "source": [
        "#Visualizando as 5 primeiras linhas\n",
        "df.head()"
      ],
      "execution_count": null,
      "outputs": [
        {
          "output_type": "execute_result",
          "data": {
            "text/html": [
              "<div>\n",
              "<style scoped>\n",
              "    .dataframe tbody tr th:only-of-type {\n",
              "        vertical-align: middle;\n",
              "    }\n",
              "\n",
              "    .dataframe tbody tr th {\n",
              "        vertical-align: top;\n",
              "    }\n",
              "\n",
              "    .dataframe thead th {\n",
              "        text-align: right;\n",
              "    }\n",
              "</style>\n",
              "<table border=\"1\" class=\"dataframe\">\n",
              "  <thead>\n",
              "    <tr style=\"text-align: right;\">\n",
              "      <th></th>\n",
              "      <th>country</th>\n",
              "      <th>continent</th>\n",
              "      <th>year</th>\n",
              "      <th>lifeExp</th>\n",
              "      <th>pop</th>\n",
              "      <th>gdpPercap</th>\n",
              "    </tr>\n",
              "  </thead>\n",
              "  <tbody>\n",
              "    <tr>\n",
              "      <th>0</th>\n",
              "      <td>Afghanistan</td>\n",
              "      <td>Asia</td>\n",
              "      <td>1952</td>\n",
              "      <td>28.801</td>\n",
              "      <td>8425333</td>\n",
              "      <td>779.445314</td>\n",
              "    </tr>\n",
              "    <tr>\n",
              "      <th>1</th>\n",
              "      <td>Afghanistan</td>\n",
              "      <td>Asia</td>\n",
              "      <td>1957</td>\n",
              "      <td>30.332</td>\n",
              "      <td>9240934</td>\n",
              "      <td>820.853030</td>\n",
              "    </tr>\n",
              "    <tr>\n",
              "      <th>2</th>\n",
              "      <td>Afghanistan</td>\n",
              "      <td>Asia</td>\n",
              "      <td>1962</td>\n",
              "      <td>31.997</td>\n",
              "      <td>10267083</td>\n",
              "      <td>853.100710</td>\n",
              "    </tr>\n",
              "    <tr>\n",
              "      <th>3</th>\n",
              "      <td>Afghanistan</td>\n",
              "      <td>Asia</td>\n",
              "      <td>1967</td>\n",
              "      <td>34.020</td>\n",
              "      <td>11537966</td>\n",
              "      <td>836.197138</td>\n",
              "    </tr>\n",
              "    <tr>\n",
              "      <th>4</th>\n",
              "      <td>Afghanistan</td>\n",
              "      <td>Asia</td>\n",
              "      <td>1972</td>\n",
              "      <td>36.088</td>\n",
              "      <td>13079460</td>\n",
              "      <td>739.981106</td>\n",
              "    </tr>\n",
              "  </tbody>\n",
              "</table>\n",
              "</div>"
            ],
            "text/plain": [
              "       country continent  year  lifeExp       pop   gdpPercap\n",
              "0  Afghanistan      Asia  1952   28.801   8425333  779.445314\n",
              "1  Afghanistan      Asia  1957   30.332   9240934  820.853030\n",
              "2  Afghanistan      Asia  1962   31.997  10267083  853.100710\n",
              "3  Afghanistan      Asia  1967   34.020  11537966  836.197138\n",
              "4  Afghanistan      Asia  1972   36.088  13079460  739.981106"
            ]
          },
          "metadata": {
            "tags": []
          },
          "execution_count": 6
        }
      ]
    },
    {
      "cell_type": "code",
      "metadata": {
        "id": "4Rim8fDsbnHS"
      },
      "source": [
        "df = df.rename(columns={\"country\":\"Pais\", \"continent\": \"continente\", \"year\":\"Ano\", \"lifeExp\":\"Expectativa de vida\", \"pop\":\"Pop Total\", \"gdpPercap\": \"PIB\"})"
      ],
      "execution_count": null,
      "outputs": []
    },
    {
      "cell_type": "code",
      "metadata": {
        "id": "Wr2_q1hocgw1",
        "outputId": "8d9a0939-d9ac-4f47-d2ed-582e7b46db38",
        "colab": {
          "base_uri": "https://localhost:8080/",
          "height": 359
        }
      },
      "source": [
        "df.head(10)"
      ],
      "execution_count": null,
      "outputs": [
        {
          "output_type": "execute_result",
          "data": {
            "text/html": [
              "<div>\n",
              "<style scoped>\n",
              "    .dataframe tbody tr th:only-of-type {\n",
              "        vertical-align: middle;\n",
              "    }\n",
              "\n",
              "    .dataframe tbody tr th {\n",
              "        vertical-align: top;\n",
              "    }\n",
              "\n",
              "    .dataframe thead th {\n",
              "        text-align: right;\n",
              "    }\n",
              "</style>\n",
              "<table border=\"1\" class=\"dataframe\">\n",
              "  <thead>\n",
              "    <tr style=\"text-align: right;\">\n",
              "      <th></th>\n",
              "      <th>Pais</th>\n",
              "      <th>continente</th>\n",
              "      <th>Ano</th>\n",
              "      <th>Expectativa de vida</th>\n",
              "      <th>Pop Total</th>\n",
              "      <th>PIB</th>\n",
              "    </tr>\n",
              "  </thead>\n",
              "  <tbody>\n",
              "    <tr>\n",
              "      <th>0</th>\n",
              "      <td>Afghanistan</td>\n",
              "      <td>Asia</td>\n",
              "      <td>1952</td>\n",
              "      <td>28.801</td>\n",
              "      <td>8425333</td>\n",
              "      <td>779.445314</td>\n",
              "    </tr>\n",
              "    <tr>\n",
              "      <th>1</th>\n",
              "      <td>Afghanistan</td>\n",
              "      <td>Asia</td>\n",
              "      <td>1957</td>\n",
              "      <td>30.332</td>\n",
              "      <td>9240934</td>\n",
              "      <td>820.853030</td>\n",
              "    </tr>\n",
              "    <tr>\n",
              "      <th>2</th>\n",
              "      <td>Afghanistan</td>\n",
              "      <td>Asia</td>\n",
              "      <td>1962</td>\n",
              "      <td>31.997</td>\n",
              "      <td>10267083</td>\n",
              "      <td>853.100710</td>\n",
              "    </tr>\n",
              "    <tr>\n",
              "      <th>3</th>\n",
              "      <td>Afghanistan</td>\n",
              "      <td>Asia</td>\n",
              "      <td>1967</td>\n",
              "      <td>34.020</td>\n",
              "      <td>11537966</td>\n",
              "      <td>836.197138</td>\n",
              "    </tr>\n",
              "    <tr>\n",
              "      <th>4</th>\n",
              "      <td>Afghanistan</td>\n",
              "      <td>Asia</td>\n",
              "      <td>1972</td>\n",
              "      <td>36.088</td>\n",
              "      <td>13079460</td>\n",
              "      <td>739.981106</td>\n",
              "    </tr>\n",
              "    <tr>\n",
              "      <th>5</th>\n",
              "      <td>Afghanistan</td>\n",
              "      <td>Asia</td>\n",
              "      <td>1977</td>\n",
              "      <td>38.438</td>\n",
              "      <td>14880372</td>\n",
              "      <td>786.113360</td>\n",
              "    </tr>\n",
              "    <tr>\n",
              "      <th>6</th>\n",
              "      <td>Afghanistan</td>\n",
              "      <td>Asia</td>\n",
              "      <td>1982</td>\n",
              "      <td>39.854</td>\n",
              "      <td>12881816</td>\n",
              "      <td>978.011439</td>\n",
              "    </tr>\n",
              "    <tr>\n",
              "      <th>7</th>\n",
              "      <td>Afghanistan</td>\n",
              "      <td>Asia</td>\n",
              "      <td>1987</td>\n",
              "      <td>40.822</td>\n",
              "      <td>13867957</td>\n",
              "      <td>852.395945</td>\n",
              "    </tr>\n",
              "    <tr>\n",
              "      <th>8</th>\n",
              "      <td>Afghanistan</td>\n",
              "      <td>Asia</td>\n",
              "      <td>1992</td>\n",
              "      <td>41.674</td>\n",
              "      <td>16317921</td>\n",
              "      <td>649.341395</td>\n",
              "    </tr>\n",
              "    <tr>\n",
              "      <th>9</th>\n",
              "      <td>Afghanistan</td>\n",
              "      <td>Asia</td>\n",
              "      <td>1997</td>\n",
              "      <td>41.763</td>\n",
              "      <td>22227415</td>\n",
              "      <td>635.341351</td>\n",
              "    </tr>\n",
              "  </tbody>\n",
              "</table>\n",
              "</div>"
            ],
            "text/plain": [
              "          Pais continente   Ano  Expectativa de vida  Pop Total         PIB\n",
              "0  Afghanistan       Asia  1952               28.801    8425333  779.445314\n",
              "1  Afghanistan       Asia  1957               30.332    9240934  820.853030\n",
              "2  Afghanistan       Asia  1962               31.997   10267083  853.100710\n",
              "3  Afghanistan       Asia  1967               34.020   11537966  836.197138\n",
              "4  Afghanistan       Asia  1972               36.088   13079460  739.981106\n",
              "5  Afghanistan       Asia  1977               38.438   14880372  786.113360\n",
              "6  Afghanistan       Asia  1982               39.854   12881816  978.011439\n",
              "7  Afghanistan       Asia  1987               40.822   13867957  852.395945\n",
              "8  Afghanistan       Asia  1992               41.674   16317921  649.341395\n",
              "9  Afghanistan       Asia  1997               41.763   22227415  635.341351"
            ]
          },
          "metadata": {
            "tags": []
          },
          "execution_count": 11
        }
      ]
    },
    {
      "cell_type": "code",
      "metadata": {
        "id": "lcvQZhhCcq2j",
        "outputId": "452e0d35-1994-41e9-a96b-0d1223c53829",
        "colab": {
          "base_uri": "https://localhost:8080/",
          "height": 34
        }
      },
      "source": [
        "#Total de linhas e colunas\n",
        "df.shape"
      ],
      "execution_count": null,
      "outputs": [
        {
          "output_type": "execute_result",
          "data": {
            "text/plain": [
              "(3312, 6)"
            ]
          },
          "metadata": {
            "tags": []
          },
          "execution_count": 13
        }
      ]
    },
    {
      "cell_type": "code",
      "metadata": {
        "id": "wjMe0mFFc0oE",
        "outputId": "f353f9c5-9cc0-42f5-9aaa-7c428d6105b3",
        "colab": {
          "base_uri": "https://localhost:8080/",
          "height": 34
        }
      },
      "source": [
        "df.columns"
      ],
      "execution_count": null,
      "outputs": [
        {
          "output_type": "execute_result",
          "data": {
            "text/plain": [
              "Index(['Pais', 'continente', 'Ano', 'Expectativa de vida', 'Pop Total', 'PIB'], dtype='object')"
            ]
          },
          "metadata": {
            "tags": []
          },
          "execution_count": 14
        }
      ]
    },
    {
      "cell_type": "code",
      "metadata": {
        "id": "-JxIhvy3c-d8",
        "outputId": "c46cc78b-7072-4098-dcf3-fb821374b19a",
        "colab": {
          "base_uri": "https://localhost:8080/",
          "height": 136
        }
      },
      "source": [
        "df.dtypes"
      ],
      "execution_count": null,
      "outputs": [
        {
          "output_type": "execute_result",
          "data": {
            "text/plain": [
              "Pais                    object\n",
              "continente              object\n",
              "Ano                      int64\n",
              "Expectativa de vida    float64\n",
              "Pop Total                int64\n",
              "PIB                    float64\n",
              "dtype: object"
            ]
          },
          "metadata": {
            "tags": []
          },
          "execution_count": 15
        }
      ]
    },
    {
      "cell_type": "code",
      "metadata": {
        "id": "QIlqBtybdDBM",
        "outputId": "e735668e-3867-47ba-8ec4-fc19d7c7b1ae",
        "colab": {
          "base_uri": "https://localhost:8080/",
          "height": 514
        }
      },
      "source": [
        "df.tail(15)"
      ],
      "execution_count": null,
      "outputs": [
        {
          "output_type": "execute_result",
          "data": {
            "text/html": [
              "<div>\n",
              "<style scoped>\n",
              "    .dataframe tbody tr th:only-of-type {\n",
              "        vertical-align: middle;\n",
              "    }\n",
              "\n",
              "    .dataframe tbody tr th {\n",
              "        vertical-align: top;\n",
              "    }\n",
              "\n",
              "    .dataframe thead th {\n",
              "        text-align: right;\n",
              "    }\n",
              "</style>\n",
              "<table border=\"1\" class=\"dataframe\">\n",
              "  <thead>\n",
              "    <tr style=\"text-align: right;\">\n",
              "      <th></th>\n",
              "      <th>Pais</th>\n",
              "      <th>continente</th>\n",
              "      <th>Ano</th>\n",
              "      <th>Expectativa de vida</th>\n",
              "      <th>Pop Total</th>\n",
              "      <th>PIB</th>\n",
              "    </tr>\n",
              "  </thead>\n",
              "  <tbody>\n",
              "    <tr>\n",
              "      <th>3297</th>\n",
              "      <td>Zambia</td>\n",
              "      <td>Africa</td>\n",
              "      <td>1997</td>\n",
              "      <td>40.238</td>\n",
              "      <td>9417789</td>\n",
              "      <td>1071.353818</td>\n",
              "    </tr>\n",
              "    <tr>\n",
              "      <th>3298</th>\n",
              "      <td>Zambia</td>\n",
              "      <td>Africa</td>\n",
              "      <td>2002</td>\n",
              "      <td>39.193</td>\n",
              "      <td>10595811</td>\n",
              "      <td>1071.613938</td>\n",
              "    </tr>\n",
              "    <tr>\n",
              "      <th>3299</th>\n",
              "      <td>Zambia</td>\n",
              "      <td>Africa</td>\n",
              "      <td>2007</td>\n",
              "      <td>42.384</td>\n",
              "      <td>11746035</td>\n",
              "      <td>1271.211593</td>\n",
              "    </tr>\n",
              "    <tr>\n",
              "      <th>3300</th>\n",
              "      <td>Zimbabwe</td>\n",
              "      <td>Africa</td>\n",
              "      <td>1952</td>\n",
              "      <td>48.451</td>\n",
              "      <td>3080907</td>\n",
              "      <td>406.884115</td>\n",
              "    </tr>\n",
              "    <tr>\n",
              "      <th>3301</th>\n",
              "      <td>Zimbabwe</td>\n",
              "      <td>Africa</td>\n",
              "      <td>1957</td>\n",
              "      <td>50.469</td>\n",
              "      <td>3646340</td>\n",
              "      <td>518.764268</td>\n",
              "    </tr>\n",
              "    <tr>\n",
              "      <th>3302</th>\n",
              "      <td>Zimbabwe</td>\n",
              "      <td>Africa</td>\n",
              "      <td>1962</td>\n",
              "      <td>52.358</td>\n",
              "      <td>4277736</td>\n",
              "      <td>527.272182</td>\n",
              "    </tr>\n",
              "    <tr>\n",
              "      <th>3303</th>\n",
              "      <td>Zimbabwe</td>\n",
              "      <td>Africa</td>\n",
              "      <td>1967</td>\n",
              "      <td>53.995</td>\n",
              "      <td>4995432</td>\n",
              "      <td>569.795071</td>\n",
              "    </tr>\n",
              "    <tr>\n",
              "      <th>3304</th>\n",
              "      <td>Zimbabwe</td>\n",
              "      <td>Africa</td>\n",
              "      <td>1972</td>\n",
              "      <td>55.635</td>\n",
              "      <td>5861135</td>\n",
              "      <td>799.362176</td>\n",
              "    </tr>\n",
              "    <tr>\n",
              "      <th>3305</th>\n",
              "      <td>Zimbabwe</td>\n",
              "      <td>Africa</td>\n",
              "      <td>1977</td>\n",
              "      <td>57.674</td>\n",
              "      <td>6642107</td>\n",
              "      <td>685.587682</td>\n",
              "    </tr>\n",
              "    <tr>\n",
              "      <th>3306</th>\n",
              "      <td>Zimbabwe</td>\n",
              "      <td>Africa</td>\n",
              "      <td>1982</td>\n",
              "      <td>60.363</td>\n",
              "      <td>7636524</td>\n",
              "      <td>788.855041</td>\n",
              "    </tr>\n",
              "    <tr>\n",
              "      <th>3307</th>\n",
              "      <td>Zimbabwe</td>\n",
              "      <td>Africa</td>\n",
              "      <td>1987</td>\n",
              "      <td>62.351</td>\n",
              "      <td>9216418</td>\n",
              "      <td>706.157306</td>\n",
              "    </tr>\n",
              "    <tr>\n",
              "      <th>3308</th>\n",
              "      <td>Zimbabwe</td>\n",
              "      <td>Africa</td>\n",
              "      <td>1992</td>\n",
              "      <td>60.377</td>\n",
              "      <td>10704340</td>\n",
              "      <td>693.420786</td>\n",
              "    </tr>\n",
              "    <tr>\n",
              "      <th>3309</th>\n",
              "      <td>Zimbabwe</td>\n",
              "      <td>Africa</td>\n",
              "      <td>1997</td>\n",
              "      <td>46.809</td>\n",
              "      <td>11404948</td>\n",
              "      <td>792.449960</td>\n",
              "    </tr>\n",
              "    <tr>\n",
              "      <th>3310</th>\n",
              "      <td>Zimbabwe</td>\n",
              "      <td>Africa</td>\n",
              "      <td>2002</td>\n",
              "      <td>39.989</td>\n",
              "      <td>11926563</td>\n",
              "      <td>672.038623</td>\n",
              "    </tr>\n",
              "    <tr>\n",
              "      <th>3311</th>\n",
              "      <td>Zimbabwe</td>\n",
              "      <td>Africa</td>\n",
              "      <td>2007</td>\n",
              "      <td>43.487</td>\n",
              "      <td>12311143</td>\n",
              "      <td>469.709298</td>\n",
              "    </tr>\n",
              "  </tbody>\n",
              "</table>\n",
              "</div>"
            ],
            "text/plain": [
              "          Pais continente   Ano  Expectativa de vida  Pop Total          PIB\n",
              "3297    Zambia     Africa  1997               40.238    9417789  1071.353818\n",
              "3298    Zambia     Africa  2002               39.193   10595811  1071.613938\n",
              "3299    Zambia     Africa  2007               42.384   11746035  1271.211593\n",
              "3300  Zimbabwe     Africa  1952               48.451    3080907   406.884115\n",
              "3301  Zimbabwe     Africa  1957               50.469    3646340   518.764268\n",
              "3302  Zimbabwe     Africa  1962               52.358    4277736   527.272182\n",
              "3303  Zimbabwe     Africa  1967               53.995    4995432   569.795071\n",
              "3304  Zimbabwe     Africa  1972               55.635    5861135   799.362176\n",
              "3305  Zimbabwe     Africa  1977               57.674    6642107   685.587682\n",
              "3306  Zimbabwe     Africa  1982               60.363    7636524   788.855041\n",
              "3307  Zimbabwe     Africa  1987               62.351    9216418   706.157306\n",
              "3308  Zimbabwe     Africa  1992               60.377   10704340   693.420786\n",
              "3309  Zimbabwe     Africa  1997               46.809   11404948   792.449960\n",
              "3310  Zimbabwe     Africa  2002               39.989   11926563   672.038623\n",
              "3311  Zimbabwe     Africa  2007               43.487   12311143   469.709298"
            ]
          },
          "metadata": {
            "tags": []
          },
          "execution_count": 17
        }
      ]
    },
    {
      "cell_type": "code",
      "metadata": {
        "id": "7FBeX6LIdWEG",
        "outputId": "fea4c019-c73c-4b4d-9afb-63a77e1be27c",
        "colab": {
          "base_uri": "https://localhost:8080/",
          "height": 297
        }
      },
      "source": [
        "df.describe()"
      ],
      "execution_count": null,
      "outputs": [
        {
          "output_type": "execute_result",
          "data": {
            "text/html": [
              "<div>\n",
              "<style scoped>\n",
              "    .dataframe tbody tr th:only-of-type {\n",
              "        vertical-align: middle;\n",
              "    }\n",
              "\n",
              "    .dataframe tbody tr th {\n",
              "        vertical-align: top;\n",
              "    }\n",
              "\n",
              "    .dataframe thead th {\n",
              "        text-align: right;\n",
              "    }\n",
              "</style>\n",
              "<table border=\"1\" class=\"dataframe\">\n",
              "  <thead>\n",
              "    <tr style=\"text-align: right;\">\n",
              "      <th></th>\n",
              "      <th>Ano</th>\n",
              "      <th>Expectativa de vida</th>\n",
              "      <th>Pop Total</th>\n",
              "      <th>PIB</th>\n",
              "    </tr>\n",
              "  </thead>\n",
              "  <tbody>\n",
              "    <tr>\n",
              "      <th>count</th>\n",
              "      <td>3312.000000</td>\n",
              "      <td>3312.000000</td>\n",
              "      <td>3.312000e+03</td>\n",
              "      <td>3312.000000</td>\n",
              "    </tr>\n",
              "    <tr>\n",
              "      <th>mean</th>\n",
              "      <td>1980.301630</td>\n",
              "      <td>65.246871</td>\n",
              "      <td>3.161489e+07</td>\n",
              "      <td>11317.115805</td>\n",
              "    </tr>\n",
              "    <tr>\n",
              "      <th>std</th>\n",
              "      <td>16.927294</td>\n",
              "      <td>11.768412</td>\n",
              "      <td>1.041193e+08</td>\n",
              "      <td>11369.142739</td>\n",
              "    </tr>\n",
              "    <tr>\n",
              "      <th>min</th>\n",
              "      <td>1950.000000</td>\n",
              "      <td>23.599000</td>\n",
              "      <td>5.941200e+04</td>\n",
              "      <td>241.165877</td>\n",
              "    </tr>\n",
              "    <tr>\n",
              "      <th>25%</th>\n",
              "      <td>1967.000000</td>\n",
              "      <td>58.337500</td>\n",
              "      <td>2.678572e+06</td>\n",
              "      <td>2514.625266</td>\n",
              "    </tr>\n",
              "    <tr>\n",
              "      <th>50%</th>\n",
              "      <td>1982.000000</td>\n",
              "      <td>69.610000</td>\n",
              "      <td>7.557218e+06</td>\n",
              "      <td>7838.505123</td>\n",
              "    </tr>\n",
              "    <tr>\n",
              "      <th>75%</th>\n",
              "      <td>1996.000000</td>\n",
              "      <td>73.657750</td>\n",
              "      <td>1.958522e+07</td>\n",
              "      <td>17357.879170</td>\n",
              "    </tr>\n",
              "    <tr>\n",
              "      <th>max</th>\n",
              "      <td>2007.000000</td>\n",
              "      <td>82.670000</td>\n",
              "      <td>1.318683e+09</td>\n",
              "      <td>113523.132900</td>\n",
              "    </tr>\n",
              "  </tbody>\n",
              "</table>\n",
              "</div>"
            ],
            "text/plain": [
              "               Ano  Expectativa de vida     Pop Total            PIB\n",
              "count  3312.000000          3312.000000  3.312000e+03    3312.000000\n",
              "mean   1980.301630            65.246871  3.161489e+07   11317.115805\n",
              "std      16.927294            11.768412  1.041193e+08   11369.142739\n",
              "min    1950.000000            23.599000  5.941200e+04     241.165877\n",
              "25%    1967.000000            58.337500  2.678572e+06    2514.625266\n",
              "50%    1982.000000            69.610000  7.557218e+06    7838.505123\n",
              "75%    1996.000000            73.657750  1.958522e+07   17357.879170\n",
              "max    2007.000000            82.670000  1.318683e+09  113523.132900"
            ]
          },
          "metadata": {
            "tags": []
          },
          "execution_count": 18
        }
      ]
    },
    {
      "cell_type": "code",
      "metadata": {
        "id": "VpiTdqMDdg2J",
        "outputId": "655b7629-c6d8-41b0-b9a9-437485c2e3f5",
        "colab": {
          "base_uri": "https://localhost:8080/",
          "height": 51
        }
      },
      "source": [
        "df[\"continente\"].unique()"
      ],
      "execution_count": null,
      "outputs": [
        {
          "output_type": "execute_result",
          "data": {
            "text/plain": [
              "array(['Asia', 'Europe', 'Africa', 'Americas', nan, 'FSU', 'Oceania'],\n",
              "      dtype=object)"
            ]
          },
          "metadata": {
            "tags": []
          },
          "execution_count": 19
        }
      ]
    },
    {
      "cell_type": "code",
      "metadata": {
        "id": "iYkqpfomeFv0",
        "outputId": "c170c52e-aae8-4dc3-a0ce-8e8e25710c53",
        "colab": {
          "base_uri": "https://localhost:8080/",
          "height": 204
        }
      },
      "source": [
        "Oceania = df.loc[df[\"continente\"] == \"Oceania\"]\n",
        "Oceania.head()"
      ],
      "execution_count": null,
      "outputs": [
        {
          "output_type": "execute_result",
          "data": {
            "text/html": [
              "<div>\n",
              "<style scoped>\n",
              "    .dataframe tbody tr th:only-of-type {\n",
              "        vertical-align: middle;\n",
              "    }\n",
              "\n",
              "    .dataframe tbody tr th {\n",
              "        vertical-align: top;\n",
              "    }\n",
              "\n",
              "    .dataframe thead th {\n",
              "        text-align: right;\n",
              "    }\n",
              "</style>\n",
              "<table border=\"1\" class=\"dataframe\">\n",
              "  <thead>\n",
              "    <tr style=\"text-align: right;\">\n",
              "      <th></th>\n",
              "      <th>Pais</th>\n",
              "      <th>continente</th>\n",
              "      <th>Ano</th>\n",
              "      <th>Expectativa de vida</th>\n",
              "      <th>Pop Total</th>\n",
              "      <th>PIB</th>\n",
              "    </tr>\n",
              "  </thead>\n",
              "  <tbody>\n",
              "    <tr>\n",
              "      <th>975</th>\n",
              "      <td>Fiji</td>\n",
              "      <td>Oceania</td>\n",
              "      <td>1962</td>\n",
              "      <td>56.494</td>\n",
              "      <td>421869</td>\n",
              "      <td>2039.393277</td>\n",
              "    </tr>\n",
              "    <tr>\n",
              "      <th>976</th>\n",
              "      <td>Fiji</td>\n",
              "      <td>Oceania</td>\n",
              "      <td>1967</td>\n",
              "      <td>58.607</td>\n",
              "      <td>485000</td>\n",
              "      <td>2170.073285</td>\n",
              "    </tr>\n",
              "    <tr>\n",
              "      <th>977</th>\n",
              "      <td>Fiji</td>\n",
              "      <td>Oceania</td>\n",
              "      <td>1972</td>\n",
              "      <td>60.642</td>\n",
              "      <td>544000</td>\n",
              "      <td>2797.759484</td>\n",
              "    </tr>\n",
              "    <tr>\n",
              "      <th>978</th>\n",
              "      <td>Fiji</td>\n",
              "      <td>Oceania</td>\n",
              "      <td>1977</td>\n",
              "      <td>62.669</td>\n",
              "      <td>599339</td>\n",
              "      <td>3182.569600</td>\n",
              "    </tr>\n",
              "    <tr>\n",
              "      <th>979</th>\n",
              "      <td>Fiji</td>\n",
              "      <td>Oceania</td>\n",
              "      <td>1982</td>\n",
              "      <td>64.683</td>\n",
              "      <td>658906</td>\n",
              "      <td>3209.257468</td>\n",
              "    </tr>\n",
              "  </tbody>\n",
              "</table>\n",
              "</div>"
            ],
            "text/plain": [
              "     Pais continente   Ano  Expectativa de vida  Pop Total          PIB\n",
              "975  Fiji    Oceania  1962               56.494     421869  2039.393277\n",
              "976  Fiji    Oceania  1967               58.607     485000  2170.073285\n",
              "977  Fiji    Oceania  1972               60.642     544000  2797.759484\n",
              "978  Fiji    Oceania  1977               62.669     599339  3182.569600\n",
              "979  Fiji    Oceania  1982               64.683     658906  3209.257468"
            ]
          },
          "metadata": {
            "tags": []
          },
          "execution_count": 20
        }
      ]
    },
    {
      "cell_type": "code",
      "metadata": {
        "id": "lBRxYPZEecyH",
        "outputId": "b4d817fe-cf25-475c-af3f-fbf0722526d6",
        "colab": {
          "base_uri": "https://localhost:8080/",
          "height": 34
        }
      },
      "source": [
        "Oceania[\"continente\"].unique()"
      ],
      "execution_count": null,
      "outputs": [
        {
          "output_type": "execute_result",
          "data": {
            "text/plain": [
              "array(['Oceania'], dtype=object)"
            ]
          },
          "metadata": {
            "tags": []
          },
          "execution_count": 21
        }
      ]
    },
    {
      "cell_type": "code",
      "metadata": {
        "id": "YtYzNHw4eije",
        "outputId": "9884fd7b-8703-4306-9c0e-17b074e19e75",
        "colab": {
          "base_uri": "https://localhost:8080/",
          "height": 153
        }
      },
      "source": [
        "df.groupby(\"continente\")[\"Pais\"].nunique()"
      ],
      "execution_count": null,
      "outputs": [
        {
          "output_type": "execute_result",
          "data": {
            "text/plain": [
              "continente\n",
              "Africa      51\n",
              "Americas    25\n",
              "Asia        41\n",
              "Europe      35\n",
              "FSU          6\n",
              "Oceania      3\n",
              "Name: Pais, dtype: int64"
            ]
          },
          "metadata": {
            "tags": []
          },
          "execution_count": 22
        }
      ]
    },
    {
      "cell_type": "code",
      "metadata": {
        "id": "JXyJK1M6e4p5",
        "outputId": "3dd7b00d-c1ce-4a34-9119-d49c07631c2f",
        "colab": {
          "base_uri": "https://localhost:8080/",
          "height": 1000
        }
      },
      "source": [
        "df.groupby(\"Ano\")[\"Expectativa de vida\"].mean()"
      ],
      "execution_count": null,
      "outputs": [
        {
          "output_type": "execute_result",
          "data": {
            "text/plain": [
              "Ano\n",
              "1950    62.002568\n",
              "1951    65.904167\n",
              "1952    49.206867\n",
              "1953    66.674563\n",
              "1954    67.459817\n",
              "1955    67.806757\n",
              "1956    67.950637\n",
              "1957    51.614590\n",
              "1958    68.815936\n",
              "1959    68.226579\n",
              "1960    68.470837\n",
              "1961    68.862480\n",
              "1962    54.035234\n",
              "1963    69.595735\n",
              "1964    70.063105\n",
              "1965    70.259881\n",
              "1966    70.447526\n",
              "1967    56.263629\n",
              "1968    70.689081\n",
              "1969    70.653896\n",
              "1970    70.961141\n",
              "1971    71.103976\n",
              "1972    58.474481\n",
              "1973    71.500338\n",
              "1974    71.778504\n",
              "1975    71.939218\n",
              "1976    72.158050\n",
              "1977    60.429090\n",
              "1978    72.717567\n",
              "1979    73.018717\n",
              "1980    73.064524\n",
              "1981    73.337399\n",
              "1982    62.365871\n",
              "1983    73.787778\n",
              "1984    74.100741\n",
              "1985    74.112222\n",
              "1986    74.452222\n",
              "1987    63.984860\n",
              "1988    74.760000\n",
              "1989    74.924444\n",
              "1990    74.283437\n",
              "1991    74.374848\n",
              "1992    65.008443\n",
              "1993    74.324545\n",
              "1994    74.456667\n",
              "1995    74.552727\n",
              "1996    75.029394\n",
              "1997    65.873799\n",
              "1998    75.569697\n",
              "1999    75.703636\n",
              "2000    76.026364\n",
              "2001    76.257879\n",
              "2002    66.835695\n",
              "2003    76.586667\n",
              "2004    76.921563\n",
              "2005    76.718667\n",
              "2006    77.887778\n",
              "2007    67.868557\n",
              "Name: Expectativa de vida, dtype: float64"
            ]
          },
          "metadata": {
            "tags": []
          },
          "execution_count": 23
        }
      ]
    },
    {
      "cell_type": "code",
      "metadata": {
        "id": "77-NQlTzfVNc",
        "outputId": "b7a2a84c-4b88-4829-9e59-47544e2eb34b",
        "colab": {
          "base_uri": "https://localhost:8080/",
          "height": 34
        }
      },
      "source": [
        "df[\"PIB\"].mean()"
      ],
      "execution_count": null,
      "outputs": [
        {
          "output_type": "execute_result",
          "data": {
            "text/plain": [
              "11317.115804696637"
            ]
          },
          "metadata": {
            "tags": []
          },
          "execution_count": 24
        }
      ]
    },
    {
      "cell_type": "code",
      "metadata": {
        "id": "0lsZACzvfg80",
        "outputId": "18227421-4647-4efb-e95e-cfbca6671b34",
        "colab": {
          "base_uri": "https://localhost:8080/",
          "height": 165
        }
      },
      "source": [
        "df[\"PIB\"].sum()"
      ],
      "execution_count": 16,
      "outputs": [
        {
          "output_type": "error",
          "ename": "NameError",
          "evalue": "ignored",
          "traceback": [
            "\u001b[0;31m---------------------------------------------------------------------------\u001b[0m",
            "\u001b[0;31mNameError\u001b[0m                                 Traceback (most recent call last)",
            "\u001b[0;32m<ipython-input-16-d2509c0e6845>\u001b[0m in \u001b[0;36m<module>\u001b[0;34m\u001b[0m\n\u001b[0;32m----> 1\u001b[0;31m \u001b[0mdf\u001b[0m\u001b[0;34m[\u001b[0m\u001b[0;34m\"PIB\"\u001b[0m\u001b[0;34m]\u001b[0m\u001b[0;34m.\u001b[0m\u001b[0msum\u001b[0m\u001b[0;34m(\u001b[0m\u001b[0;34m)\u001b[0m\u001b[0;34m\u001b[0m\u001b[0;34m\u001b[0m\u001b[0m\n\u001b[0m",
            "\u001b[0;31mNameError\u001b[0m: name 'df' is not defined"
          ]
        }
      ]
    },
    {
      "cell_type": "code",
      "source": [],
      "metadata": {
        "id": "J2uEUvX6bosx"
      },
      "execution_count": null,
      "outputs": []
    },
    {
      "cell_type": "code",
      "metadata": {
        "id": "Jwz3_uGfzmYp"
      },
      "source": [
        "#Importando a biblioteca\n",
        "import pandas as pd"
      ],
      "execution_count": null,
      "outputs": []
    },
    {
      "cell_type": "code",
      "metadata": {
        "id": "pCTDd0YKzqkc"
      },
      "source": [
        "#Leitura dos arquivos\n",
        "df1 = pd.read_excel(\"Aracaju.xlsx\")\n",
        "df2 = pd.read_excel(\"Fortaleza.xlsx\")\n",
        "df3 = pd.read_excel(\"Natal.xlsx\")\n",
        "df4 = pd.read_excel(\"Recife.xlsx\")\n",
        "df5 = pd.read_excel(\"Salvador.xlsx\")"
      ],
      "execution_count": null,
      "outputs": []
    },
    {
      "cell_type": "code",
      "metadata": {
        "id": "bt3rZ7tWBPj7",
        "colab": {
          "base_uri": "https://localhost:8080/",
          "height": 204
        },
        "outputId": "ffe2a67a-51ad-4749-d941-81cdd22dd29b"
      },
      "source": [
        "df5.head()"
      ],
      "execution_count": null,
      "outputs": [
        {
          "output_type": "execute_result",
          "data": {
            "text/html": [
              "<div>\n",
              "<style scoped>\n",
              "    .dataframe tbody tr th:only-of-type {\n",
              "        vertical-align: middle;\n",
              "    }\n",
              "\n",
              "    .dataframe tbody tr th {\n",
              "        vertical-align: top;\n",
              "    }\n",
              "\n",
              "    .dataframe thead th {\n",
              "        text-align: right;\n",
              "    }\n",
              "</style>\n",
              "<table border=\"1\" class=\"dataframe\">\n",
              "  <thead>\n",
              "    <tr style=\"text-align: right;\">\n",
              "      <th></th>\n",
              "      <th>Cidade</th>\n",
              "      <th>Data</th>\n",
              "      <th>Vendas</th>\n",
              "      <th>LojaID</th>\n",
              "      <th>Qtde</th>\n",
              "    </tr>\n",
              "  </thead>\n",
              "  <tbody>\n",
              "    <tr>\n",
              "      <th>0</th>\n",
              "      <td>Salvador</td>\n",
              "      <td>2018-01-01</td>\n",
              "      <td>31.06</td>\n",
              "      <td>1037</td>\n",
              "      <td>3</td>\n",
              "    </tr>\n",
              "    <tr>\n",
              "      <th>1</th>\n",
              "      <td>Salvador</td>\n",
              "      <td>2018-01-01</td>\n",
              "      <td>19.02</td>\n",
              "      <td>1034</td>\n",
              "      <td>3</td>\n",
              "    </tr>\n",
              "    <tr>\n",
              "      <th>2</th>\n",
              "      <td>Salvador</td>\n",
              "      <td>2019-02-10</td>\n",
              "      <td>173.59</td>\n",
              "      <td>1035</td>\n",
              "      <td>3</td>\n",
              "    </tr>\n",
              "    <tr>\n",
              "      <th>3</th>\n",
              "      <td>Salvador</td>\n",
              "      <td>2019-02-10</td>\n",
              "      <td>176.34</td>\n",
              "      <td>1037</td>\n",
              "      <td>3</td>\n",
              "    </tr>\n",
              "    <tr>\n",
              "      <th>4</th>\n",
              "      <td>Salvador</td>\n",
              "      <td>2019-02-14</td>\n",
              "      <td>19.47</td>\n",
              "      <td>1037</td>\n",
              "      <td>3</td>\n",
              "    </tr>\n",
              "  </tbody>\n",
              "</table>\n",
              "</div>"
            ],
            "text/plain": [
              "     Cidade       Data  Vendas  LojaID  Qtde\n",
              "0  Salvador 2018-01-01   31.06    1037     3\n",
              "1  Salvador 2018-01-01   19.02    1034     3\n",
              "2  Salvador 2019-02-10  173.59    1035     3\n",
              "3  Salvador 2019-02-10  176.34    1037     3\n",
              "4  Salvador 2019-02-14   19.47    1037     3"
            ]
          },
          "metadata": {
            "tags": []
          },
          "execution_count": 113
        }
      ]
    },
    {
      "cell_type": "code",
      "metadata": {
        "id": "7CUnX6220WVx"
      },
      "source": [
        "#juntando todos os arquivos\n",
        "df = pd.concat([df1,df2,df3,df4,df5])"
      ],
      "execution_count": null,
      "outputs": []
    },
    {
      "cell_type": "code",
      "metadata": {
        "id": "3ZFau-ii08Lr",
        "colab": {
          "base_uri": "https://localhost:8080/",
          "height": 204
        },
        "outputId": "f1ed7fc3-ac01-4af0-cfae-392c343ffb03"
      },
      "source": [
        "#Exibindo as 5 primeiras linhas\n",
        "df.head()"
      ],
      "execution_count": null,
      "outputs": [
        {
          "output_type": "execute_result",
          "data": {
            "text/html": [
              "<div>\n",
              "<style scoped>\n",
              "    .dataframe tbody tr th:only-of-type {\n",
              "        vertical-align: middle;\n",
              "    }\n",
              "\n",
              "    .dataframe tbody tr th {\n",
              "        vertical-align: top;\n",
              "    }\n",
              "\n",
              "    .dataframe thead th {\n",
              "        text-align: right;\n",
              "    }\n",
              "</style>\n",
              "<table border=\"1\" class=\"dataframe\">\n",
              "  <thead>\n",
              "    <tr style=\"text-align: right;\">\n",
              "      <th></th>\n",
              "      <th>Cidade</th>\n",
              "      <th>Data</th>\n",
              "      <th>Vendas</th>\n",
              "      <th>LojaID</th>\n",
              "      <th>Qtde</th>\n",
              "    </tr>\n",
              "  </thead>\n",
              "  <tbody>\n",
              "    <tr>\n",
              "      <th>0</th>\n",
              "      <td>Aracaju</td>\n",
              "      <td>2018-01-01</td>\n",
              "      <td>142.00</td>\n",
              "      <td>1520</td>\n",
              "      <td>1</td>\n",
              "    </tr>\n",
              "    <tr>\n",
              "      <th>1</th>\n",
              "      <td>Aracaju</td>\n",
              "      <td>2018-01-01</td>\n",
              "      <td>14.21</td>\n",
              "      <td>1522</td>\n",
              "      <td>6</td>\n",
              "    </tr>\n",
              "    <tr>\n",
              "      <th>2</th>\n",
              "      <td>Aracaju</td>\n",
              "      <td>2018-01-01</td>\n",
              "      <td>71.55</td>\n",
              "      <td>1520</td>\n",
              "      <td>1</td>\n",
              "    </tr>\n",
              "    <tr>\n",
              "      <th>3</th>\n",
              "      <td>Aracaju</td>\n",
              "      <td>2018-01-01</td>\n",
              "      <td>3.01</td>\n",
              "      <td>1521</td>\n",
              "      <td>7</td>\n",
              "    </tr>\n",
              "    <tr>\n",
              "      <th>4</th>\n",
              "      <td>Aracaju</td>\n",
              "      <td>2018-01-01</td>\n",
              "      <td>24.51</td>\n",
              "      <td>1522</td>\n",
              "      <td>8</td>\n",
              "    </tr>\n",
              "  </tbody>\n",
              "</table>\n",
              "</div>"
            ],
            "text/plain": [
              "    Cidade       Data  Vendas  LojaID  Qtde\n",
              "0  Aracaju 2018-01-01  142.00    1520     1\n",
              "1  Aracaju 2018-01-01   14.21    1522     6\n",
              "2  Aracaju 2018-01-01   71.55    1520     1\n",
              "3  Aracaju 2018-01-01    3.01    1521     7\n",
              "4  Aracaju 2018-01-01   24.51    1522     8"
            ]
          },
          "metadata": {
            "tags": []
          },
          "execution_count": 115
        }
      ]
    },
    {
      "cell_type": "code",
      "metadata": {
        "id": "oURFLxhL09Uq",
        "colab": {
          "base_uri": "https://localhost:8080/",
          "height": 204
        },
        "outputId": "15c819f5-a1c0-42ac-a1be-4727c424340a"
      },
      "source": [
        "#Exibindo as 5 últimas linhas\n",
        "df.tail()"
      ],
      "execution_count": null,
      "outputs": [
        {
          "output_type": "execute_result",
          "data": {
            "text/html": [
              "<div>\n",
              "<style scoped>\n",
              "    .dataframe tbody tr th:only-of-type {\n",
              "        vertical-align: middle;\n",
              "    }\n",
              "\n",
              "    .dataframe tbody tr th {\n",
              "        vertical-align: top;\n",
              "    }\n",
              "\n",
              "    .dataframe thead th {\n",
              "        text-align: right;\n",
              "    }\n",
              "</style>\n",
              "<table border=\"1\" class=\"dataframe\">\n",
              "  <thead>\n",
              "    <tr style=\"text-align: right;\">\n",
              "      <th></th>\n",
              "      <th>Cidade</th>\n",
              "      <th>Data</th>\n",
              "      <th>Vendas</th>\n",
              "      <th>LojaID</th>\n",
              "      <th>Qtde</th>\n",
              "    </tr>\n",
              "  </thead>\n",
              "  <tbody>\n",
              "    <tr>\n",
              "      <th>235</th>\n",
              "      <td>Salvador</td>\n",
              "      <td>2019-01-03</td>\n",
              "      <td>41.84</td>\n",
              "      <td>1034</td>\n",
              "      <td>1</td>\n",
              "    </tr>\n",
              "    <tr>\n",
              "      <th>236</th>\n",
              "      <td>Salvador</td>\n",
              "      <td>2019-01-03</td>\n",
              "      <td>126.29</td>\n",
              "      <td>1035</td>\n",
              "      <td>3</td>\n",
              "    </tr>\n",
              "    <tr>\n",
              "      <th>237</th>\n",
              "      <td>Salvador</td>\n",
              "      <td>2019-01-03</td>\n",
              "      <td>38.06</td>\n",
              "      <td>1036</td>\n",
              "      <td>3</td>\n",
              "    </tr>\n",
              "    <tr>\n",
              "      <th>238</th>\n",
              "      <td>Salvador</td>\n",
              "      <td>2019-01-03</td>\n",
              "      <td>139.64</td>\n",
              "      <td>1035</td>\n",
              "      <td>1</td>\n",
              "    </tr>\n",
              "    <tr>\n",
              "      <th>239</th>\n",
              "      <td>Salvador</td>\n",
              "      <td>2019-01-03</td>\n",
              "      <td>161.41</td>\n",
              "      <td>1037</td>\n",
              "      <td>3</td>\n",
              "    </tr>\n",
              "  </tbody>\n",
              "</table>\n",
              "</div>"
            ],
            "text/plain": [
              "       Cidade       Data  Vendas  LojaID  Qtde\n",
              "235  Salvador 2019-01-03   41.84    1034     1\n",
              "236  Salvador 2019-01-03  126.29    1035     3\n",
              "237  Salvador 2019-01-03   38.06    1036     3\n",
              "238  Salvador 2019-01-03  139.64    1035     1\n",
              "239  Salvador 2019-01-03  161.41    1037     3"
            ]
          },
          "metadata": {
            "tags": []
          },
          "execution_count": 54
        }
      ]
    },
    {
      "cell_type": "code",
      "metadata": {
        "id": "j8eDDblOBsRG",
        "colab": {
          "base_uri": "https://localhost:8080/",
          "height": 204
        },
        "outputId": "efe39301-6ece-4446-a3b9-60cb39095e69"
      },
      "source": [
        "df.sample(5)"
      ],
      "execution_count": null,
      "outputs": [
        {
          "output_type": "execute_result",
          "data": {
            "text/html": [
              "<div>\n",
              "<style scoped>\n",
              "    .dataframe tbody tr th:only-of-type {\n",
              "        vertical-align: middle;\n",
              "    }\n",
              "\n",
              "    .dataframe tbody tr th {\n",
              "        vertical-align: top;\n",
              "    }\n",
              "\n",
              "    .dataframe thead th {\n",
              "        text-align: right;\n",
              "    }\n",
              "</style>\n",
              "<table border=\"1\" class=\"dataframe\">\n",
              "  <thead>\n",
              "    <tr style=\"text-align: right;\">\n",
              "      <th></th>\n",
              "      <th>Cidade</th>\n",
              "      <th>Data</th>\n",
              "      <th>Vendas</th>\n",
              "      <th>LojaID</th>\n",
              "      <th>Qtde</th>\n",
              "    </tr>\n",
              "  </thead>\n",
              "  <tbody>\n",
              "    <tr>\n",
              "      <th>55</th>\n",
              "      <td>Aracaju</td>\n",
              "      <td>2018-01-01</td>\n",
              "      <td>67.23</td>\n",
              "      <td>1520</td>\n",
              "      <td>8</td>\n",
              "    </tr>\n",
              "    <tr>\n",
              "      <th>228</th>\n",
              "      <td>Natal</td>\n",
              "      <td>2019-01-02</td>\n",
              "      <td>6.87</td>\n",
              "      <td>1037</td>\n",
              "      <td>3</td>\n",
              "    </tr>\n",
              "    <tr>\n",
              "      <th>12</th>\n",
              "      <td>Recife</td>\n",
              "      <td>2019-01-01</td>\n",
              "      <td>17.48</td>\n",
              "      <td>982</td>\n",
              "      <td>2</td>\n",
              "    </tr>\n",
              "    <tr>\n",
              "      <th>68</th>\n",
              "      <td>Salvador</td>\n",
              "      <td>2019-01-01</td>\n",
              "      <td>162.35</td>\n",
              "      <td>1037</td>\n",
              "      <td>3</td>\n",
              "    </tr>\n",
              "    <tr>\n",
              "      <th>160</th>\n",
              "      <td>Natal</td>\n",
              "      <td>2019-01-02</td>\n",
              "      <td>11.76</td>\n",
              "      <td>1034</td>\n",
              "      <td>1</td>\n",
              "    </tr>\n",
              "  </tbody>\n",
              "</table>\n",
              "</div>"
            ],
            "text/plain": [
              "       Cidade       Data  Vendas  LojaID  Qtde\n",
              "55    Aracaju 2018-01-01   67.23    1520     8\n",
              "228     Natal 2019-01-02    6.87    1037     3\n",
              "12     Recife 2019-01-01   17.48     982     2\n",
              "68   Salvador 2019-01-01  162.35    1037     3\n",
              "160     Natal 2019-01-02   11.76    1034     1"
            ]
          },
          "metadata": {
            "tags": []
          },
          "execution_count": 57
        }
      ]
    },
    {
      "cell_type": "code",
      "metadata": {
        "id": "kw0zQfVL0_-L",
        "colab": {
          "base_uri": "https://localhost:8080/",
          "height": 119
        },
        "outputId": "3617ad27-63b0-483f-ea6e-1a8413272afc"
      },
      "source": [
        "#Verificando o tipo de dado de cada coluna\n",
        "df.dtypes"
      ],
      "execution_count": null,
      "outputs": [
        {
          "output_type": "execute_result",
          "data": {
            "text/plain": [
              "Cidade            object\n",
              "Data      datetime64[ns]\n",
              "Vendas           float64\n",
              "LojaID             int64\n",
              "Qtde               int64\n",
              "dtype: object"
            ]
          },
          "metadata": {
            "tags": []
          },
          "execution_count": 58
        }
      ]
    },
    {
      "cell_type": "code",
      "metadata": {
        "id": "JB2rkM0b1kKF"
      },
      "source": [
        "#Alterando o tipo de dado da coluna LojaID\n",
        "df[\"LojaID\"] = df[\"LojaID\"].astype(\"object\")"
      ],
      "execution_count": null,
      "outputs": []
    },
    {
      "cell_type": "code",
      "metadata": {
        "id": "3t1uir2H1w3x",
        "colab": {
          "base_uri": "https://localhost:8080/",
          "height": 119
        },
        "outputId": "a8d766f2-504e-4fcb-dc09-842b4c5218b6"
      },
      "source": [
        "df.dtypes"
      ],
      "execution_count": null,
      "outputs": [
        {
          "output_type": "execute_result",
          "data": {
            "text/plain": [
              "Cidade            object\n",
              "Data      datetime64[ns]\n",
              "Vendas           float64\n",
              "LojaID            object\n",
              "Qtde               int64\n",
              "dtype: object"
            ]
          },
          "metadata": {
            "tags": []
          },
          "execution_count": 60
        }
      ]
    },
    {
      "cell_type": "code",
      "metadata": {
        "id": "B0Z8PPuJ19dc",
        "colab": {
          "base_uri": "https://localhost:8080/",
          "height": 204
        },
        "outputId": "10d2f11c-d421-4434-fe61-dfa537b7d6bf"
      },
      "source": [
        "df.head()"
      ],
      "execution_count": null,
      "outputs": [
        {
          "output_type": "execute_result",
          "data": {
            "text/html": [
              "<div>\n",
              "<style scoped>\n",
              "    .dataframe tbody tr th:only-of-type {\n",
              "        vertical-align: middle;\n",
              "    }\n",
              "\n",
              "    .dataframe tbody tr th {\n",
              "        vertical-align: top;\n",
              "    }\n",
              "\n",
              "    .dataframe thead th {\n",
              "        text-align: right;\n",
              "    }\n",
              "</style>\n",
              "<table border=\"1\" class=\"dataframe\">\n",
              "  <thead>\n",
              "    <tr style=\"text-align: right;\">\n",
              "      <th></th>\n",
              "      <th>Cidade</th>\n",
              "      <th>Data</th>\n",
              "      <th>Vendas</th>\n",
              "      <th>LojaID</th>\n",
              "      <th>Qtde</th>\n",
              "    </tr>\n",
              "  </thead>\n",
              "  <tbody>\n",
              "    <tr>\n",
              "      <th>0</th>\n",
              "      <td>Aracaju</td>\n",
              "      <td>2018-01-01</td>\n",
              "      <td>142.00</td>\n",
              "      <td>1520</td>\n",
              "      <td>1</td>\n",
              "    </tr>\n",
              "    <tr>\n",
              "      <th>1</th>\n",
              "      <td>Aracaju</td>\n",
              "      <td>2018-01-01</td>\n",
              "      <td>14.21</td>\n",
              "      <td>1522</td>\n",
              "      <td>6</td>\n",
              "    </tr>\n",
              "    <tr>\n",
              "      <th>2</th>\n",
              "      <td>Aracaju</td>\n",
              "      <td>2018-01-01</td>\n",
              "      <td>71.55</td>\n",
              "      <td>1520</td>\n",
              "      <td>1</td>\n",
              "    </tr>\n",
              "    <tr>\n",
              "      <th>3</th>\n",
              "      <td>Aracaju</td>\n",
              "      <td>2018-01-01</td>\n",
              "      <td>3.01</td>\n",
              "      <td>1521</td>\n",
              "      <td>7</td>\n",
              "    </tr>\n",
              "    <tr>\n",
              "      <th>4</th>\n",
              "      <td>Aracaju</td>\n",
              "      <td>2018-01-01</td>\n",
              "      <td>24.51</td>\n",
              "      <td>1522</td>\n",
              "      <td>8</td>\n",
              "    </tr>\n",
              "  </tbody>\n",
              "</table>\n",
              "</div>"
            ],
            "text/plain": [
              "    Cidade       Data  Vendas LojaID  Qtde\n",
              "0  Aracaju 2018-01-01  142.00   1520     1\n",
              "1  Aracaju 2018-01-01   14.21   1522     6\n",
              "2  Aracaju 2018-01-01   71.55   1520     1\n",
              "3  Aracaju 2018-01-01    3.01   1521     7\n",
              "4  Aracaju 2018-01-01   24.51   1522     8"
            ]
          },
          "metadata": {
            "tags": []
          },
          "execution_count": 61
        }
      ]
    },
    {
      "cell_type": "markdown",
      "metadata": {
        "id": "br1B_k4v2HVF"
      },
      "source": [
        "**Tratando valores faltantes**"
      ]
    },
    {
      "cell_type": "code",
      "metadata": {
        "id": "J5L9EehP2MQ_",
        "colab": {
          "base_uri": "https://localhost:8080/",
          "height": 119
        },
        "outputId": "91e21217-879a-426d-8b2b-fb15e77b2f87"
      },
      "source": [
        "#Consultando linhas com valores faltantes\n",
        "df.isnull().sum()"
      ],
      "execution_count": null,
      "outputs": [
        {
          "output_type": "execute_result",
          "data": {
            "text/plain": [
              "Cidade    0\n",
              "Data      0\n",
              "Vendas    7\n",
              "LojaID    0\n",
              "Qtde      0\n",
              "dtype: int64"
            ]
          },
          "metadata": {
            "tags": []
          },
          "execution_count": 117
        }
      ]
    },
    {
      "cell_type": "code",
      "metadata": {
        "id": "Pbq2ztpN3Qn8"
      },
      "source": [
        "#Substituindo os valores nulos pela média\n",
        "df[\"Vendas\"].fillna(df[\"Vendas\"].mean(), inplace=True)"
      ],
      "execution_count": null,
      "outputs": []
    },
    {
      "cell_type": "code",
      "metadata": {
        "id": "mD0kfsgSC4Qm",
        "colab": {
          "base_uri": "https://localhost:8080/",
          "height": 34
        },
        "outputId": "ed9d1efa-e3b7-479e-9119-bab340148876"
      },
      "source": [
        "df[\"Vendas\"].mean()"
      ],
      "execution_count": null,
      "outputs": [
        {
          "output_type": "execute_result",
          "data": {
            "text/plain": [
              "122.9339571589626"
            ]
          },
          "metadata": {
            "tags": []
          },
          "execution_count": 68
        }
      ]
    },
    {
      "cell_type": "code",
      "metadata": {
        "id": "lA5QVn5N4C-A",
        "colab": {
          "base_uri": "https://localhost:8080/",
          "height": 119
        },
        "outputId": "84874d37-3368-452f-bed6-43782dea6cf6"
      },
      "source": [
        "df.isnull().sum()"
      ],
      "execution_count": null,
      "outputs": [
        {
          "output_type": "execute_result",
          "data": {
            "text/plain": [
              "Cidade    0\n",
              "Data      0\n",
              "Vendas    0\n",
              "LojaID    0\n",
              "Qtde      0\n",
              "dtype: int64"
            ]
          },
          "metadata": {
            "tags": []
          },
          "execution_count": 70
        }
      ]
    },
    {
      "cell_type": "code",
      "metadata": {
        "id": "ds7pcl-ZCzb_",
        "colab": {
          "base_uri": "https://localhost:8080/",
          "height": 514
        },
        "outputId": "e37c7b13-8bd1-46e2-e3f3-104e7fce8f8a"
      },
      "source": [
        "df.sample(15)"
      ],
      "execution_count": null,
      "outputs": [
        {
          "output_type": "execute_result",
          "data": {
            "text/html": [
              "<div>\n",
              "<style scoped>\n",
              "    .dataframe tbody tr th:only-of-type {\n",
              "        vertical-align: middle;\n",
              "    }\n",
              "\n",
              "    .dataframe tbody tr th {\n",
              "        vertical-align: top;\n",
              "    }\n",
              "\n",
              "    .dataframe thead th {\n",
              "        text-align: right;\n",
              "    }\n",
              "</style>\n",
              "<table border=\"1\" class=\"dataframe\">\n",
              "  <thead>\n",
              "    <tr style=\"text-align: right;\">\n",
              "      <th></th>\n",
              "      <th>Cidade</th>\n",
              "      <th>Data</th>\n",
              "      <th>Vendas</th>\n",
              "      <th>LojaID</th>\n",
              "      <th>Qtde</th>\n",
              "    </tr>\n",
              "  </thead>\n",
              "  <tbody>\n",
              "    <tr>\n",
              "      <th>216</th>\n",
              "      <td>Salvador</td>\n",
              "      <td>2019-01-02</td>\n",
              "      <td>5.82</td>\n",
              "      <td>1035</td>\n",
              "      <td>1</td>\n",
              "    </tr>\n",
              "    <tr>\n",
              "      <th>224</th>\n",
              "      <td>Natal</td>\n",
              "      <td>2019-01-02</td>\n",
              "      <td>178.30</td>\n",
              "      <td>1035</td>\n",
              "      <td>3</td>\n",
              "    </tr>\n",
              "    <tr>\n",
              "      <th>34</th>\n",
              "      <td>Recife</td>\n",
              "      <td>2019-01-01</td>\n",
              "      <td>24.97</td>\n",
              "      <td>980</td>\n",
              "      <td>5</td>\n",
              "    </tr>\n",
              "    <tr>\n",
              "      <th>74</th>\n",
              "      <td>Recife</td>\n",
              "      <td>2019-01-01</td>\n",
              "      <td>38.79</td>\n",
              "      <td>983</td>\n",
              "      <td>6</td>\n",
              "    </tr>\n",
              "    <tr>\n",
              "      <th>193</th>\n",
              "      <td>Natal</td>\n",
              "      <td>2019-01-02</td>\n",
              "      <td>3.97</td>\n",
              "      <td>1036</td>\n",
              "      <td>2</td>\n",
              "    </tr>\n",
              "    <tr>\n",
              "      <th>136</th>\n",
              "      <td>Natal</td>\n",
              "      <td>2019-01-02</td>\n",
              "      <td>13.81</td>\n",
              "      <td>1036</td>\n",
              "      <td>1</td>\n",
              "    </tr>\n",
              "    <tr>\n",
              "      <th>113</th>\n",
              "      <td>Fortaleza</td>\n",
              "      <td>2019-03-02</td>\n",
              "      <td>38.63</td>\n",
              "      <td>980</td>\n",
              "      <td>2</td>\n",
              "    </tr>\n",
              "    <tr>\n",
              "      <th>64</th>\n",
              "      <td>Fortaleza</td>\n",
              "      <td>2019-01-01</td>\n",
              "      <td>110.31</td>\n",
              "      <td>1005</td>\n",
              "      <td>4</td>\n",
              "    </tr>\n",
              "    <tr>\n",
              "      <th>121</th>\n",
              "      <td>Aracaju</td>\n",
              "      <td>2018-01-01</td>\n",
              "      <td>162.07</td>\n",
              "      <td>1520</td>\n",
              "      <td>3</td>\n",
              "    </tr>\n",
              "    <tr>\n",
              "      <th>6</th>\n",
              "      <td>Aracaju</td>\n",
              "      <td>2018-01-01</td>\n",
              "      <td>35.50</td>\n",
              "      <td>1522</td>\n",
              "      <td>2</td>\n",
              "    </tr>\n",
              "    <tr>\n",
              "      <th>118</th>\n",
              "      <td>Natal</td>\n",
              "      <td>2019-01-02</td>\n",
              "      <td>92.21</td>\n",
              "      <td>1035</td>\n",
              "      <td>2</td>\n",
              "    </tr>\n",
              "    <tr>\n",
              "      <th>10</th>\n",
              "      <td>Recife</td>\n",
              "      <td>2019-01-01</td>\n",
              "      <td>38.51</td>\n",
              "      <td>982</td>\n",
              "      <td>8</td>\n",
              "    </tr>\n",
              "    <tr>\n",
              "      <th>41</th>\n",
              "      <td>Aracaju</td>\n",
              "      <td>2018-01-01</td>\n",
              "      <td>229.64</td>\n",
              "      <td>1520</td>\n",
              "      <td>8</td>\n",
              "    </tr>\n",
              "    <tr>\n",
              "      <th>130</th>\n",
              "      <td>Fortaleza</td>\n",
              "      <td>2019-03-02</td>\n",
              "      <td>12.36</td>\n",
              "      <td>983</td>\n",
              "      <td>4</td>\n",
              "    </tr>\n",
              "    <tr>\n",
              "      <th>130</th>\n",
              "      <td>Salvador</td>\n",
              "      <td>2019-03-02</td>\n",
              "      <td>59.78</td>\n",
              "      <td>1036</td>\n",
              "      <td>1</td>\n",
              "    </tr>\n",
              "  </tbody>\n",
              "</table>\n",
              "</div>"
            ],
            "text/plain": [
              "        Cidade       Data  Vendas LojaID  Qtde\n",
              "216   Salvador 2019-01-02    5.82   1035     1\n",
              "224      Natal 2019-01-02  178.30   1035     3\n",
              "34      Recife 2019-01-01   24.97    980     5\n",
              "74      Recife 2019-01-01   38.79    983     6\n",
              "193      Natal 2019-01-02    3.97   1036     2\n",
              "136      Natal 2019-01-02   13.81   1036     1\n",
              "113  Fortaleza 2019-03-02   38.63    980     2\n",
              "64   Fortaleza 2019-01-01  110.31   1005     4\n",
              "121    Aracaju 2018-01-01  162.07   1520     3\n",
              "6      Aracaju 2018-01-01   35.50   1522     2\n",
              "118      Natal 2019-01-02   92.21   1035     2\n",
              "10      Recife 2019-01-01   38.51    982     8\n",
              "41     Aracaju 2018-01-01  229.64   1520     8\n",
              "130  Fortaleza 2019-03-02   12.36    983     4\n",
              "130   Salvador 2019-03-02   59.78   1036     1"
            ]
          },
          "metadata": {
            "tags": []
          },
          "execution_count": 65
        }
      ]
    },
    {
      "cell_type": "code",
      "metadata": {
        "id": "mMzEuPzg4N7U"
      },
      "source": [
        "#Substituindo os valores nulos por zero\n",
        "df[\"Vendas\"].fillna(0, inplace=True)"
      ],
      "execution_count": null,
      "outputs": []
    },
    {
      "cell_type": "code",
      "metadata": {
        "id": "pS7Hw6Df4Z7x"
      },
      "source": [
        "#Apagando as linhas com valores nulos\n",
        "df.dropna(inplace=True)"
      ],
      "execution_count": null,
      "outputs": []
    },
    {
      "cell_type": "code",
      "metadata": {
        "id": "iCpMj9MD4mW4"
      },
      "source": [
        "#Apagando as linhas com valores nulos com base apenas em 1 coluna\n",
        "df.dropna(subset=[\"Vendas\"], inplace=True)"
      ],
      "execution_count": null,
      "outputs": []
    },
    {
      "cell_type": "code",
      "metadata": {
        "id": "LYGy2VqH8uaM"
      },
      "source": [
        "#Removendo linhas que estejam com valores faltantes em todas as colunas\n",
        "df.dropna(how=\"all\", inplace=True)"
      ],
      "execution_count": null,
      "outputs": []
    },
    {
      "cell_type": "markdown",
      "metadata": {
        "id": "6qEyt17h9IwX"
      },
      "source": [
        "**Criando colunas novas**"
      ]
    },
    {
      "cell_type": "code",
      "metadata": {
        "id": "1HAAiPkh1yIN"
      },
      "source": [
        "#Criando a coluna de receita\n",
        "df[\"Receita\"] = df[\"Vendas\"].mul(df[\"Qtde\"])"
      ],
      "execution_count": null,
      "outputs": []
    },
    {
      "cell_type": "code",
      "metadata": {
        "id": "_gMBlvMq5fPj",
        "colab": {
          "base_uri": "https://localhost:8080/",
          "height": 204
        },
        "outputId": "a971500e-05cb-417a-f782-9a7737c2728f"
      },
      "source": [
        "df.head()"
      ],
      "execution_count": null,
      "outputs": [
        {
          "output_type": "execute_result",
          "data": {
            "text/html": [
              "<div>\n",
              "<style scoped>\n",
              "    .dataframe tbody tr th:only-of-type {\n",
              "        vertical-align: middle;\n",
              "    }\n",
              "\n",
              "    .dataframe tbody tr th {\n",
              "        vertical-align: top;\n",
              "    }\n",
              "\n",
              "    .dataframe thead th {\n",
              "        text-align: right;\n",
              "    }\n",
              "</style>\n",
              "<table border=\"1\" class=\"dataframe\">\n",
              "  <thead>\n",
              "    <tr style=\"text-align: right;\">\n",
              "      <th></th>\n",
              "      <th>Cidade</th>\n",
              "      <th>Data</th>\n",
              "      <th>Vendas</th>\n",
              "      <th>LojaID</th>\n",
              "      <th>Qtde</th>\n",
              "      <th>Receita</th>\n",
              "    </tr>\n",
              "  </thead>\n",
              "  <tbody>\n",
              "    <tr>\n",
              "      <th>0</th>\n",
              "      <td>Aracaju</td>\n",
              "      <td>2018-01-01</td>\n",
              "      <td>142.00</td>\n",
              "      <td>1520</td>\n",
              "      <td>1</td>\n",
              "      <td>142.00</td>\n",
              "    </tr>\n",
              "    <tr>\n",
              "      <th>1</th>\n",
              "      <td>Aracaju</td>\n",
              "      <td>2018-01-01</td>\n",
              "      <td>14.21</td>\n",
              "      <td>1522</td>\n",
              "      <td>6</td>\n",
              "      <td>85.26</td>\n",
              "    </tr>\n",
              "    <tr>\n",
              "      <th>2</th>\n",
              "      <td>Aracaju</td>\n",
              "      <td>2018-01-01</td>\n",
              "      <td>71.55</td>\n",
              "      <td>1520</td>\n",
              "      <td>1</td>\n",
              "      <td>71.55</td>\n",
              "    </tr>\n",
              "    <tr>\n",
              "      <th>3</th>\n",
              "      <td>Aracaju</td>\n",
              "      <td>2018-01-01</td>\n",
              "      <td>3.01</td>\n",
              "      <td>1521</td>\n",
              "      <td>7</td>\n",
              "      <td>21.07</td>\n",
              "    </tr>\n",
              "    <tr>\n",
              "      <th>4</th>\n",
              "      <td>Aracaju</td>\n",
              "      <td>2018-01-01</td>\n",
              "      <td>24.51</td>\n",
              "      <td>1522</td>\n",
              "      <td>8</td>\n",
              "      <td>196.08</td>\n",
              "    </tr>\n",
              "  </tbody>\n",
              "</table>\n",
              "</div>"
            ],
            "text/plain": [
              "    Cidade       Data  Vendas  LojaID  Qtde  Receita\n",
              "0  Aracaju 2018-01-01  142.00    1520     1   142.00\n",
              "1  Aracaju 2018-01-01   14.21    1522     6    85.26\n",
              "2  Aracaju 2018-01-01   71.55    1520     1    71.55\n",
              "3  Aracaju 2018-01-01    3.01    1521     7    21.07\n",
              "4  Aracaju 2018-01-01   24.51    1522     8   196.08"
            ]
          },
          "metadata": {
            "tags": []
          },
          "execution_count": 72
        }
      ]
    },
    {
      "cell_type": "code",
      "metadata": {
        "id": "DyU5SIhB9Q8w"
      },
      "source": [
        "df[\"Receita/Vendas\"] = df[\"Receita\"] / df[\"Vendas\"] "
      ],
      "execution_count": null,
      "outputs": []
    },
    {
      "cell_type": "code",
      "metadata": {
        "id": "YfMgO16q9m8F",
        "colab": {
          "base_uri": "https://localhost:8080/",
          "height": 204
        },
        "outputId": "6b323566-e8aa-4a51-8623-cd0c7ec0cd69"
      },
      "source": [
        "df.head()"
      ],
      "execution_count": null,
      "outputs": [
        {
          "output_type": "execute_result",
          "data": {
            "text/html": [
              "<div>\n",
              "<style scoped>\n",
              "    .dataframe tbody tr th:only-of-type {\n",
              "        vertical-align: middle;\n",
              "    }\n",
              "\n",
              "    .dataframe tbody tr th {\n",
              "        vertical-align: top;\n",
              "    }\n",
              "\n",
              "    .dataframe thead th {\n",
              "        text-align: right;\n",
              "    }\n",
              "</style>\n",
              "<table border=\"1\" class=\"dataframe\">\n",
              "  <thead>\n",
              "    <tr style=\"text-align: right;\">\n",
              "      <th></th>\n",
              "      <th>Cidade</th>\n",
              "      <th>Data</th>\n",
              "      <th>Vendas</th>\n",
              "      <th>LojaID</th>\n",
              "      <th>Qtde</th>\n",
              "      <th>Receita</th>\n",
              "      <th>Receita/Vendas</th>\n",
              "    </tr>\n",
              "  </thead>\n",
              "  <tbody>\n",
              "    <tr>\n",
              "      <th>0</th>\n",
              "      <td>Aracaju</td>\n",
              "      <td>2018-01-01</td>\n",
              "      <td>142.00</td>\n",
              "      <td>1520</td>\n",
              "      <td>1</td>\n",
              "      <td>142.00</td>\n",
              "      <td>1.0</td>\n",
              "    </tr>\n",
              "    <tr>\n",
              "      <th>1</th>\n",
              "      <td>Aracaju</td>\n",
              "      <td>2018-01-01</td>\n",
              "      <td>14.21</td>\n",
              "      <td>1522</td>\n",
              "      <td>6</td>\n",
              "      <td>85.26</td>\n",
              "      <td>6.0</td>\n",
              "    </tr>\n",
              "    <tr>\n",
              "      <th>2</th>\n",
              "      <td>Aracaju</td>\n",
              "      <td>2018-01-01</td>\n",
              "      <td>71.55</td>\n",
              "      <td>1520</td>\n",
              "      <td>1</td>\n",
              "      <td>71.55</td>\n",
              "      <td>1.0</td>\n",
              "    </tr>\n",
              "    <tr>\n",
              "      <th>3</th>\n",
              "      <td>Aracaju</td>\n",
              "      <td>2018-01-01</td>\n",
              "      <td>3.01</td>\n",
              "      <td>1521</td>\n",
              "      <td>7</td>\n",
              "      <td>21.07</td>\n",
              "      <td>7.0</td>\n",
              "    </tr>\n",
              "    <tr>\n",
              "      <th>4</th>\n",
              "      <td>Aracaju</td>\n",
              "      <td>2018-01-01</td>\n",
              "      <td>24.51</td>\n",
              "      <td>1522</td>\n",
              "      <td>8</td>\n",
              "      <td>196.08</td>\n",
              "      <td>8.0</td>\n",
              "    </tr>\n",
              "  </tbody>\n",
              "</table>\n",
              "</div>"
            ],
            "text/plain": [
              "    Cidade       Data  Vendas  LojaID  Qtde  Receita  Receita/Vendas\n",
              "0  Aracaju 2018-01-01  142.00    1520     1   142.00             1.0\n",
              "1  Aracaju 2018-01-01   14.21    1522     6    85.26             6.0\n",
              "2  Aracaju 2018-01-01   71.55    1520     1    71.55             1.0\n",
              "3  Aracaju 2018-01-01    3.01    1521     7    21.07             7.0\n",
              "4  Aracaju 2018-01-01   24.51    1522     8   196.08             8.0"
            ]
          },
          "metadata": {
            "tags": []
          },
          "execution_count": 74
        }
      ]
    },
    {
      "cell_type": "code",
      "metadata": {
        "id": "8uy9S6JZ3DB4",
        "colab": {
          "base_uri": "https://localhost:8080/",
          "height": 34
        },
        "outputId": "1e059579-152c-4151-8aaf-2f61e689644b"
      },
      "source": [
        "#Retornando a maior receita\n",
        "df[\"Receita\"].max()"
      ],
      "execution_count": null,
      "outputs": [
        {
          "output_type": "execute_result",
          "data": {
            "text/plain": [
              "3544.0"
            ]
          },
          "metadata": {
            "tags": []
          },
          "execution_count": 121
        }
      ]
    },
    {
      "cell_type": "code",
      "metadata": {
        "id": "y0eoDEcQ5cZC",
        "colab": {
          "base_uri": "https://localhost:8080/",
          "height": 34
        },
        "outputId": "4a520c61-b418-4bdc-8196-f4ea5eee07c8"
      },
      "source": [
        "#Retornando a menor receita\n",
        "df[\"Receita\"].min()"
      ],
      "execution_count": null,
      "outputs": [
        {
          "output_type": "execute_result",
          "data": {
            "text/plain": [
              "0.0"
            ]
          },
          "metadata": {
            "tags": []
          },
          "execution_count": 76
        }
      ]
    },
    {
      "cell_type": "code",
      "metadata": {
        "id": "gX87zZJ45p5e",
        "colab": {
          "base_uri": "https://localhost:8080/",
          "height": 142
        },
        "outputId": "bf1cce13-9157-4752-cf40-32b31f0c6977"
      },
      "source": [
        "#nlargest\n",
        "df.nlargest(3, \"Receita\")"
      ],
      "execution_count": null,
      "outputs": [
        {
          "output_type": "execute_result",
          "data": {
            "text/html": [
              "<div>\n",
              "<style scoped>\n",
              "    .dataframe tbody tr th:only-of-type {\n",
              "        vertical-align: middle;\n",
              "    }\n",
              "\n",
              "    .dataframe tbody tr th {\n",
              "        vertical-align: top;\n",
              "    }\n",
              "\n",
              "    .dataframe thead th {\n",
              "        text-align: right;\n",
              "    }\n",
              "</style>\n",
              "<table border=\"1\" class=\"dataframe\">\n",
              "  <thead>\n",
              "    <tr style=\"text-align: right;\">\n",
              "      <th></th>\n",
              "      <th>Cidade</th>\n",
              "      <th>Data</th>\n",
              "      <th>Vendas</th>\n",
              "      <th>LojaID</th>\n",
              "      <th>Qtde</th>\n",
              "      <th>Receita</th>\n",
              "      <th>Receita/Vendas</th>\n",
              "    </tr>\n",
              "  </thead>\n",
              "  <tbody>\n",
              "    <tr>\n",
              "      <th>7</th>\n",
              "      <td>Natal</td>\n",
              "      <td>2019-03-18</td>\n",
              "      <td>886.0</td>\n",
              "      <td>853</td>\n",
              "      <td>4</td>\n",
              "      <td>3544.0</td>\n",
              "      <td>4.0</td>\n",
              "    </tr>\n",
              "    <tr>\n",
              "      <th>51</th>\n",
              "      <td>Natal</td>\n",
              "      <td>2018-01-21</td>\n",
              "      <td>859.0</td>\n",
              "      <td>852</td>\n",
              "      <td>4</td>\n",
              "      <td>3436.0</td>\n",
              "      <td>4.0</td>\n",
              "    </tr>\n",
              "    <tr>\n",
              "      <th>55</th>\n",
              "      <td>Natal</td>\n",
              "      <td>2019-01-08</td>\n",
              "      <td>859.0</td>\n",
              "      <td>854</td>\n",
              "      <td>4</td>\n",
              "      <td>3436.0</td>\n",
              "      <td>4.0</td>\n",
              "    </tr>\n",
              "  </tbody>\n",
              "</table>\n",
              "</div>"
            ],
            "text/plain": [
              "   Cidade       Data  Vendas LojaID  Qtde  Receita  Receita/Vendas\n",
              "7   Natal 2019-03-18   886.0    853     4   3544.0             4.0\n",
              "51  Natal 2018-01-21   859.0    852     4   3436.0             4.0\n",
              "55  Natal 2019-01-08   859.0    854     4   3436.0             4.0"
            ]
          },
          "metadata": {
            "tags": []
          },
          "execution_count": 122
        }
      ]
    },
    {
      "cell_type": "code",
      "metadata": {
        "id": "gPK25dF_5w8q",
        "colab": {
          "base_uri": "https://localhost:8080/",
          "height": 142
        },
        "outputId": "dc8bdffa-f584-4baa-a1d9-67bf4006048a"
      },
      "source": [
        "#nsamllest\n",
        "df.nsmallest(3, \"Receita\")"
      ],
      "execution_count": null,
      "outputs": [
        {
          "output_type": "execute_result",
          "data": {
            "text/html": [
              "<div>\n",
              "<style scoped>\n",
              "    .dataframe tbody tr th:only-of-type {\n",
              "        vertical-align: middle;\n",
              "    }\n",
              "\n",
              "    .dataframe tbody tr th {\n",
              "        vertical-align: top;\n",
              "    }\n",
              "\n",
              "    .dataframe thead th {\n",
              "        text-align: right;\n",
              "    }\n",
              "</style>\n",
              "<table border=\"1\" class=\"dataframe\">\n",
              "  <thead>\n",
              "    <tr style=\"text-align: right;\">\n",
              "      <th></th>\n",
              "      <th>Cidade</th>\n",
              "      <th>Data</th>\n",
              "      <th>Vendas</th>\n",
              "      <th>LojaID</th>\n",
              "      <th>Qtde</th>\n",
              "      <th>Receita</th>\n",
              "      <th>Receita/Vendas</th>\n",
              "    </tr>\n",
              "  </thead>\n",
              "  <tbody>\n",
              "    <tr>\n",
              "      <th>7</th>\n",
              "      <td>Fortaleza</td>\n",
              "      <td>2019-02-11</td>\n",
              "      <td>0.0</td>\n",
              "      <td>1003</td>\n",
              "      <td>2</td>\n",
              "      <td>0.0</td>\n",
              "      <td>NaN</td>\n",
              "    </tr>\n",
              "    <tr>\n",
              "      <th>14</th>\n",
              "      <td>Fortaleza</td>\n",
              "      <td>2019-01-12</td>\n",
              "      <td>0.0</td>\n",
              "      <td>1005</td>\n",
              "      <td>1</td>\n",
              "      <td>0.0</td>\n",
              "      <td>NaN</td>\n",
              "    </tr>\n",
              "    <tr>\n",
              "      <th>34</th>\n",
              "      <td>Fortaleza</td>\n",
              "      <td>2019-01-01</td>\n",
              "      <td>0.0</td>\n",
              "      <td>1003</td>\n",
              "      <td>5</td>\n",
              "      <td>0.0</td>\n",
              "      <td>NaN</td>\n",
              "    </tr>\n",
              "  </tbody>\n",
              "</table>\n",
              "</div>"
            ],
            "text/plain": [
              "       Cidade       Data  Vendas LojaID  Qtde  Receita  Receita/Vendas\n",
              "7   Fortaleza 2019-02-11     0.0   1003     2      0.0             NaN\n",
              "14  Fortaleza 2019-01-12     0.0   1005     1      0.0             NaN\n",
              "34  Fortaleza 2019-01-01     0.0   1003     5      0.0             NaN"
            ]
          },
          "metadata": {
            "tags": []
          },
          "execution_count": 123
        }
      ]
    },
    {
      "cell_type": "code",
      "metadata": {
        "id": "VS5Bu2fQ53fG",
        "colab": {
          "base_uri": "https://localhost:8080/",
          "height": 136
        },
        "outputId": "8d41e480-5db7-4175-cb4e-184f91a52a38"
      },
      "source": [
        "#Agrupamento por cidade\n",
        "df.groupby(\"Cidade\")[\"Receita\"].sum()"
      ],
      "execution_count": null,
      "outputs": [
        {
          "output_type": "execute_result",
          "data": {
            "text/plain": [
              "Cidade\n",
              "Aracaju       48748.25\n",
              "Fortaleza     36122.23\n",
              "Natal        167227.52\n",
              "Recife        51936.51\n",
              "Salvador      40596.73\n",
              "Name: Receita, dtype: float64"
            ]
          },
          "metadata": {
            "tags": []
          },
          "execution_count": 124
        }
      ]
    },
    {
      "cell_type": "code",
      "metadata": {
        "id": "wYZDthyQ6DMI",
        "colab": {
          "base_uri": "https://localhost:8080/",
          "height": 359
        },
        "outputId": "524d93a9-0246-46fe-8bfe-9451bc52b65a"
      },
      "source": [
        "#Ordenando o conjunto de dados\n",
        "df.sort_values(\"Receita\", ascending=False).head(10)"
      ],
      "execution_count": null,
      "outputs": [
        {
          "output_type": "execute_result",
          "data": {
            "text/html": [
              "<div>\n",
              "<style scoped>\n",
              "    .dataframe tbody tr th:only-of-type {\n",
              "        vertical-align: middle;\n",
              "    }\n",
              "\n",
              "    .dataframe tbody tr th {\n",
              "        vertical-align: top;\n",
              "    }\n",
              "\n",
              "    .dataframe thead th {\n",
              "        text-align: right;\n",
              "    }\n",
              "</style>\n",
              "<table border=\"1\" class=\"dataframe\">\n",
              "  <thead>\n",
              "    <tr style=\"text-align: right;\">\n",
              "      <th></th>\n",
              "      <th>Cidade</th>\n",
              "      <th>Data</th>\n",
              "      <th>Vendas</th>\n",
              "      <th>LojaID</th>\n",
              "      <th>Qtde</th>\n",
              "      <th>Receita</th>\n",
              "      <th>Receita/Vendas</th>\n",
              "    </tr>\n",
              "  </thead>\n",
              "  <tbody>\n",
              "    <tr>\n",
              "      <th>7</th>\n",
              "      <td>Natal</td>\n",
              "      <td>2019-03-18</td>\n",
              "      <td>886.0</td>\n",
              "      <td>853</td>\n",
              "      <td>4</td>\n",
              "      <td>3544.0</td>\n",
              "      <td>4.0</td>\n",
              "    </tr>\n",
              "    <tr>\n",
              "      <th>51</th>\n",
              "      <td>Natal</td>\n",
              "      <td>2018-01-21</td>\n",
              "      <td>859.0</td>\n",
              "      <td>852</td>\n",
              "      <td>4</td>\n",
              "      <td>3436.0</td>\n",
              "      <td>4.0</td>\n",
              "    </tr>\n",
              "    <tr>\n",
              "      <th>55</th>\n",
              "      <td>Natal</td>\n",
              "      <td>2019-01-08</td>\n",
              "      <td>859.0</td>\n",
              "      <td>854</td>\n",
              "      <td>4</td>\n",
              "      <td>3436.0</td>\n",
              "      <td>4.0</td>\n",
              "    </tr>\n",
              "    <tr>\n",
              "      <th>30</th>\n",
              "      <td>Natal</td>\n",
              "      <td>2018-10-02</td>\n",
              "      <td>856.0</td>\n",
              "      <td>853</td>\n",
              "      <td>4</td>\n",
              "      <td>3424.0</td>\n",
              "      <td>4.0</td>\n",
              "    </tr>\n",
              "    <tr>\n",
              "      <th>41</th>\n",
              "      <td>Natal</td>\n",
              "      <td>2018-05-20</td>\n",
              "      <td>835.0</td>\n",
              "      <td>852</td>\n",
              "      <td>4</td>\n",
              "      <td>3340.0</td>\n",
              "      <td>4.0</td>\n",
              "    </tr>\n",
              "    <tr>\n",
              "      <th>10</th>\n",
              "      <td>Natal</td>\n",
              "      <td>2018-10-27</td>\n",
              "      <td>828.0</td>\n",
              "      <td>852</td>\n",
              "      <td>4</td>\n",
              "      <td>3312.0</td>\n",
              "      <td>4.0</td>\n",
              "    </tr>\n",
              "    <tr>\n",
              "      <th>38</th>\n",
              "      <td>Natal</td>\n",
              "      <td>2018-02-25</td>\n",
              "      <td>828.0</td>\n",
              "      <td>852</td>\n",
              "      <td>4</td>\n",
              "      <td>3312.0</td>\n",
              "      <td>4.0</td>\n",
              "    </tr>\n",
              "    <tr>\n",
              "      <th>69</th>\n",
              "      <td>Natal</td>\n",
              "      <td>2019-03-24</td>\n",
              "      <td>817.0</td>\n",
              "      <td>852</td>\n",
              "      <td>4</td>\n",
              "      <td>3268.0</td>\n",
              "      <td>4.0</td>\n",
              "    </tr>\n",
              "    <tr>\n",
              "      <th>62</th>\n",
              "      <td>Natal</td>\n",
              "      <td>2018-02-10</td>\n",
              "      <td>793.0</td>\n",
              "      <td>854</td>\n",
              "      <td>4</td>\n",
              "      <td>3172.0</td>\n",
              "      <td>4.0</td>\n",
              "    </tr>\n",
              "    <tr>\n",
              "      <th>52</th>\n",
              "      <td>Natal</td>\n",
              "      <td>2018-04-27</td>\n",
              "      <td>778.0</td>\n",
              "      <td>854</td>\n",
              "      <td>4</td>\n",
              "      <td>3112.0</td>\n",
              "      <td>4.0</td>\n",
              "    </tr>\n",
              "  </tbody>\n",
              "</table>\n",
              "</div>"
            ],
            "text/plain": [
              "   Cidade       Data  Vendas LojaID  Qtde  Receita  Receita/Vendas\n",
              "7   Natal 2019-03-18   886.0    853     4   3544.0             4.0\n",
              "51  Natal 2018-01-21   859.0    852     4   3436.0             4.0\n",
              "55  Natal 2019-01-08   859.0    854     4   3436.0             4.0\n",
              "30  Natal 2018-10-02   856.0    853     4   3424.0             4.0\n",
              "41  Natal 2018-05-20   835.0    852     4   3340.0             4.0\n",
              "10  Natal 2018-10-27   828.0    852     4   3312.0             4.0\n",
              "38  Natal 2018-02-25   828.0    852     4   3312.0             4.0\n",
              "69  Natal 2019-03-24   817.0    852     4   3268.0             4.0\n",
              "62  Natal 2018-02-10   793.0    854     4   3172.0             4.0\n",
              "52  Natal 2018-04-27   778.0    854     4   3112.0             4.0"
            ]
          },
          "metadata": {
            "tags": []
          },
          "execution_count": 125
        }
      ]
    },
    {
      "cell_type": "code",
      "metadata": {
        "id": "bRaEoWjR6deI"
      },
      "source": [
        "#Trasnformando a coluna de data em tipo inteiro\n",
        "df[\"Data\"] = df[\"Data\"].astype(\"int64\")"
      ],
      "execution_count": null,
      "outputs": []
    },
    {
      "cell_type": "code",
      "metadata": {
        "id": "dz5kfhncHi7Y",
        "colab": {
          "base_uri": "https://localhost:8080/",
          "height": 153
        },
        "outputId": "275eb110-54a8-450e-b8c6-165961d670b7"
      },
      "source": [
        "#Verificando o tipo de dado de cada coluna\n",
        "df.dtypes"
      ],
      "execution_count": null,
      "outputs": [
        {
          "output_type": "execute_result",
          "data": {
            "text/plain": [
              "Cidade             object\n",
              "Data                int64\n",
              "Vendas            float64\n",
              "LojaID             object\n",
              "Qtde                int64\n",
              "Receita           float64\n",
              "Receita/Vendas    float64\n",
              "dtype: object"
            ]
          },
          "metadata": {
            "tags": []
          },
          "execution_count": 127
        }
      ]
    },
    {
      "cell_type": "code",
      "metadata": {
        "id": "oQhrdhlyHkED"
      },
      "source": [
        "#Transformando coluna de data em data\n",
        "df[\"Data\"] = pd.to_datetime(df[\"Data\"])"
      ],
      "execution_count": null,
      "outputs": []
    },
    {
      "cell_type": "code",
      "metadata": {
        "id": "F5zeaq6tH1P0",
        "colab": {
          "base_uri": "https://localhost:8080/",
          "height": 153
        },
        "outputId": "5b8043b2-c63b-4322-df5a-dd41737591c6"
      },
      "source": [
        "df.dtypes"
      ],
      "execution_count": null,
      "outputs": [
        {
          "output_type": "execute_result",
          "data": {
            "text/plain": [
              "Cidade                    object\n",
              "Data              datetime64[ns]\n",
              "Vendas                   float64\n",
              "LojaID                    object\n",
              "Qtde                       int64\n",
              "Receita                  float64\n",
              "Receita/Vendas           float64\n",
              "dtype: object"
            ]
          },
          "metadata": {
            "tags": []
          },
          "execution_count": 129
        }
      ]
    },
    {
      "cell_type": "code",
      "metadata": {
        "id": "c027o0jyH2qg",
        "colab": {
          "base_uri": "https://localhost:8080/",
          "height": 85
        },
        "outputId": "4db1851a-4712-44b6-f297-ec2c16d61f67"
      },
      "source": [
        "#Agrupamento por ano\n",
        "df.groupby(df[\"Data\"].dt.year)[\"Receita\"].sum()"
      ],
      "execution_count": null,
      "outputs": [
        {
          "output_type": "execute_result",
          "data": {
            "text/plain": [
              "Data\n",
              "2018    118176.53\n",
              "2019    226454.71\n",
              "Name: Receita, dtype: float64"
            ]
          },
          "metadata": {
            "tags": []
          },
          "execution_count": 130
        }
      ]
    },
    {
      "cell_type": "code",
      "metadata": {
        "id": "kX_HYKgQIEPD"
      },
      "source": [
        "#Criando uma nova coluna com o ano\n",
        "df[\"Ano_Venda\"] = df[\"Data\"].dt.year"
      ],
      "execution_count": null,
      "outputs": []
    },
    {
      "cell_type": "code",
      "metadata": {
        "id": "MJjiTggaISUi",
        "colab": {
          "base_uri": "https://localhost:8080/",
          "height": 204
        },
        "outputId": "664952a0-57c6-4f6d-ad6f-03a5d846d557"
      },
      "source": [
        "df.sample(5)"
      ],
      "execution_count": null,
      "outputs": [
        {
          "output_type": "execute_result",
          "data": {
            "text/html": [
              "<div>\n",
              "<style scoped>\n",
              "    .dataframe tbody tr th:only-of-type {\n",
              "        vertical-align: middle;\n",
              "    }\n",
              "\n",
              "    .dataframe tbody tr th {\n",
              "        vertical-align: top;\n",
              "    }\n",
              "\n",
              "    .dataframe thead th {\n",
              "        text-align: right;\n",
              "    }\n",
              "</style>\n",
              "<table border=\"1\" class=\"dataframe\">\n",
              "  <thead>\n",
              "    <tr style=\"text-align: right;\">\n",
              "      <th></th>\n",
              "      <th>Cidade</th>\n",
              "      <th>Data</th>\n",
              "      <th>Vendas</th>\n",
              "      <th>LojaID</th>\n",
              "      <th>Qtde</th>\n",
              "      <th>Receita</th>\n",
              "      <th>Receita/Vendas</th>\n",
              "      <th>Ano_Venda</th>\n",
              "    </tr>\n",
              "  </thead>\n",
              "  <tbody>\n",
              "    <tr>\n",
              "      <th>124</th>\n",
              "      <td>Salvador</td>\n",
              "      <td>2019-03-02</td>\n",
              "      <td>44.82</td>\n",
              "      <td>1034</td>\n",
              "      <td>3</td>\n",
              "      <td>134.46</td>\n",
              "      <td>3.0</td>\n",
              "      <td>2019</td>\n",
              "    </tr>\n",
              "    <tr>\n",
              "      <th>218</th>\n",
              "      <td>Salvador</td>\n",
              "      <td>2019-01-02</td>\n",
              "      <td>189.12</td>\n",
              "      <td>1036</td>\n",
              "      <td>3</td>\n",
              "      <td>567.36</td>\n",
              "      <td>3.0</td>\n",
              "      <td>2019</td>\n",
              "    </tr>\n",
              "    <tr>\n",
              "      <th>82</th>\n",
              "      <td>Aracaju</td>\n",
              "      <td>2018-01-01</td>\n",
              "      <td>150.48</td>\n",
              "      <td>1522</td>\n",
              "      <td>4</td>\n",
              "      <td>601.92</td>\n",
              "      <td>4.0</td>\n",
              "      <td>2018</td>\n",
              "    </tr>\n",
              "    <tr>\n",
              "      <th>29</th>\n",
              "      <td>Salvador</td>\n",
              "      <td>2019-01-01</td>\n",
              "      <td>9.27</td>\n",
              "      <td>1034</td>\n",
              "      <td>1</td>\n",
              "      <td>9.27</td>\n",
              "      <td>1.0</td>\n",
              "      <td>2019</td>\n",
              "    </tr>\n",
              "    <tr>\n",
              "      <th>123</th>\n",
              "      <td>Salvador</td>\n",
              "      <td>2019-03-02</td>\n",
              "      <td>127.45</td>\n",
              "      <td>1036</td>\n",
              "      <td>3</td>\n",
              "      <td>382.35</td>\n",
              "      <td>3.0</td>\n",
              "      <td>2019</td>\n",
              "    </tr>\n",
              "  </tbody>\n",
              "</table>\n",
              "</div>"
            ],
            "text/plain": [
              "       Cidade       Data  Vendas  ... Receita  Receita/Vendas  Ano_Venda\n",
              "124  Salvador 2019-03-02   44.82  ...  134.46             3.0       2019\n",
              "218  Salvador 2019-01-02  189.12  ...  567.36             3.0       2019\n",
              "82    Aracaju 2018-01-01  150.48  ...  601.92             4.0       2018\n",
              "29   Salvador 2019-01-01    9.27  ...    9.27             1.0       2019\n",
              "123  Salvador 2019-03-02  127.45  ...  382.35             3.0       2019\n",
              "\n",
              "[5 rows x 8 columns]"
            ]
          },
          "metadata": {
            "tags": []
          },
          "execution_count": 133
        }
      ]
    },
    {
      "cell_type": "code",
      "metadata": {
        "id": "QPNcE_6rIT6F"
      },
      "source": [
        "#Extraindo o mês e o dia\n",
        "df[\"mes_venda\"], df[\"dia_venda\"] = (df[\"Data\"].dt.month, df[\"Data\"].dt.day)"
      ],
      "execution_count": null,
      "outputs": []
    },
    {
      "cell_type": "code",
      "metadata": {
        "id": "9AOp3NNfIrah",
        "colab": {
          "base_uri": "https://localhost:8080/",
          "height": 204
        },
        "outputId": "be23b592-06ec-4eab-88f0-46da74f85544"
      },
      "source": [
        "df.sample(5)"
      ],
      "execution_count": null,
      "outputs": [
        {
          "output_type": "execute_result",
          "data": {
            "text/html": [
              "<div>\n",
              "<style scoped>\n",
              "    .dataframe tbody tr th:only-of-type {\n",
              "        vertical-align: middle;\n",
              "    }\n",
              "\n",
              "    .dataframe tbody tr th {\n",
              "        vertical-align: top;\n",
              "    }\n",
              "\n",
              "    .dataframe thead th {\n",
              "        text-align: right;\n",
              "    }\n",
              "</style>\n",
              "<table border=\"1\" class=\"dataframe\">\n",
              "  <thead>\n",
              "    <tr style=\"text-align: right;\">\n",
              "      <th></th>\n",
              "      <th>Cidade</th>\n",
              "      <th>Data</th>\n",
              "      <th>Vendas</th>\n",
              "      <th>LojaID</th>\n",
              "      <th>Qtde</th>\n",
              "      <th>Receita</th>\n",
              "      <th>Receita/Vendas</th>\n",
              "      <th>Ano_Venda</th>\n",
              "      <th>mes_venda</th>\n",
              "      <th>dia_venda</th>\n",
              "    </tr>\n",
              "  </thead>\n",
              "  <tbody>\n",
              "    <tr>\n",
              "      <th>97</th>\n",
              "      <td>Salvador</td>\n",
              "      <td>2019-01-01</td>\n",
              "      <td>39.91</td>\n",
              "      <td>1037</td>\n",
              "      <td>3</td>\n",
              "      <td>119.73</td>\n",
              "      <td>3.0</td>\n",
              "      <td>2019</td>\n",
              "      <td>1</td>\n",
              "      <td>1</td>\n",
              "    </tr>\n",
              "    <tr>\n",
              "      <th>12</th>\n",
              "      <td>Aracaju</td>\n",
              "      <td>2019-01-01</td>\n",
              "      <td>9.78</td>\n",
              "      <td>1520</td>\n",
              "      <td>8</td>\n",
              "      <td>78.24</td>\n",
              "      <td>8.0</td>\n",
              "      <td>2019</td>\n",
              "      <td>1</td>\n",
              "      <td>1</td>\n",
              "    </tr>\n",
              "    <tr>\n",
              "      <th>59</th>\n",
              "      <td>Natal</td>\n",
              "      <td>2018-01-15</td>\n",
              "      <td>369.00</td>\n",
              "      <td>853</td>\n",
              "      <td>2</td>\n",
              "      <td>738.00</td>\n",
              "      <td>2.0</td>\n",
              "      <td>2018</td>\n",
              "      <td>1</td>\n",
              "      <td>15</td>\n",
              "    </tr>\n",
              "    <tr>\n",
              "      <th>13</th>\n",
              "      <td>Natal</td>\n",
              "      <td>2018-09-12</td>\n",
              "      <td>458.00</td>\n",
              "      <td>852</td>\n",
              "      <td>4</td>\n",
              "      <td>1832.00</td>\n",
              "      <td>4.0</td>\n",
              "      <td>2018</td>\n",
              "      <td>9</td>\n",
              "      <td>12</td>\n",
              "    </tr>\n",
              "    <tr>\n",
              "      <th>16</th>\n",
              "      <td>Aracaju</td>\n",
              "      <td>2018-01-01</td>\n",
              "      <td>37.68</td>\n",
              "      <td>1522</td>\n",
              "      <td>10</td>\n",
              "      <td>376.80</td>\n",
              "      <td>10.0</td>\n",
              "      <td>2018</td>\n",
              "      <td>1</td>\n",
              "      <td>1</td>\n",
              "    </tr>\n",
              "  </tbody>\n",
              "</table>\n",
              "</div>"
            ],
            "text/plain": [
              "      Cidade       Data  Vendas  ... Ano_Venda  mes_venda  dia_venda\n",
              "97  Salvador 2019-01-01   39.91  ...      2019          1          1\n",
              "12   Aracaju 2019-01-01    9.78  ...      2019          1          1\n",
              "59     Natal 2018-01-15  369.00  ...      2018          1         15\n",
              "13     Natal 2018-09-12  458.00  ...      2018          9         12\n",
              "16   Aracaju 2018-01-01   37.68  ...      2018          1          1\n",
              "\n",
              "[5 rows x 10 columns]"
            ]
          },
          "metadata": {
            "tags": []
          },
          "execution_count": 136
        }
      ]
    },
    {
      "cell_type": "code",
      "metadata": {
        "id": "r0la0X6aIuTR",
        "colab": {
          "base_uri": "https://localhost:8080/",
          "height": 34
        },
        "outputId": "bd244f1b-6e69-4991-c290-f071af4e0d60"
      },
      "source": [
        "#Retornando a data mais antiga\n",
        "df[\"Data\"].min()"
      ],
      "execution_count": null,
      "outputs": [
        {
          "output_type": "execute_result",
          "data": {
            "text/plain": [
              "Timestamp('2018-01-01 00:00:00')"
            ]
          },
          "metadata": {
            "tags": []
          },
          "execution_count": 137
        }
      ]
    },
    {
      "cell_type": "code",
      "metadata": {
        "id": "7fxtFDflI7L0"
      },
      "source": [
        "#Calculando a diferença de dias\n",
        "df[\"diferenca_dias\"] = df[\"Data\"] - df[\"Data\"].min()"
      ],
      "execution_count": null,
      "outputs": []
    },
    {
      "cell_type": "code",
      "metadata": {
        "id": "997DVEidJKNG",
        "colab": {
          "base_uri": "https://localhost:8080/",
          "height": 204
        },
        "outputId": "3cdb03c2-cb8d-4891-b10b-27474beb1806"
      },
      "source": [
        "df.sample(5)"
      ],
      "execution_count": null,
      "outputs": [
        {
          "output_type": "execute_result",
          "data": {
            "text/html": [
              "<div>\n",
              "<style scoped>\n",
              "    .dataframe tbody tr th:only-of-type {\n",
              "        vertical-align: middle;\n",
              "    }\n",
              "\n",
              "    .dataframe tbody tr th {\n",
              "        vertical-align: top;\n",
              "    }\n",
              "\n",
              "    .dataframe thead th {\n",
              "        text-align: right;\n",
              "    }\n",
              "</style>\n",
              "<table border=\"1\" class=\"dataframe\">\n",
              "  <thead>\n",
              "    <tr style=\"text-align: right;\">\n",
              "      <th></th>\n",
              "      <th>Cidade</th>\n",
              "      <th>Data</th>\n",
              "      <th>Vendas</th>\n",
              "      <th>LojaID</th>\n",
              "      <th>Qtde</th>\n",
              "      <th>Receita</th>\n",
              "      <th>Receita/Vendas</th>\n",
              "      <th>Ano_Venda</th>\n",
              "      <th>mes_venda</th>\n",
              "      <th>dia_venda</th>\n",
              "      <th>diferenca_dias</th>\n",
              "    </tr>\n",
              "  </thead>\n",
              "  <tbody>\n",
              "    <tr>\n",
              "      <th>104</th>\n",
              "      <td>Aracaju</td>\n",
              "      <td>2018-01-01</td>\n",
              "      <td>46.96</td>\n",
              "      <td>1522</td>\n",
              "      <td>1</td>\n",
              "      <td>46.96</td>\n",
              "      <td>1.0</td>\n",
              "      <td>2018</td>\n",
              "      <td>1</td>\n",
              "      <td>1</td>\n",
              "      <td>0 days</td>\n",
              "    </tr>\n",
              "    <tr>\n",
              "      <th>70</th>\n",
              "      <td>Recife</td>\n",
              "      <td>2019-01-01</td>\n",
              "      <td>20.40</td>\n",
              "      <td>983</td>\n",
              "      <td>7</td>\n",
              "      <td>142.80</td>\n",
              "      <td>7.0</td>\n",
              "      <td>2019</td>\n",
              "      <td>1</td>\n",
              "      <td>1</td>\n",
              "      <td>365 days</td>\n",
              "    </tr>\n",
              "    <tr>\n",
              "      <th>50</th>\n",
              "      <td>Salvador</td>\n",
              "      <td>2019-01-01</td>\n",
              "      <td>44.87</td>\n",
              "      <td>1036</td>\n",
              "      <td>3</td>\n",
              "      <td>134.61</td>\n",
              "      <td>3.0</td>\n",
              "      <td>2019</td>\n",
              "      <td>1</td>\n",
              "      <td>1</td>\n",
              "      <td>365 days</td>\n",
              "    </tr>\n",
              "    <tr>\n",
              "      <th>34</th>\n",
              "      <td>Recife</td>\n",
              "      <td>2019-01-01</td>\n",
              "      <td>24.97</td>\n",
              "      <td>980</td>\n",
              "      <td>5</td>\n",
              "      <td>124.85</td>\n",
              "      <td>5.0</td>\n",
              "      <td>2019</td>\n",
              "      <td>1</td>\n",
              "      <td>1</td>\n",
              "      <td>365 days</td>\n",
              "    </tr>\n",
              "    <tr>\n",
              "      <th>147</th>\n",
              "      <td>Salvador</td>\n",
              "      <td>2019-01-02</td>\n",
              "      <td>34.50</td>\n",
              "      <td>1035</td>\n",
              "      <td>1</td>\n",
              "      <td>34.50</td>\n",
              "      <td>1.0</td>\n",
              "      <td>2019</td>\n",
              "      <td>1</td>\n",
              "      <td>2</td>\n",
              "      <td>366 days</td>\n",
              "    </tr>\n",
              "  </tbody>\n",
              "</table>\n",
              "</div>"
            ],
            "text/plain": [
              "       Cidade       Data  Vendas  ... mes_venda  dia_venda  diferenca_dias\n",
              "104   Aracaju 2018-01-01   46.96  ...         1          1          0 days\n",
              "70     Recife 2019-01-01   20.40  ...         1          1        365 days\n",
              "50   Salvador 2019-01-01   44.87  ...         1          1        365 days\n",
              "34     Recife 2019-01-01   24.97  ...         1          1        365 days\n",
              "147  Salvador 2019-01-02   34.50  ...         1          2        366 days\n",
              "\n",
              "[5 rows x 11 columns]"
            ]
          },
          "metadata": {
            "tags": []
          },
          "execution_count": 139
        }
      ]
    },
    {
      "cell_type": "code",
      "metadata": {
        "id": "KHAOU_EuJLkb"
      },
      "source": [
        "#Criando a coluna de trimestre\n",
        "df[\"trimestre_venda\"] = df[\"Data\"].dt.quarter"
      ],
      "execution_count": null,
      "outputs": []
    },
    {
      "cell_type": "code",
      "metadata": {
        "id": "OWZos9y5JbDQ",
        "colab": {
          "base_uri": "https://localhost:8080/",
          "height": 204
        },
        "outputId": "79806c1f-ed51-4705-d0b9-cbb2659f5844"
      },
      "source": [
        "df.sample(5)"
      ],
      "execution_count": null,
      "outputs": [
        {
          "output_type": "execute_result",
          "data": {
            "text/html": [
              "<div>\n",
              "<style scoped>\n",
              "    .dataframe tbody tr th:only-of-type {\n",
              "        vertical-align: middle;\n",
              "    }\n",
              "\n",
              "    .dataframe tbody tr th {\n",
              "        vertical-align: top;\n",
              "    }\n",
              "\n",
              "    .dataframe thead th {\n",
              "        text-align: right;\n",
              "    }\n",
              "</style>\n",
              "<table border=\"1\" class=\"dataframe\">\n",
              "  <thead>\n",
              "    <tr style=\"text-align: right;\">\n",
              "      <th></th>\n",
              "      <th>Cidade</th>\n",
              "      <th>Data</th>\n",
              "      <th>Vendas</th>\n",
              "      <th>LojaID</th>\n",
              "      <th>Qtde</th>\n",
              "      <th>Receita</th>\n",
              "      <th>Receita/Vendas</th>\n",
              "      <th>Ano_Venda</th>\n",
              "      <th>mes_venda</th>\n",
              "      <th>dia_venda</th>\n",
              "      <th>diferenca_dias</th>\n",
              "      <th>trimestre_venda</th>\n",
              "    </tr>\n",
              "  </thead>\n",
              "  <tbody>\n",
              "    <tr>\n",
              "      <th>85</th>\n",
              "      <td>Fortaleza</td>\n",
              "      <td>2019-01-01</td>\n",
              "      <td>149.00</td>\n",
              "      <td>1005</td>\n",
              "      <td>3</td>\n",
              "      <td>447.00</td>\n",
              "      <td>3.0</td>\n",
              "      <td>2019</td>\n",
              "      <td>1</td>\n",
              "      <td>1</td>\n",
              "      <td>365 days</td>\n",
              "      <td>1</td>\n",
              "    </tr>\n",
              "    <tr>\n",
              "      <th>2</th>\n",
              "      <td>Aracaju</td>\n",
              "      <td>2018-01-01</td>\n",
              "      <td>71.55</td>\n",
              "      <td>1520</td>\n",
              "      <td>1</td>\n",
              "      <td>71.55</td>\n",
              "      <td>1.0</td>\n",
              "      <td>2018</td>\n",
              "      <td>1</td>\n",
              "      <td>1</td>\n",
              "      <td>0 days</td>\n",
              "      <td>1</td>\n",
              "    </tr>\n",
              "    <tr>\n",
              "      <th>54</th>\n",
              "      <td>Fortaleza</td>\n",
              "      <td>2019-01-01</td>\n",
              "      <td>16.73</td>\n",
              "      <td>1002</td>\n",
              "      <td>5</td>\n",
              "      <td>83.65</td>\n",
              "      <td>5.0</td>\n",
              "      <td>2019</td>\n",
              "      <td>1</td>\n",
              "      <td>1</td>\n",
              "      <td>365 days</td>\n",
              "      <td>1</td>\n",
              "    </tr>\n",
              "    <tr>\n",
              "      <th>81</th>\n",
              "      <td>Aracaju</td>\n",
              "      <td>2018-01-01</td>\n",
              "      <td>53.41</td>\n",
              "      <td>1520</td>\n",
              "      <td>2</td>\n",
              "      <td>106.82</td>\n",
              "      <td>2.0</td>\n",
              "      <td>2018</td>\n",
              "      <td>1</td>\n",
              "      <td>1</td>\n",
              "      <td>0 days</td>\n",
              "      <td>1</td>\n",
              "    </tr>\n",
              "    <tr>\n",
              "      <th>45</th>\n",
              "      <td>Fortaleza</td>\n",
              "      <td>2019-01-01</td>\n",
              "      <td>0.00</td>\n",
              "      <td>1004</td>\n",
              "      <td>3</td>\n",
              "      <td>0.00</td>\n",
              "      <td>NaN</td>\n",
              "      <td>2019</td>\n",
              "      <td>1</td>\n",
              "      <td>1</td>\n",
              "      <td>365 days</td>\n",
              "      <td>1</td>\n",
              "    </tr>\n",
              "  </tbody>\n",
              "</table>\n",
              "</div>"
            ],
            "text/plain": [
              "       Cidade       Data  Vendas  ... dia_venda  diferenca_dias  trimestre_venda\n",
              "85  Fortaleza 2019-01-01  149.00  ...         1        365 days                1\n",
              "2     Aracaju 2018-01-01   71.55  ...         1          0 days                1\n",
              "54  Fortaleza 2019-01-01   16.73  ...         1        365 days                1\n",
              "81    Aracaju 2018-01-01   53.41  ...         1          0 days                1\n",
              "45  Fortaleza 2019-01-01    0.00  ...         1        365 days                1\n",
              "\n",
              "[5 rows x 12 columns]"
            ]
          },
          "metadata": {
            "tags": []
          },
          "execution_count": 144
        }
      ]
    },
    {
      "cell_type": "code",
      "metadata": {
        "id": "ie2WTtU5Jc-G"
      },
      "source": [
        "#Filtrando as vendas de 2019 do mês de março\n",
        "vendas_marco_19 = df.loc[(df[\"Data\"].dt.year == 2019) & (df[\"Data\"].dt.month == 3)]"
      ],
      "execution_count": null,
      "outputs": []
    },
    {
      "cell_type": "code",
      "metadata": {
        "id": "4x6GgzC9KB_e",
        "colab": {
          "base_uri": "https://localhost:8080/",
          "height": 669
        },
        "outputId": "c65a0365-31d1-4876-96a9-803c355a4bed"
      },
      "source": [
        "vendas_marco_19.sample(20)"
      ],
      "execution_count": null,
      "outputs": [
        {
          "output_type": "execute_result",
          "data": {
            "text/html": [
              "<div>\n",
              "<style scoped>\n",
              "    .dataframe tbody tr th:only-of-type {\n",
              "        vertical-align: middle;\n",
              "    }\n",
              "\n",
              "    .dataframe tbody tr th {\n",
              "        vertical-align: top;\n",
              "    }\n",
              "\n",
              "    .dataframe thead th {\n",
              "        text-align: right;\n",
              "    }\n",
              "</style>\n",
              "<table border=\"1\" class=\"dataframe\">\n",
              "  <thead>\n",
              "    <tr style=\"text-align: right;\">\n",
              "      <th></th>\n",
              "      <th>Cidade</th>\n",
              "      <th>Data</th>\n",
              "      <th>Vendas</th>\n",
              "      <th>LojaID</th>\n",
              "      <th>Qtde</th>\n",
              "      <th>Receita</th>\n",
              "      <th>Receita/Vendas</th>\n",
              "      <th>Ano_Venda</th>\n",
              "      <th>mes_venda</th>\n",
              "      <th>dia_venda</th>\n",
              "      <th>diferenca_dias</th>\n",
              "      <th>trimestre_venda</th>\n",
              "    </tr>\n",
              "  </thead>\n",
              "  <tbody>\n",
              "    <tr>\n",
              "      <th>125</th>\n",
              "      <td>Fortaleza</td>\n",
              "      <td>2019-03-02</td>\n",
              "      <td>37.60</td>\n",
              "      <td>983</td>\n",
              "      <td>4</td>\n",
              "      <td>150.40</td>\n",
              "      <td>4.0</td>\n",
              "      <td>2019</td>\n",
              "      <td>3</td>\n",
              "      <td>2</td>\n",
              "      <td>425 days</td>\n",
              "      <td>1</td>\n",
              "    </tr>\n",
              "    <tr>\n",
              "      <th>124</th>\n",
              "      <td>Fortaleza</td>\n",
              "      <td>2019-03-02</td>\n",
              "      <td>47.98</td>\n",
              "      <td>983</td>\n",
              "      <td>7</td>\n",
              "      <td>335.86</td>\n",
              "      <td>7.0</td>\n",
              "      <td>2019</td>\n",
              "      <td>3</td>\n",
              "      <td>2</td>\n",
              "      <td>425 days</td>\n",
              "      <td>1</td>\n",
              "    </tr>\n",
              "    <tr>\n",
              "      <th>115</th>\n",
              "      <td>Fortaleza</td>\n",
              "      <td>2019-03-02</td>\n",
              "      <td>12.23</td>\n",
              "      <td>981</td>\n",
              "      <td>3</td>\n",
              "      <td>36.69</td>\n",
              "      <td>3.0</td>\n",
              "      <td>2019</td>\n",
              "      <td>3</td>\n",
              "      <td>2</td>\n",
              "      <td>425 days</td>\n",
              "      <td>1</td>\n",
              "    </tr>\n",
              "    <tr>\n",
              "      <th>50</th>\n",
              "      <td>Natal</td>\n",
              "      <td>2019-03-08</td>\n",
              "      <td>324.00</td>\n",
              "      <td>854</td>\n",
              "      <td>4</td>\n",
              "      <td>1296.00</td>\n",
              "      <td>4.0</td>\n",
              "      <td>2019</td>\n",
              "      <td>3</td>\n",
              "      <td>8</td>\n",
              "      <td>431 days</td>\n",
              "      <td>1</td>\n",
              "    </tr>\n",
              "    <tr>\n",
              "      <th>126</th>\n",
              "      <td>Recife</td>\n",
              "      <td>2019-03-02</td>\n",
              "      <td>41.87</td>\n",
              "      <td>980</td>\n",
              "      <td>8</td>\n",
              "      <td>334.96</td>\n",
              "      <td>8.0</td>\n",
              "      <td>2019</td>\n",
              "      <td>3</td>\n",
              "      <td>2</td>\n",
              "      <td>425 days</td>\n",
              "      <td>1</td>\n",
              "    </tr>\n",
              "    <tr>\n",
              "      <th>125</th>\n",
              "      <td>Recife</td>\n",
              "      <td>2019-03-02</td>\n",
              "      <td>37.60</td>\n",
              "      <td>983</td>\n",
              "      <td>4</td>\n",
              "      <td>150.40</td>\n",
              "      <td>4.0</td>\n",
              "      <td>2019</td>\n",
              "      <td>3</td>\n",
              "      <td>2</td>\n",
              "      <td>425 days</td>\n",
              "      <td>1</td>\n",
              "    </tr>\n",
              "    <tr>\n",
              "      <th>140</th>\n",
              "      <td>Fortaleza</td>\n",
              "      <td>2019-03-02</td>\n",
              "      <td>166.89</td>\n",
              "      <td>983</td>\n",
              "      <td>5</td>\n",
              "      <td>834.45</td>\n",
              "      <td>5.0</td>\n",
              "      <td>2019</td>\n",
              "      <td>3</td>\n",
              "      <td>2</td>\n",
              "      <td>425 days</td>\n",
              "      <td>1</td>\n",
              "    </tr>\n",
              "    <tr>\n",
              "      <th>140</th>\n",
              "      <td>Recife</td>\n",
              "      <td>2019-03-02</td>\n",
              "      <td>166.89</td>\n",
              "      <td>983</td>\n",
              "      <td>5</td>\n",
              "      <td>834.45</td>\n",
              "      <td>5.0</td>\n",
              "      <td>2019</td>\n",
              "      <td>3</td>\n",
              "      <td>2</td>\n",
              "      <td>425 days</td>\n",
              "      <td>1</td>\n",
              "    </tr>\n",
              "    <tr>\n",
              "      <th>2</th>\n",
              "      <td>Natal</td>\n",
              "      <td>2019-03-11</td>\n",
              "      <td>308.00</td>\n",
              "      <td>852</td>\n",
              "      <td>3</td>\n",
              "      <td>924.00</td>\n",
              "      <td>3.0</td>\n",
              "      <td>2019</td>\n",
              "      <td>3</td>\n",
              "      <td>11</td>\n",
              "      <td>434 days</td>\n",
              "      <td>1</td>\n",
              "    </tr>\n",
              "    <tr>\n",
              "      <th>131</th>\n",
              "      <td>Salvador</td>\n",
              "      <td>2019-03-02</td>\n",
              "      <td>63.48</td>\n",
              "      <td>1037</td>\n",
              "      <td>3</td>\n",
              "      <td>190.44</td>\n",
              "      <td>3.0</td>\n",
              "      <td>2019</td>\n",
              "      <td>3</td>\n",
              "      <td>2</td>\n",
              "      <td>425 days</td>\n",
              "      <td>1</td>\n",
              "    </tr>\n",
              "    <tr>\n",
              "      <th>108</th>\n",
              "      <td>Salvador</td>\n",
              "      <td>2019-03-02</td>\n",
              "      <td>11.72</td>\n",
              "      <td>1037</td>\n",
              "      <td>1</td>\n",
              "      <td>11.72</td>\n",
              "      <td>1.0</td>\n",
              "      <td>2019</td>\n",
              "      <td>3</td>\n",
              "      <td>2</td>\n",
              "      <td>425 days</td>\n",
              "      <td>1</td>\n",
              "    </tr>\n",
              "    <tr>\n",
              "      <th>118</th>\n",
              "      <td>Recife</td>\n",
              "      <td>2019-03-02</td>\n",
              "      <td>17.70</td>\n",
              "      <td>981</td>\n",
              "      <td>5</td>\n",
              "      <td>88.50</td>\n",
              "      <td>5.0</td>\n",
              "      <td>2019</td>\n",
              "      <td>3</td>\n",
              "      <td>2</td>\n",
              "      <td>425 days</td>\n",
              "      <td>1</td>\n",
              "    </tr>\n",
              "    <tr>\n",
              "      <th>66</th>\n",
              "      <td>Natal</td>\n",
              "      <td>2019-03-24</td>\n",
              "      <td>559.00</td>\n",
              "      <td>853</td>\n",
              "      <td>2</td>\n",
              "      <td>1118.00</td>\n",
              "      <td>2.0</td>\n",
              "      <td>2019</td>\n",
              "      <td>3</td>\n",
              "      <td>24</td>\n",
              "      <td>447 days</td>\n",
              "      <td>1</td>\n",
              "    </tr>\n",
              "    <tr>\n",
              "      <th>137</th>\n",
              "      <td>Recife</td>\n",
              "      <td>2019-03-02</td>\n",
              "      <td>51.99</td>\n",
              "      <td>983</td>\n",
              "      <td>3</td>\n",
              "      <td>155.97</td>\n",
              "      <td>3.0</td>\n",
              "      <td>2019</td>\n",
              "      <td>3</td>\n",
              "      <td>2</td>\n",
              "      <td>425 days</td>\n",
              "      <td>1</td>\n",
              "    </tr>\n",
              "    <tr>\n",
              "      <th>136</th>\n",
              "      <td>Recife</td>\n",
              "      <td>2019-03-02</td>\n",
              "      <td>39.09</td>\n",
              "      <td>982</td>\n",
              "      <td>4</td>\n",
              "      <td>156.36</td>\n",
              "      <td>4.0</td>\n",
              "      <td>2019</td>\n",
              "      <td>3</td>\n",
              "      <td>2</td>\n",
              "      <td>425 days</td>\n",
              "      <td>1</td>\n",
              "    </tr>\n",
              "    <tr>\n",
              "      <th>121</th>\n",
              "      <td>Salvador</td>\n",
              "      <td>2019-03-02</td>\n",
              "      <td>100.70</td>\n",
              "      <td>1037</td>\n",
              "      <td>3</td>\n",
              "      <td>302.10</td>\n",
              "      <td>3.0</td>\n",
              "      <td>2019</td>\n",
              "      <td>3</td>\n",
              "      <td>2</td>\n",
              "      <td>425 days</td>\n",
              "      <td>1</td>\n",
              "    </tr>\n",
              "    <tr>\n",
              "      <th>111</th>\n",
              "      <td>Salvador</td>\n",
              "      <td>2019-03-02</td>\n",
              "      <td>147.35</td>\n",
              "      <td>1037</td>\n",
              "      <td>2</td>\n",
              "      <td>294.70</td>\n",
              "      <td>2.0</td>\n",
              "      <td>2019</td>\n",
              "      <td>3</td>\n",
              "      <td>2</td>\n",
              "      <td>425 days</td>\n",
              "      <td>1</td>\n",
              "    </tr>\n",
              "    <tr>\n",
              "      <th>138</th>\n",
              "      <td>Recife</td>\n",
              "      <td>2019-03-02</td>\n",
              "      <td>150.38</td>\n",
              "      <td>983</td>\n",
              "      <td>6</td>\n",
              "      <td>902.28</td>\n",
              "      <td>6.0</td>\n",
              "      <td>2019</td>\n",
              "      <td>3</td>\n",
              "      <td>2</td>\n",
              "      <td>425 days</td>\n",
              "      <td>1</td>\n",
              "    </tr>\n",
              "    <tr>\n",
              "      <th>108</th>\n",
              "      <td>Fortaleza</td>\n",
              "      <td>2019-03-02</td>\n",
              "      <td>152.89</td>\n",
              "      <td>981</td>\n",
              "      <td>4</td>\n",
              "      <td>611.56</td>\n",
              "      <td>4.0</td>\n",
              "      <td>2019</td>\n",
              "      <td>3</td>\n",
              "      <td>2</td>\n",
              "      <td>425 days</td>\n",
              "      <td>1</td>\n",
              "    </tr>\n",
              "    <tr>\n",
              "      <th>82</th>\n",
              "      <td>Natal</td>\n",
              "      <td>2019-03-07</td>\n",
              "      <td>868.00</td>\n",
              "      <td>854</td>\n",
              "      <td>3</td>\n",
              "      <td>2604.00</td>\n",
              "      <td>3.0</td>\n",
              "      <td>2019</td>\n",
              "      <td>3</td>\n",
              "      <td>7</td>\n",
              "      <td>430 days</td>\n",
              "      <td>1</td>\n",
              "    </tr>\n",
              "  </tbody>\n",
              "</table>\n",
              "</div>"
            ],
            "text/plain": [
              "        Cidade       Data  Vendas  ... dia_venda  diferenca_dias  trimestre_venda\n",
              "125  Fortaleza 2019-03-02   37.60  ...         2        425 days                1\n",
              "124  Fortaleza 2019-03-02   47.98  ...         2        425 days                1\n",
              "115  Fortaleza 2019-03-02   12.23  ...         2        425 days                1\n",
              "50       Natal 2019-03-08  324.00  ...         8        431 days                1\n",
              "126     Recife 2019-03-02   41.87  ...         2        425 days                1\n",
              "125     Recife 2019-03-02   37.60  ...         2        425 days                1\n",
              "140  Fortaleza 2019-03-02  166.89  ...         2        425 days                1\n",
              "140     Recife 2019-03-02  166.89  ...         2        425 days                1\n",
              "2        Natal 2019-03-11  308.00  ...        11        434 days                1\n",
              "131   Salvador 2019-03-02   63.48  ...         2        425 days                1\n",
              "108   Salvador 2019-03-02   11.72  ...         2        425 days                1\n",
              "118     Recife 2019-03-02   17.70  ...         2        425 days                1\n",
              "66       Natal 2019-03-24  559.00  ...        24        447 days                1\n",
              "137     Recife 2019-03-02   51.99  ...         2        425 days                1\n",
              "136     Recife 2019-03-02   39.09  ...         2        425 days                1\n",
              "121   Salvador 2019-03-02  100.70  ...         2        425 days                1\n",
              "111   Salvador 2019-03-02  147.35  ...         2        425 days                1\n",
              "138     Recife 2019-03-02  150.38  ...         2        425 days                1\n",
              "108  Fortaleza 2019-03-02  152.89  ...         2        425 days                1\n",
              "82       Natal 2019-03-07  868.00  ...         7        430 days                1\n",
              "\n",
              "[20 rows x 12 columns]"
            ]
          },
          "metadata": {
            "tags": []
          },
          "execution_count": 147
        }
      ]
    },
    {
      "cell_type": "code",
      "metadata": {
        "id": "JmZ6dy1xKEtC"
      },
      "source": [],
      "execution_count": null,
      "outputs": []
    },
    {
      "cell_type": "markdown",
      "metadata": {
        "id": "sGn7qmFOcLYH"
      },
      "source": [
        "#**Trabalhando com Planilhas do Excel**"
      ]
    },
    {
      "cell_type": "code",
      "metadata": {
        "id": "nO0gm9rocLYH"
      },
      "source": [
        "#Importando a biblioteca\n",
        "import pandas as pd"
      ],
      "execution_count": null,
      "outputs": []
    },
    {
      "cell_type": "code",
      "metadata": {
        "id": "LtZCXZyOcLYI"
      },
      "source": [
        "#Leitura dos arquivos\n",
        "df1 = pd.read_excel(\"Aracaju.xlsx\")\n",
        "df2 = pd.read_excel(\"Fortaleza.xlsx\")\n",
        "df3 = pd.read_excel(\"Natal.xlsx\")\n",
        "df4 = pd.read_excel(\"Recife.xlsx\")\n",
        "df5 = pd.read_excel(\"Salvador.xlsx\")"
      ],
      "execution_count": null,
      "outputs": []
    },
    {
      "cell_type": "code",
      "metadata": {
        "outputId": "ffe2a67a-51ad-4749-d941-81cdd22dd29b",
        "colab": {
          "base_uri": "https://localhost:8080/",
          "height": 204
        },
        "id": "bNaTtzXTcLYI"
      },
      "source": [
        "df5.head()"
      ],
      "execution_count": null,
      "outputs": [
        {
          "output_type": "execute_result",
          "data": {
            "text/html": [
              "<div>\n",
              "<style scoped>\n",
              "    .dataframe tbody tr th:only-of-type {\n",
              "        vertical-align: middle;\n",
              "    }\n",
              "\n",
              "    .dataframe tbody tr th {\n",
              "        vertical-align: top;\n",
              "    }\n",
              "\n",
              "    .dataframe thead th {\n",
              "        text-align: right;\n",
              "    }\n",
              "</style>\n",
              "<table border=\"1\" class=\"dataframe\">\n",
              "  <thead>\n",
              "    <tr style=\"text-align: right;\">\n",
              "      <th></th>\n",
              "      <th>Cidade</th>\n",
              "      <th>Data</th>\n",
              "      <th>Vendas</th>\n",
              "      <th>LojaID</th>\n",
              "      <th>Qtde</th>\n",
              "    </tr>\n",
              "  </thead>\n",
              "  <tbody>\n",
              "    <tr>\n",
              "      <th>0</th>\n",
              "      <td>Salvador</td>\n",
              "      <td>2018-01-01</td>\n",
              "      <td>31.06</td>\n",
              "      <td>1037</td>\n",
              "      <td>3</td>\n",
              "    </tr>\n",
              "    <tr>\n",
              "      <th>1</th>\n",
              "      <td>Salvador</td>\n",
              "      <td>2018-01-01</td>\n",
              "      <td>19.02</td>\n",
              "      <td>1034</td>\n",
              "      <td>3</td>\n",
              "    </tr>\n",
              "    <tr>\n",
              "      <th>2</th>\n",
              "      <td>Salvador</td>\n",
              "      <td>2019-02-10</td>\n",
              "      <td>173.59</td>\n",
              "      <td>1035</td>\n",
              "      <td>3</td>\n",
              "    </tr>\n",
              "    <tr>\n",
              "      <th>3</th>\n",
              "      <td>Salvador</td>\n",
              "      <td>2019-02-10</td>\n",
              "      <td>176.34</td>\n",
              "      <td>1037</td>\n",
              "      <td>3</td>\n",
              "    </tr>\n",
              "    <tr>\n",
              "      <th>4</th>\n",
              "      <td>Salvador</td>\n",
              "      <td>2019-02-14</td>\n",
              "      <td>19.47</td>\n",
              "      <td>1037</td>\n",
              "      <td>3</td>\n",
              "    </tr>\n",
              "  </tbody>\n",
              "</table>\n",
              "</div>"
            ],
            "text/plain": [
              "     Cidade       Data  Vendas  LojaID  Qtde\n",
              "0  Salvador 2018-01-01   31.06    1037     3\n",
              "1  Salvador 2018-01-01   19.02    1034     3\n",
              "2  Salvador 2019-02-10  173.59    1035     3\n",
              "3  Salvador 2019-02-10  176.34    1037     3\n",
              "4  Salvador 2019-02-14   19.47    1037     3"
            ]
          },
          "metadata": {
            "tags": []
          },
          "execution_count": 113
        }
      ]
    },
    {
      "cell_type": "code",
      "metadata": {
        "id": "ZJf07ITccLYI"
      },
      "source": [
        "#juntando todos os arquivos\n",
        "df = pd.concat([df1,df2,df3,df4,df5])"
      ],
      "execution_count": null,
      "outputs": []
    },
    {
      "cell_type": "code",
      "metadata": {
        "outputId": "f1ed7fc3-ac01-4af0-cfae-392c343ffb03",
        "colab": {
          "base_uri": "https://localhost:8080/",
          "height": 204
        },
        "id": "6P6_S1kZcLYI"
      },
      "source": [
        "#Exibindo as 5 primeiras linhas\n",
        "df.head()"
      ],
      "execution_count": null,
      "outputs": [
        {
          "output_type": "execute_result",
          "data": {
            "text/html": [
              "<div>\n",
              "<style scoped>\n",
              "    .dataframe tbody tr th:only-of-type {\n",
              "        vertical-align: middle;\n",
              "    }\n",
              "\n",
              "    .dataframe tbody tr th {\n",
              "        vertical-align: top;\n",
              "    }\n",
              "\n",
              "    .dataframe thead th {\n",
              "        text-align: right;\n",
              "    }\n",
              "</style>\n",
              "<table border=\"1\" class=\"dataframe\">\n",
              "  <thead>\n",
              "    <tr style=\"text-align: right;\">\n",
              "      <th></th>\n",
              "      <th>Cidade</th>\n",
              "      <th>Data</th>\n",
              "      <th>Vendas</th>\n",
              "      <th>LojaID</th>\n",
              "      <th>Qtde</th>\n",
              "    </tr>\n",
              "  </thead>\n",
              "  <tbody>\n",
              "    <tr>\n",
              "      <th>0</th>\n",
              "      <td>Aracaju</td>\n",
              "      <td>2018-01-01</td>\n",
              "      <td>142.00</td>\n",
              "      <td>1520</td>\n",
              "      <td>1</td>\n",
              "    </tr>\n",
              "    <tr>\n",
              "      <th>1</th>\n",
              "      <td>Aracaju</td>\n",
              "      <td>2018-01-01</td>\n",
              "      <td>14.21</td>\n",
              "      <td>1522</td>\n",
              "      <td>6</td>\n",
              "    </tr>\n",
              "    <tr>\n",
              "      <th>2</th>\n",
              "      <td>Aracaju</td>\n",
              "      <td>2018-01-01</td>\n",
              "      <td>71.55</td>\n",
              "      <td>1520</td>\n",
              "      <td>1</td>\n",
              "    </tr>\n",
              "    <tr>\n",
              "      <th>3</th>\n",
              "      <td>Aracaju</td>\n",
              "      <td>2018-01-01</td>\n",
              "      <td>3.01</td>\n",
              "      <td>1521</td>\n",
              "      <td>7</td>\n",
              "    </tr>\n",
              "    <tr>\n",
              "      <th>4</th>\n",
              "      <td>Aracaju</td>\n",
              "      <td>2018-01-01</td>\n",
              "      <td>24.51</td>\n",
              "      <td>1522</td>\n",
              "      <td>8</td>\n",
              "    </tr>\n",
              "  </tbody>\n",
              "</table>\n",
              "</div>"
            ],
            "text/plain": [
              "    Cidade       Data  Vendas  LojaID  Qtde\n",
              "0  Aracaju 2018-01-01  142.00    1520     1\n",
              "1  Aracaju 2018-01-01   14.21    1522     6\n",
              "2  Aracaju 2018-01-01   71.55    1520     1\n",
              "3  Aracaju 2018-01-01    3.01    1521     7\n",
              "4  Aracaju 2018-01-01   24.51    1522     8"
            ]
          },
          "metadata": {
            "tags": []
          },
          "execution_count": 115
        }
      ]
    },
    {
      "cell_type": "code",
      "metadata": {
        "outputId": "15c819f5-a1c0-42ac-a1be-4727c424340a",
        "colab": {
          "base_uri": "https://localhost:8080/",
          "height": 204
        },
        "id": "pA-SD7WTcLYI"
      },
      "source": [
        "#Exibindo as 5 últimas linhas\n",
        "df.tail()"
      ],
      "execution_count": null,
      "outputs": [
        {
          "output_type": "execute_result",
          "data": {
            "text/html": [
              "<div>\n",
              "<style scoped>\n",
              "    .dataframe tbody tr th:only-of-type {\n",
              "        vertical-align: middle;\n",
              "    }\n",
              "\n",
              "    .dataframe tbody tr th {\n",
              "        vertical-align: top;\n",
              "    }\n",
              "\n",
              "    .dataframe thead th {\n",
              "        text-align: right;\n",
              "    }\n",
              "</style>\n",
              "<table border=\"1\" class=\"dataframe\">\n",
              "  <thead>\n",
              "    <tr style=\"text-align: right;\">\n",
              "      <th></th>\n",
              "      <th>Cidade</th>\n",
              "      <th>Data</th>\n",
              "      <th>Vendas</th>\n",
              "      <th>LojaID</th>\n",
              "      <th>Qtde</th>\n",
              "    </tr>\n",
              "  </thead>\n",
              "  <tbody>\n",
              "    <tr>\n",
              "      <th>235</th>\n",
              "      <td>Salvador</td>\n",
              "      <td>2019-01-03</td>\n",
              "      <td>41.84</td>\n",
              "      <td>1034</td>\n",
              "      <td>1</td>\n",
              "    </tr>\n",
              "    <tr>\n",
              "      <th>236</th>\n",
              "      <td>Salvador</td>\n",
              "      <td>2019-01-03</td>\n",
              "      <td>126.29</td>\n",
              "      <td>1035</td>\n",
              "      <td>3</td>\n",
              "    </tr>\n",
              "    <tr>\n",
              "      <th>237</th>\n",
              "      <td>Salvador</td>\n",
              "      <td>2019-01-03</td>\n",
              "      <td>38.06</td>\n",
              "      <td>1036</td>\n",
              "      <td>3</td>\n",
              "    </tr>\n",
              "    <tr>\n",
              "      <th>238</th>\n",
              "      <td>Salvador</td>\n",
              "      <td>2019-01-03</td>\n",
              "      <td>139.64</td>\n",
              "      <td>1035</td>\n",
              "      <td>1</td>\n",
              "    </tr>\n",
              "    <tr>\n",
              "      <th>239</th>\n",
              "      <td>Salvador</td>\n",
              "      <td>2019-01-03</td>\n",
              "      <td>161.41</td>\n",
              "      <td>1037</td>\n",
              "      <td>3</td>\n",
              "    </tr>\n",
              "  </tbody>\n",
              "</table>\n",
              "</div>"
            ],
            "text/plain": [
              "       Cidade       Data  Vendas  LojaID  Qtde\n",
              "235  Salvador 2019-01-03   41.84    1034     1\n",
              "236  Salvador 2019-01-03  126.29    1035     3\n",
              "237  Salvador 2019-01-03   38.06    1036     3\n",
              "238  Salvador 2019-01-03  139.64    1035     1\n",
              "239  Salvador 2019-01-03  161.41    1037     3"
            ]
          },
          "metadata": {
            "tags": []
          },
          "execution_count": 54
        }
      ]
    },
    {
      "cell_type": "code",
      "metadata": {
        "outputId": "efe39301-6ece-4446-a3b9-60cb39095e69",
        "colab": {
          "base_uri": "https://localhost:8080/",
          "height": 204
        },
        "id": "bLZuv4sacLYJ"
      },
      "source": [
        "df.sample(5)"
      ],
      "execution_count": null,
      "outputs": [
        {
          "output_type": "execute_result",
          "data": {
            "text/html": [
              "<div>\n",
              "<style scoped>\n",
              "    .dataframe tbody tr th:only-of-type {\n",
              "        vertical-align: middle;\n",
              "    }\n",
              "\n",
              "    .dataframe tbody tr th {\n",
              "        vertical-align: top;\n",
              "    }\n",
              "\n",
              "    .dataframe thead th {\n",
              "        text-align: right;\n",
              "    }\n",
              "</style>\n",
              "<table border=\"1\" class=\"dataframe\">\n",
              "  <thead>\n",
              "    <tr style=\"text-align: right;\">\n",
              "      <th></th>\n",
              "      <th>Cidade</th>\n",
              "      <th>Data</th>\n",
              "      <th>Vendas</th>\n",
              "      <th>LojaID</th>\n",
              "      <th>Qtde</th>\n",
              "    </tr>\n",
              "  </thead>\n",
              "  <tbody>\n",
              "    <tr>\n",
              "      <th>55</th>\n",
              "      <td>Aracaju</td>\n",
              "      <td>2018-01-01</td>\n",
              "      <td>67.23</td>\n",
              "      <td>1520</td>\n",
              "      <td>8</td>\n",
              "    </tr>\n",
              "    <tr>\n",
              "      <th>228</th>\n",
              "      <td>Natal</td>\n",
              "      <td>2019-01-02</td>\n",
              "      <td>6.87</td>\n",
              "      <td>1037</td>\n",
              "      <td>3</td>\n",
              "    </tr>\n",
              "    <tr>\n",
              "      <th>12</th>\n",
              "      <td>Recife</td>\n",
              "      <td>2019-01-01</td>\n",
              "      <td>17.48</td>\n",
              "      <td>982</td>\n",
              "      <td>2</td>\n",
              "    </tr>\n",
              "    <tr>\n",
              "      <th>68</th>\n",
              "      <td>Salvador</td>\n",
              "      <td>2019-01-01</td>\n",
              "      <td>162.35</td>\n",
              "      <td>1037</td>\n",
              "      <td>3</td>\n",
              "    </tr>\n",
              "    <tr>\n",
              "      <th>160</th>\n",
              "      <td>Natal</td>\n",
              "      <td>2019-01-02</td>\n",
              "      <td>11.76</td>\n",
              "      <td>1034</td>\n",
              "      <td>1</td>\n",
              "    </tr>\n",
              "  </tbody>\n",
              "</table>\n",
              "</div>"
            ],
            "text/plain": [
              "       Cidade       Data  Vendas  LojaID  Qtde\n",
              "55    Aracaju 2018-01-01   67.23    1520     8\n",
              "228     Natal 2019-01-02    6.87    1037     3\n",
              "12     Recife 2019-01-01   17.48     982     2\n",
              "68   Salvador 2019-01-01  162.35    1037     3\n",
              "160     Natal 2019-01-02   11.76    1034     1"
            ]
          },
          "metadata": {
            "tags": []
          },
          "execution_count": 57
        }
      ]
    },
    {
      "cell_type": "code",
      "metadata": {
        "outputId": "3617ad27-63b0-483f-ea6e-1a8413272afc",
        "colab": {
          "base_uri": "https://localhost:8080/",
          "height": 119
        },
        "id": "fN4fFR8pcLYJ"
      },
      "source": [
        "#Verificando o tipo de dado de cada coluna\n",
        "df.dtypes"
      ],
      "execution_count": null,
      "outputs": [
        {
          "output_type": "execute_result",
          "data": {
            "text/plain": [
              "Cidade            object\n",
              "Data      datetime64[ns]\n",
              "Vendas           float64\n",
              "LojaID             int64\n",
              "Qtde               int64\n",
              "dtype: object"
            ]
          },
          "metadata": {
            "tags": []
          },
          "execution_count": 58
        }
      ]
    },
    {
      "cell_type": "code",
      "metadata": {
        "id": "euKJWlEBcLYJ"
      },
      "source": [
        "#Alterando o tipo de dado da coluna LojaID\n",
        "df[\"LojaID\"] = df[\"LojaID\"].astype(\"object\")"
      ],
      "execution_count": null,
      "outputs": []
    },
    {
      "cell_type": "code",
      "metadata": {
        "outputId": "a8d766f2-504e-4fcb-dc09-842b4c5218b6",
        "colab": {
          "base_uri": "https://localhost:8080/",
          "height": 119
        },
        "id": "dXVji8jEcLYK"
      },
      "source": [
        "df.dtypes"
      ],
      "execution_count": null,
      "outputs": [
        {
          "output_type": "execute_result",
          "data": {
            "text/plain": [
              "Cidade            object\n",
              "Data      datetime64[ns]\n",
              "Vendas           float64\n",
              "LojaID            object\n",
              "Qtde               int64\n",
              "dtype: object"
            ]
          },
          "metadata": {
            "tags": []
          },
          "execution_count": 60
        }
      ]
    },
    {
      "cell_type": "code",
      "metadata": {
        "outputId": "10d2f11c-d421-4434-fe61-dfa537b7d6bf",
        "colab": {
          "base_uri": "https://localhost:8080/",
          "height": 204
        },
        "id": "MYcyF2LtcLYL"
      },
      "source": [
        "df.head()"
      ],
      "execution_count": null,
      "outputs": [
        {
          "output_type": "execute_result",
          "data": {
            "text/html": [
              "<div>\n",
              "<style scoped>\n",
              "    .dataframe tbody tr th:only-of-type {\n",
              "        vertical-align: middle;\n",
              "    }\n",
              "\n",
              "    .dataframe tbody tr th {\n",
              "        vertical-align: top;\n",
              "    }\n",
              "\n",
              "    .dataframe thead th {\n",
              "        text-align: right;\n",
              "    }\n",
              "</style>\n",
              "<table border=\"1\" class=\"dataframe\">\n",
              "  <thead>\n",
              "    <tr style=\"text-align: right;\">\n",
              "      <th></th>\n",
              "      <th>Cidade</th>\n",
              "      <th>Data</th>\n",
              "      <th>Vendas</th>\n",
              "      <th>LojaID</th>\n",
              "      <th>Qtde</th>\n",
              "    </tr>\n",
              "  </thead>\n",
              "  <tbody>\n",
              "    <tr>\n",
              "      <th>0</th>\n",
              "      <td>Aracaju</td>\n",
              "      <td>2018-01-01</td>\n",
              "      <td>142.00</td>\n",
              "      <td>1520</td>\n",
              "      <td>1</td>\n",
              "    </tr>\n",
              "    <tr>\n",
              "      <th>1</th>\n",
              "      <td>Aracaju</td>\n",
              "      <td>2018-01-01</td>\n",
              "      <td>14.21</td>\n",
              "      <td>1522</td>\n",
              "      <td>6</td>\n",
              "    </tr>\n",
              "    <tr>\n",
              "      <th>2</th>\n",
              "      <td>Aracaju</td>\n",
              "      <td>2018-01-01</td>\n",
              "      <td>71.55</td>\n",
              "      <td>1520</td>\n",
              "      <td>1</td>\n",
              "    </tr>\n",
              "    <tr>\n",
              "      <th>3</th>\n",
              "      <td>Aracaju</td>\n",
              "      <td>2018-01-01</td>\n",
              "      <td>3.01</td>\n",
              "      <td>1521</td>\n",
              "      <td>7</td>\n",
              "    </tr>\n",
              "    <tr>\n",
              "      <th>4</th>\n",
              "      <td>Aracaju</td>\n",
              "      <td>2018-01-01</td>\n",
              "      <td>24.51</td>\n",
              "      <td>1522</td>\n",
              "      <td>8</td>\n",
              "    </tr>\n",
              "  </tbody>\n",
              "</table>\n",
              "</div>"
            ],
            "text/plain": [
              "    Cidade       Data  Vendas LojaID  Qtde\n",
              "0  Aracaju 2018-01-01  142.00   1520     1\n",
              "1  Aracaju 2018-01-01   14.21   1522     6\n",
              "2  Aracaju 2018-01-01   71.55   1520     1\n",
              "3  Aracaju 2018-01-01    3.01   1521     7\n",
              "4  Aracaju 2018-01-01   24.51   1522     8"
            ]
          },
          "metadata": {
            "tags": []
          },
          "execution_count": 61
        }
      ]
    },
    {
      "cell_type": "markdown",
      "metadata": {
        "id": "OTT1diIKcLYL"
      },
      "source": [
        "**Tratando valores faltantes**"
      ]
    },
    {
      "cell_type": "code",
      "metadata": {
        "outputId": "91e21217-879a-426d-8b2b-fb15e77b2f87",
        "colab": {
          "base_uri": "https://localhost:8080/",
          "height": 119
        },
        "id": "7zFIDudScLYL"
      },
      "source": [
        "#Consultando linhas com valores faltantes\n",
        "df.isnull().sum()"
      ],
      "execution_count": null,
      "outputs": [
        {
          "output_type": "execute_result",
          "data": {
            "text/plain": [
              "Cidade    0\n",
              "Data      0\n",
              "Vendas    7\n",
              "LojaID    0\n",
              "Qtde      0\n",
              "dtype: int64"
            ]
          },
          "metadata": {
            "tags": []
          },
          "execution_count": 117
        }
      ]
    },
    {
      "cell_type": "code",
      "metadata": {
        "id": "SArlNErtcLYM"
      },
      "source": [
        "#Substituindo os valores nulos pela média\n",
        "df[\"Vendas\"].fillna(df[\"Vendas\"].mean(), inplace=True)"
      ],
      "execution_count": null,
      "outputs": []
    },
    {
      "cell_type": "code",
      "metadata": {
        "outputId": "ed9d1efa-e3b7-479e-9119-bab340148876",
        "colab": {
          "base_uri": "https://localhost:8080/",
          "height": 34
        },
        "id": "oyrLqQKzcLYM"
      },
      "source": [
        "df[\"Vendas\"].mean()"
      ],
      "execution_count": null,
      "outputs": [
        {
          "output_type": "execute_result",
          "data": {
            "text/plain": [
              "122.9339571589626"
            ]
          },
          "metadata": {
            "tags": []
          },
          "execution_count": 68
        }
      ]
    },
    {
      "cell_type": "code",
      "metadata": {
        "outputId": "84874d37-3368-452f-bed6-43782dea6cf6",
        "colab": {
          "base_uri": "https://localhost:8080/",
          "height": 119
        },
        "id": "wdemXAtJcLYM"
      },
      "source": [
        "df.isnull().sum()"
      ],
      "execution_count": null,
      "outputs": [
        {
          "output_type": "execute_result",
          "data": {
            "text/plain": [
              "Cidade    0\n",
              "Data      0\n",
              "Vendas    0\n",
              "LojaID    0\n",
              "Qtde      0\n",
              "dtype: int64"
            ]
          },
          "metadata": {
            "tags": []
          },
          "execution_count": 70
        }
      ]
    },
    {
      "cell_type": "code",
      "metadata": {
        "outputId": "e37c7b13-8bd1-46e2-e3f3-104e7fce8f8a",
        "colab": {
          "base_uri": "https://localhost:8080/",
          "height": 514
        },
        "id": "jxPosAL6cLYM"
      },
      "source": [
        "df.sample(15)"
      ],
      "execution_count": null,
      "outputs": [
        {
          "output_type": "execute_result",
          "data": {
            "text/html": [
              "<div>\n",
              "<style scoped>\n",
              "    .dataframe tbody tr th:only-of-type {\n",
              "        vertical-align: middle;\n",
              "    }\n",
              "\n",
              "    .dataframe tbody tr th {\n",
              "        vertical-align: top;\n",
              "    }\n",
              "\n",
              "    .dataframe thead th {\n",
              "        text-align: right;\n",
              "    }\n",
              "</style>\n",
              "<table border=\"1\" class=\"dataframe\">\n",
              "  <thead>\n",
              "    <tr style=\"text-align: right;\">\n",
              "      <th></th>\n",
              "      <th>Cidade</th>\n",
              "      <th>Data</th>\n",
              "      <th>Vendas</th>\n",
              "      <th>LojaID</th>\n",
              "      <th>Qtde</th>\n",
              "    </tr>\n",
              "  </thead>\n",
              "  <tbody>\n",
              "    <tr>\n",
              "      <th>216</th>\n",
              "      <td>Salvador</td>\n",
              "      <td>2019-01-02</td>\n",
              "      <td>5.82</td>\n",
              "      <td>1035</td>\n",
              "      <td>1</td>\n",
              "    </tr>\n",
              "    <tr>\n",
              "      <th>224</th>\n",
              "      <td>Natal</td>\n",
              "      <td>2019-01-02</td>\n",
              "      <td>178.30</td>\n",
              "      <td>1035</td>\n",
              "      <td>3</td>\n",
              "    </tr>\n",
              "    <tr>\n",
              "      <th>34</th>\n",
              "      <td>Recife</td>\n",
              "      <td>2019-01-01</td>\n",
              "      <td>24.97</td>\n",
              "      <td>980</td>\n",
              "      <td>5</td>\n",
              "    </tr>\n",
              "    <tr>\n",
              "      <th>74</th>\n",
              "      <td>Recife</td>\n",
              "      <td>2019-01-01</td>\n",
              "      <td>38.79</td>\n",
              "      <td>983</td>\n",
              "      <td>6</td>\n",
              "    </tr>\n",
              "    <tr>\n",
              "      <th>193</th>\n",
              "      <td>Natal</td>\n",
              "      <td>2019-01-02</td>\n",
              "      <td>3.97</td>\n",
              "      <td>1036</td>\n",
              "      <td>2</td>\n",
              "    </tr>\n",
              "    <tr>\n",
              "      <th>136</th>\n",
              "      <td>Natal</td>\n",
              "      <td>2019-01-02</td>\n",
              "      <td>13.81</td>\n",
              "      <td>1036</td>\n",
              "      <td>1</td>\n",
              "    </tr>\n",
              "    <tr>\n",
              "      <th>113</th>\n",
              "      <td>Fortaleza</td>\n",
              "      <td>2019-03-02</td>\n",
              "      <td>38.63</td>\n",
              "      <td>980</td>\n",
              "      <td>2</td>\n",
              "    </tr>\n",
              "    <tr>\n",
              "      <th>64</th>\n",
              "      <td>Fortaleza</td>\n",
              "      <td>2019-01-01</td>\n",
              "      <td>110.31</td>\n",
              "      <td>1005</td>\n",
              "      <td>4</td>\n",
              "    </tr>\n",
              "    <tr>\n",
              "      <th>121</th>\n",
              "      <td>Aracaju</td>\n",
              "      <td>2018-01-01</td>\n",
              "      <td>162.07</td>\n",
              "      <td>1520</td>\n",
              "      <td>3</td>\n",
              "    </tr>\n",
              "    <tr>\n",
              "      <th>6</th>\n",
              "      <td>Aracaju</td>\n",
              "      <td>2018-01-01</td>\n",
              "      <td>35.50</td>\n",
              "      <td>1522</td>\n",
              "      <td>2</td>\n",
              "    </tr>\n",
              "    <tr>\n",
              "      <th>118</th>\n",
              "      <td>Natal</td>\n",
              "      <td>2019-01-02</td>\n",
              "      <td>92.21</td>\n",
              "      <td>1035</td>\n",
              "      <td>2</td>\n",
              "    </tr>\n",
              "    <tr>\n",
              "      <th>10</th>\n",
              "      <td>Recife</td>\n",
              "      <td>2019-01-01</td>\n",
              "      <td>38.51</td>\n",
              "      <td>982</td>\n",
              "      <td>8</td>\n",
              "    </tr>\n",
              "    <tr>\n",
              "      <th>41</th>\n",
              "      <td>Aracaju</td>\n",
              "      <td>2018-01-01</td>\n",
              "      <td>229.64</td>\n",
              "      <td>1520</td>\n",
              "      <td>8</td>\n",
              "    </tr>\n",
              "    <tr>\n",
              "      <th>130</th>\n",
              "      <td>Fortaleza</td>\n",
              "      <td>2019-03-02</td>\n",
              "      <td>12.36</td>\n",
              "      <td>983</td>\n",
              "      <td>4</td>\n",
              "    </tr>\n",
              "    <tr>\n",
              "      <th>130</th>\n",
              "      <td>Salvador</td>\n",
              "      <td>2019-03-02</td>\n",
              "      <td>59.78</td>\n",
              "      <td>1036</td>\n",
              "      <td>1</td>\n",
              "    </tr>\n",
              "  </tbody>\n",
              "</table>\n",
              "</div>"
            ],
            "text/plain": [
              "        Cidade       Data  Vendas LojaID  Qtde\n",
              "216   Salvador 2019-01-02    5.82   1035     1\n",
              "224      Natal 2019-01-02  178.30   1035     3\n",
              "34      Recife 2019-01-01   24.97    980     5\n",
              "74      Recife 2019-01-01   38.79    983     6\n",
              "193      Natal 2019-01-02    3.97   1036     2\n",
              "136      Natal 2019-01-02   13.81   1036     1\n",
              "113  Fortaleza 2019-03-02   38.63    980     2\n",
              "64   Fortaleza 2019-01-01  110.31   1005     4\n",
              "121    Aracaju 2018-01-01  162.07   1520     3\n",
              "6      Aracaju 2018-01-01   35.50   1522     2\n",
              "118      Natal 2019-01-02   92.21   1035     2\n",
              "10      Recife 2019-01-01   38.51    982     8\n",
              "41     Aracaju 2018-01-01  229.64   1520     8\n",
              "130  Fortaleza 2019-03-02   12.36    983     4\n",
              "130   Salvador 2019-03-02   59.78   1036     1"
            ]
          },
          "metadata": {
            "tags": []
          },
          "execution_count": 65
        }
      ]
    },
    {
      "cell_type": "code",
      "metadata": {
        "id": "GCuDFRducLYM"
      },
      "source": [
        "#Substituindo os valores nulos por zero\n",
        "df[\"Vendas\"].fillna(0, inplace=True)"
      ],
      "execution_count": null,
      "outputs": []
    },
    {
      "cell_type": "code",
      "metadata": {
        "id": "3IHOrB6McLYM"
      },
      "source": [
        "#Apagando as linhas com valores nulos\n",
        "df.dropna(inplace=True)"
      ],
      "execution_count": null,
      "outputs": []
    },
    {
      "cell_type": "code",
      "metadata": {
        "id": "bQst1fzRcLYM"
      },
      "source": [
        "#Apagando as linhas com valores nulos com base apenas em 1 coluna\n",
        "df.dropna(subset=[\"Vendas\"], inplace=True)"
      ],
      "execution_count": null,
      "outputs": []
    },
    {
      "cell_type": "code",
      "metadata": {
        "id": "xwdkUZnscLYN"
      },
      "source": [
        "#Removendo linhas que estejam com valores faltantes em todas as colunas\n",
        "df.dropna(how=\"all\", inplace=True)"
      ],
      "execution_count": null,
      "outputs": []
    },
    {
      "cell_type": "markdown",
      "metadata": {
        "id": "DQ4QxW6bcLYN"
      },
      "source": [
        "**Criando colunas novas**"
      ]
    },
    {
      "cell_type": "code",
      "metadata": {
        "id": "-bNr5vF3cLYN"
      },
      "source": [
        "#Criando a coluna de receita\n",
        "df[\"Receita\"] = df[\"Vendas\"].mul(df[\"Qtde\"])"
      ],
      "execution_count": null,
      "outputs": []
    },
    {
      "cell_type": "code",
      "metadata": {
        "outputId": "a971500e-05cb-417a-f782-9a7737c2728f",
        "colab": {
          "base_uri": "https://localhost:8080/",
          "height": 204
        },
        "id": "b_eafGVccLYN"
      },
      "source": [
        "df.head()"
      ],
      "execution_count": null,
      "outputs": [
        {
          "output_type": "execute_result",
          "data": {
            "text/html": [
              "<div>\n",
              "<style scoped>\n",
              "    .dataframe tbody tr th:only-of-type {\n",
              "        vertical-align: middle;\n",
              "    }\n",
              "\n",
              "    .dataframe tbody tr th {\n",
              "        vertical-align: top;\n",
              "    }\n",
              "\n",
              "    .dataframe thead th {\n",
              "        text-align: right;\n",
              "    }\n",
              "</style>\n",
              "<table border=\"1\" class=\"dataframe\">\n",
              "  <thead>\n",
              "    <tr style=\"text-align: right;\">\n",
              "      <th></th>\n",
              "      <th>Cidade</th>\n",
              "      <th>Data</th>\n",
              "      <th>Vendas</th>\n",
              "      <th>LojaID</th>\n",
              "      <th>Qtde</th>\n",
              "      <th>Receita</th>\n",
              "    </tr>\n",
              "  </thead>\n",
              "  <tbody>\n",
              "    <tr>\n",
              "      <th>0</th>\n",
              "      <td>Aracaju</td>\n",
              "      <td>2018-01-01</td>\n",
              "      <td>142.00</td>\n",
              "      <td>1520</td>\n",
              "      <td>1</td>\n",
              "      <td>142.00</td>\n",
              "    </tr>\n",
              "    <tr>\n",
              "      <th>1</th>\n",
              "      <td>Aracaju</td>\n",
              "      <td>2018-01-01</td>\n",
              "      <td>14.21</td>\n",
              "      <td>1522</td>\n",
              "      <td>6</td>\n",
              "      <td>85.26</td>\n",
              "    </tr>\n",
              "    <tr>\n",
              "      <th>2</th>\n",
              "      <td>Aracaju</td>\n",
              "      <td>2018-01-01</td>\n",
              "      <td>71.55</td>\n",
              "      <td>1520</td>\n",
              "      <td>1</td>\n",
              "      <td>71.55</td>\n",
              "    </tr>\n",
              "    <tr>\n",
              "      <th>3</th>\n",
              "      <td>Aracaju</td>\n",
              "      <td>2018-01-01</td>\n",
              "      <td>3.01</td>\n",
              "      <td>1521</td>\n",
              "      <td>7</td>\n",
              "      <td>21.07</td>\n",
              "    </tr>\n",
              "    <tr>\n",
              "      <th>4</th>\n",
              "      <td>Aracaju</td>\n",
              "      <td>2018-01-01</td>\n",
              "      <td>24.51</td>\n",
              "      <td>1522</td>\n",
              "      <td>8</td>\n",
              "      <td>196.08</td>\n",
              "    </tr>\n",
              "  </tbody>\n",
              "</table>\n",
              "</div>"
            ],
            "text/plain": [
              "    Cidade       Data  Vendas  LojaID  Qtde  Receita\n",
              "0  Aracaju 2018-01-01  142.00    1520     1   142.00\n",
              "1  Aracaju 2018-01-01   14.21    1522     6    85.26\n",
              "2  Aracaju 2018-01-01   71.55    1520     1    71.55\n",
              "3  Aracaju 2018-01-01    3.01    1521     7    21.07\n",
              "4  Aracaju 2018-01-01   24.51    1522     8   196.08"
            ]
          },
          "metadata": {
            "tags": []
          },
          "execution_count": 72
        }
      ]
    },
    {
      "cell_type": "code",
      "metadata": {
        "id": "kTC-hYoNcLYN"
      },
      "source": [
        "df[\"Receita/Vendas\"] = df[\"Receita\"] / df[\"Vendas\"] "
      ],
      "execution_count": null,
      "outputs": []
    },
    {
      "cell_type": "code",
      "metadata": {
        "outputId": "6b323566-e8aa-4a51-8623-cd0c7ec0cd69",
        "colab": {
          "base_uri": "https://localhost:8080/",
          "height": 204
        },
        "id": "cpltXSb9cLYN"
      },
      "source": [
        "df.head()"
      ],
      "execution_count": null,
      "outputs": [
        {
          "output_type": "execute_result",
          "data": {
            "text/html": [
              "<div>\n",
              "<style scoped>\n",
              "    .dataframe tbody tr th:only-of-type {\n",
              "        vertical-align: middle;\n",
              "    }\n",
              "\n",
              "    .dataframe tbody tr th {\n",
              "        vertical-align: top;\n",
              "    }\n",
              "\n",
              "    .dataframe thead th {\n",
              "        text-align: right;\n",
              "    }\n",
              "</style>\n",
              "<table border=\"1\" class=\"dataframe\">\n",
              "  <thead>\n",
              "    <tr style=\"text-align: right;\">\n",
              "      <th></th>\n",
              "      <th>Cidade</th>\n",
              "      <th>Data</th>\n",
              "      <th>Vendas</th>\n",
              "      <th>LojaID</th>\n",
              "      <th>Qtde</th>\n",
              "      <th>Receita</th>\n",
              "      <th>Receita/Vendas</th>\n",
              "    </tr>\n",
              "  </thead>\n",
              "  <tbody>\n",
              "    <tr>\n",
              "      <th>0</th>\n",
              "      <td>Aracaju</td>\n",
              "      <td>2018-01-01</td>\n",
              "      <td>142.00</td>\n",
              "      <td>1520</td>\n",
              "      <td>1</td>\n",
              "      <td>142.00</td>\n",
              "      <td>1.0</td>\n",
              "    </tr>\n",
              "    <tr>\n",
              "      <th>1</th>\n",
              "      <td>Aracaju</td>\n",
              "      <td>2018-01-01</td>\n",
              "      <td>14.21</td>\n",
              "      <td>1522</td>\n",
              "      <td>6</td>\n",
              "      <td>85.26</td>\n",
              "      <td>6.0</td>\n",
              "    </tr>\n",
              "    <tr>\n",
              "      <th>2</th>\n",
              "      <td>Aracaju</td>\n",
              "      <td>2018-01-01</td>\n",
              "      <td>71.55</td>\n",
              "      <td>1520</td>\n",
              "      <td>1</td>\n",
              "      <td>71.55</td>\n",
              "      <td>1.0</td>\n",
              "    </tr>\n",
              "    <tr>\n",
              "      <th>3</th>\n",
              "      <td>Aracaju</td>\n",
              "      <td>2018-01-01</td>\n",
              "      <td>3.01</td>\n",
              "      <td>1521</td>\n",
              "      <td>7</td>\n",
              "      <td>21.07</td>\n",
              "      <td>7.0</td>\n",
              "    </tr>\n",
              "    <tr>\n",
              "      <th>4</th>\n",
              "      <td>Aracaju</td>\n",
              "      <td>2018-01-01</td>\n",
              "      <td>24.51</td>\n",
              "      <td>1522</td>\n",
              "      <td>8</td>\n",
              "      <td>196.08</td>\n",
              "      <td>8.0</td>\n",
              "    </tr>\n",
              "  </tbody>\n",
              "</table>\n",
              "</div>"
            ],
            "text/plain": [
              "    Cidade       Data  Vendas  LojaID  Qtde  Receita  Receita/Vendas\n",
              "0  Aracaju 2018-01-01  142.00    1520     1   142.00             1.0\n",
              "1  Aracaju 2018-01-01   14.21    1522     6    85.26             6.0\n",
              "2  Aracaju 2018-01-01   71.55    1520     1    71.55             1.0\n",
              "3  Aracaju 2018-01-01    3.01    1521     7    21.07             7.0\n",
              "4  Aracaju 2018-01-01   24.51    1522     8   196.08             8.0"
            ]
          },
          "metadata": {
            "tags": []
          },
          "execution_count": 74
        }
      ]
    },
    {
      "cell_type": "code",
      "metadata": {
        "outputId": "1e059579-152c-4151-8aaf-2f61e689644b",
        "colab": {
          "base_uri": "https://localhost:8080/",
          "height": 34
        },
        "id": "AnLoYyhEcLYN"
      },
      "source": [
        "#Retornando a maior receita\n",
        "df[\"Receita\"].max()"
      ],
      "execution_count": null,
      "outputs": [
        {
          "output_type": "execute_result",
          "data": {
            "text/plain": [
              "3544.0"
            ]
          },
          "metadata": {
            "tags": []
          },
          "execution_count": 121
        }
      ]
    },
    {
      "cell_type": "code",
      "metadata": {
        "outputId": "4a520c61-b418-4bdc-8196-f4ea5eee07c8",
        "colab": {
          "base_uri": "https://localhost:8080/",
          "height": 34
        },
        "id": "6kiEWgzlcLYO"
      },
      "source": [
        "#Retornando a menor receita\n",
        "df[\"Receita\"].min()"
      ],
      "execution_count": null,
      "outputs": [
        {
          "output_type": "execute_result",
          "data": {
            "text/plain": [
              "0.0"
            ]
          },
          "metadata": {
            "tags": []
          },
          "execution_count": 76
        }
      ]
    },
    {
      "cell_type": "code",
      "metadata": {
        "outputId": "bf1cce13-9157-4752-cf40-32b31f0c6977",
        "colab": {
          "base_uri": "https://localhost:8080/",
          "height": 142
        },
        "id": "XUmb5iDOcLYO"
      },
      "source": [
        "#nlargest\n",
        "df.nlargest(3, \"Receita\")"
      ],
      "execution_count": null,
      "outputs": [
        {
          "output_type": "execute_result",
          "data": {
            "text/html": [
              "<div>\n",
              "<style scoped>\n",
              "    .dataframe tbody tr th:only-of-type {\n",
              "        vertical-align: middle;\n",
              "    }\n",
              "\n",
              "    .dataframe tbody tr th {\n",
              "        vertical-align: top;\n",
              "    }\n",
              "\n",
              "    .dataframe thead th {\n",
              "        text-align: right;\n",
              "    }\n",
              "</style>\n",
              "<table border=\"1\" class=\"dataframe\">\n",
              "  <thead>\n",
              "    <tr style=\"text-align: right;\">\n",
              "      <th></th>\n",
              "      <th>Cidade</th>\n",
              "      <th>Data</th>\n",
              "      <th>Vendas</th>\n",
              "      <th>LojaID</th>\n",
              "      <th>Qtde</th>\n",
              "      <th>Receita</th>\n",
              "      <th>Receita/Vendas</th>\n",
              "    </tr>\n",
              "  </thead>\n",
              "  <tbody>\n",
              "    <tr>\n",
              "      <th>7</th>\n",
              "      <td>Natal</td>\n",
              "      <td>2019-03-18</td>\n",
              "      <td>886.0</td>\n",
              "      <td>853</td>\n",
              "      <td>4</td>\n",
              "      <td>3544.0</td>\n",
              "      <td>4.0</td>\n",
              "    </tr>\n",
              "    <tr>\n",
              "      <th>51</th>\n",
              "      <td>Natal</td>\n",
              "      <td>2018-01-21</td>\n",
              "      <td>859.0</td>\n",
              "      <td>852</td>\n",
              "      <td>4</td>\n",
              "      <td>3436.0</td>\n",
              "      <td>4.0</td>\n",
              "    </tr>\n",
              "    <tr>\n",
              "      <th>55</th>\n",
              "      <td>Natal</td>\n",
              "      <td>2019-01-08</td>\n",
              "      <td>859.0</td>\n",
              "      <td>854</td>\n",
              "      <td>4</td>\n",
              "      <td>3436.0</td>\n",
              "      <td>4.0</td>\n",
              "    </tr>\n",
              "  </tbody>\n",
              "</table>\n",
              "</div>"
            ],
            "text/plain": [
              "   Cidade       Data  Vendas LojaID  Qtde  Receita  Receita/Vendas\n",
              "7   Natal 2019-03-18   886.0    853     4   3544.0             4.0\n",
              "51  Natal 2018-01-21   859.0    852     4   3436.0             4.0\n",
              "55  Natal 2019-01-08   859.0    854     4   3436.0             4.0"
            ]
          },
          "metadata": {
            "tags": []
          },
          "execution_count": 122
        }
      ]
    },
    {
      "cell_type": "code",
      "metadata": {
        "outputId": "dc8bdffa-f584-4baa-a1d9-67bf4006048a",
        "colab": {
          "base_uri": "https://localhost:8080/",
          "height": 142
        },
        "id": "aW7yVdLAcLYO"
      },
      "source": [
        "#nsamllest\n",
        "df.nsmallest(3, \"Receita\")"
      ],
      "execution_count": null,
      "outputs": [
        {
          "output_type": "execute_result",
          "data": {
            "text/html": [
              "<div>\n",
              "<style scoped>\n",
              "    .dataframe tbody tr th:only-of-type {\n",
              "        vertical-align: middle;\n",
              "    }\n",
              "\n",
              "    .dataframe tbody tr th {\n",
              "        vertical-align: top;\n",
              "    }\n",
              "\n",
              "    .dataframe thead th {\n",
              "        text-align: right;\n",
              "    }\n",
              "</style>\n",
              "<table border=\"1\" class=\"dataframe\">\n",
              "  <thead>\n",
              "    <tr style=\"text-align: right;\">\n",
              "      <th></th>\n",
              "      <th>Cidade</th>\n",
              "      <th>Data</th>\n",
              "      <th>Vendas</th>\n",
              "      <th>LojaID</th>\n",
              "      <th>Qtde</th>\n",
              "      <th>Receita</th>\n",
              "      <th>Receita/Vendas</th>\n",
              "    </tr>\n",
              "  </thead>\n",
              "  <tbody>\n",
              "    <tr>\n",
              "      <th>7</th>\n",
              "      <td>Fortaleza</td>\n",
              "      <td>2019-02-11</td>\n",
              "      <td>0.0</td>\n",
              "      <td>1003</td>\n",
              "      <td>2</td>\n",
              "      <td>0.0</td>\n",
              "      <td>NaN</td>\n",
              "    </tr>\n",
              "    <tr>\n",
              "      <th>14</th>\n",
              "      <td>Fortaleza</td>\n",
              "      <td>2019-01-12</td>\n",
              "      <td>0.0</td>\n",
              "      <td>1005</td>\n",
              "      <td>1</td>\n",
              "      <td>0.0</td>\n",
              "      <td>NaN</td>\n",
              "    </tr>\n",
              "    <tr>\n",
              "      <th>34</th>\n",
              "      <td>Fortaleza</td>\n",
              "      <td>2019-01-01</td>\n",
              "      <td>0.0</td>\n",
              "      <td>1003</td>\n",
              "      <td>5</td>\n",
              "      <td>0.0</td>\n",
              "      <td>NaN</td>\n",
              "    </tr>\n",
              "  </tbody>\n",
              "</table>\n",
              "</div>"
            ],
            "text/plain": [
              "       Cidade       Data  Vendas LojaID  Qtde  Receita  Receita/Vendas\n",
              "7   Fortaleza 2019-02-11     0.0   1003     2      0.0             NaN\n",
              "14  Fortaleza 2019-01-12     0.0   1005     1      0.0             NaN\n",
              "34  Fortaleza 2019-01-01     0.0   1003     5      0.0             NaN"
            ]
          },
          "metadata": {
            "tags": []
          },
          "execution_count": 123
        }
      ]
    },
    {
      "cell_type": "code",
      "metadata": {
        "outputId": "8d41e480-5db7-4175-cb4e-184f91a52a38",
        "colab": {
          "base_uri": "https://localhost:8080/",
          "height": 136
        },
        "id": "vn_LB50wcLYO"
      },
      "source": [
        "#Agrupamento por cidade\n",
        "df.groupby(\"Cidade\")[\"Receita\"].sum()"
      ],
      "execution_count": null,
      "outputs": [
        {
          "output_type": "execute_result",
          "data": {
            "text/plain": [
              "Cidade\n",
              "Aracaju       48748.25\n",
              "Fortaleza     36122.23\n",
              "Natal        167227.52\n",
              "Recife        51936.51\n",
              "Salvador      40596.73\n",
              "Name: Receita, dtype: float64"
            ]
          },
          "metadata": {
            "tags": []
          },
          "execution_count": 124
        }
      ]
    },
    {
      "cell_type": "code",
      "metadata": {
        "outputId": "524d93a9-0246-46fe-8bfe-9451bc52b65a",
        "colab": {
          "base_uri": "https://localhost:8080/",
          "height": 359
        },
        "id": "kTzj22SIcLYO"
      },
      "source": [
        "#Ordenando o conjunto de dados\n",
        "df.sort_values(\"Receita\", ascending=False).head(10)"
      ],
      "execution_count": null,
      "outputs": [
        {
          "output_type": "execute_result",
          "data": {
            "text/html": [
              "<div>\n",
              "<style scoped>\n",
              "    .dataframe tbody tr th:only-of-type {\n",
              "        vertical-align: middle;\n",
              "    }\n",
              "\n",
              "    .dataframe tbody tr th {\n",
              "        vertical-align: top;\n",
              "    }\n",
              "\n",
              "    .dataframe thead th {\n",
              "        text-align: right;\n",
              "    }\n",
              "</style>\n",
              "<table border=\"1\" class=\"dataframe\">\n",
              "  <thead>\n",
              "    <tr style=\"text-align: right;\">\n",
              "      <th></th>\n",
              "      <th>Cidade</th>\n",
              "      <th>Data</th>\n",
              "      <th>Vendas</th>\n",
              "      <th>LojaID</th>\n",
              "      <th>Qtde</th>\n",
              "      <th>Receita</th>\n",
              "      <th>Receita/Vendas</th>\n",
              "    </tr>\n",
              "  </thead>\n",
              "  <tbody>\n",
              "    <tr>\n",
              "      <th>7</th>\n",
              "      <td>Natal</td>\n",
              "      <td>2019-03-18</td>\n",
              "      <td>886.0</td>\n",
              "      <td>853</td>\n",
              "      <td>4</td>\n",
              "      <td>3544.0</td>\n",
              "      <td>4.0</td>\n",
              "    </tr>\n",
              "    <tr>\n",
              "      <th>51</th>\n",
              "      <td>Natal</td>\n",
              "      <td>2018-01-21</td>\n",
              "      <td>859.0</td>\n",
              "      <td>852</td>\n",
              "      <td>4</td>\n",
              "      <td>3436.0</td>\n",
              "      <td>4.0</td>\n",
              "    </tr>\n",
              "    <tr>\n",
              "      <th>55</th>\n",
              "      <td>Natal</td>\n",
              "      <td>2019-01-08</td>\n",
              "      <td>859.0</td>\n",
              "      <td>854</td>\n",
              "      <td>4</td>\n",
              "      <td>3436.0</td>\n",
              "      <td>4.0</td>\n",
              "    </tr>\n",
              "    <tr>\n",
              "      <th>30</th>\n",
              "      <td>Natal</td>\n",
              "      <td>2018-10-02</td>\n",
              "      <td>856.0</td>\n",
              "      <td>853</td>\n",
              "      <td>4</td>\n",
              "      <td>3424.0</td>\n",
              "      <td>4.0</td>\n",
              "    </tr>\n",
              "    <tr>\n",
              "      <th>41</th>\n",
              "      <td>Natal</td>\n",
              "      <td>2018-05-20</td>\n",
              "      <td>835.0</td>\n",
              "      <td>852</td>\n",
              "      <td>4</td>\n",
              "      <td>3340.0</td>\n",
              "      <td>4.0</td>\n",
              "    </tr>\n",
              "    <tr>\n",
              "      <th>10</th>\n",
              "      <td>Natal</td>\n",
              "      <td>2018-10-27</td>\n",
              "      <td>828.0</td>\n",
              "      <td>852</td>\n",
              "      <td>4</td>\n",
              "      <td>3312.0</td>\n",
              "      <td>4.0</td>\n",
              "    </tr>\n",
              "    <tr>\n",
              "      <th>38</th>\n",
              "      <td>Natal</td>\n",
              "      <td>2018-02-25</td>\n",
              "      <td>828.0</td>\n",
              "      <td>852</td>\n",
              "      <td>4</td>\n",
              "      <td>3312.0</td>\n",
              "      <td>4.0</td>\n",
              "    </tr>\n",
              "    <tr>\n",
              "      <th>69</th>\n",
              "      <td>Natal</td>\n",
              "      <td>2019-03-24</td>\n",
              "      <td>817.0</td>\n",
              "      <td>852</td>\n",
              "      <td>4</td>\n",
              "      <td>3268.0</td>\n",
              "      <td>4.0</td>\n",
              "    </tr>\n",
              "    <tr>\n",
              "      <th>62</th>\n",
              "      <td>Natal</td>\n",
              "      <td>2018-02-10</td>\n",
              "      <td>793.0</td>\n",
              "      <td>854</td>\n",
              "      <td>4</td>\n",
              "      <td>3172.0</td>\n",
              "      <td>4.0</td>\n",
              "    </tr>\n",
              "    <tr>\n",
              "      <th>52</th>\n",
              "      <td>Natal</td>\n",
              "      <td>2018-04-27</td>\n",
              "      <td>778.0</td>\n",
              "      <td>854</td>\n",
              "      <td>4</td>\n",
              "      <td>3112.0</td>\n",
              "      <td>4.0</td>\n",
              "    </tr>\n",
              "  </tbody>\n",
              "</table>\n",
              "</div>"
            ],
            "text/plain": [
              "   Cidade       Data  Vendas LojaID  Qtde  Receita  Receita/Vendas\n",
              "7   Natal 2019-03-18   886.0    853     4   3544.0             4.0\n",
              "51  Natal 2018-01-21   859.0    852     4   3436.0             4.0\n",
              "55  Natal 2019-01-08   859.0    854     4   3436.0             4.0\n",
              "30  Natal 2018-10-02   856.0    853     4   3424.0             4.0\n",
              "41  Natal 2018-05-20   835.0    852     4   3340.0             4.0\n",
              "10  Natal 2018-10-27   828.0    852     4   3312.0             4.0\n",
              "38  Natal 2018-02-25   828.0    852     4   3312.0             4.0\n",
              "69  Natal 2019-03-24   817.0    852     4   3268.0             4.0\n",
              "62  Natal 2018-02-10   793.0    854     4   3172.0             4.0\n",
              "52  Natal 2018-04-27   778.0    854     4   3112.0             4.0"
            ]
          },
          "metadata": {
            "tags": []
          },
          "execution_count": 125
        }
      ]
    },
    {
      "cell_type": "markdown",
      "metadata": {
        "id": "irGWNTyWcLYQ"
      },
      "source": [
        "#**Trabalhando com datas**"
      ]
    },
    {
      "cell_type": "code",
      "metadata": {
        "id": "UCMZ6gdIcLYQ"
      },
      "source": [
        "#Trasnformando a coluna de data em tipo inteiro\n",
        "df[\"Data\"] = df[\"Data\"].astype(\"int64\")"
      ],
      "execution_count": null,
      "outputs": []
    },
    {
      "cell_type": "code",
      "metadata": {
        "outputId": "275eb110-54a8-450e-b8c6-165961d670b7",
        "colab": {
          "base_uri": "https://localhost:8080/",
          "height": 153
        },
        "id": "F3BzpOumcLYR"
      },
      "source": [
        "#Verificando o tipo de dado de cada coluna\n",
        "df.dtypes"
      ],
      "execution_count": null,
      "outputs": [
        {
          "output_type": "execute_result",
          "data": {
            "text/plain": [
              "Cidade             object\n",
              "Data                int64\n",
              "Vendas            float64\n",
              "LojaID             object\n",
              "Qtde                int64\n",
              "Receita           float64\n",
              "Receita/Vendas    float64\n",
              "dtype: object"
            ]
          },
          "metadata": {
            "tags": []
          },
          "execution_count": 127
        }
      ]
    },
    {
      "cell_type": "code",
      "metadata": {
        "id": "a3hMDW3bcLYR"
      },
      "source": [
        "#Transformando coluna de data em data\n",
        "df[\"Data\"] = pd.to_datetime(df[\"Data\"])"
      ],
      "execution_count": null,
      "outputs": []
    },
    {
      "cell_type": "code",
      "metadata": {
        "outputId": "5b8043b2-c63b-4322-df5a-dd41737591c6",
        "colab": {
          "base_uri": "https://localhost:8080/",
          "height": 153
        },
        "id": "xqbX7RSmcLYR"
      },
      "source": [
        "df.dtypes"
      ],
      "execution_count": null,
      "outputs": [
        {
          "output_type": "execute_result",
          "data": {
            "text/plain": [
              "Cidade                    object\n",
              "Data              datetime64[ns]\n",
              "Vendas                   float64\n",
              "LojaID                    object\n",
              "Qtde                       int64\n",
              "Receita                  float64\n",
              "Receita/Vendas           float64\n",
              "dtype: object"
            ]
          },
          "metadata": {
            "tags": []
          },
          "execution_count": 129
        }
      ]
    },
    {
      "cell_type": "code",
      "metadata": {
        "outputId": "4db1851a-4712-44b6-f297-ec2c16d61f67",
        "colab": {
          "base_uri": "https://localhost:8080/",
          "height": 85
        },
        "id": "YLNLpSG3cLYR"
      },
      "source": [
        "#Agrupamento por ano\n",
        "df.groupby(df[\"Data\"].dt.year)[\"Receita\"].sum()"
      ],
      "execution_count": null,
      "outputs": [
        {
          "output_type": "execute_result",
          "data": {
            "text/plain": [
              "Data\n",
              "2018    118176.53\n",
              "2019    226454.71\n",
              "Name: Receita, dtype: float64"
            ]
          },
          "metadata": {
            "tags": []
          },
          "execution_count": 130
        }
      ]
    },
    {
      "cell_type": "code",
      "metadata": {
        "id": "esDIGbr8cLYS"
      },
      "source": [
        "#Criando uma nova coluna com o ano\n",
        "df[\"Ano_Venda\"] = df[\"Data\"].dt.year"
      ],
      "execution_count": null,
      "outputs": []
    },
    {
      "cell_type": "code",
      "metadata": {
        "outputId": "664952a0-57c6-4f6d-ad6f-03a5d846d557",
        "colab": {
          "base_uri": "https://localhost:8080/",
          "height": 204
        },
        "id": "aQlk1j_hcLYS"
      },
      "source": [
        "df.sample(5)"
      ],
      "execution_count": null,
      "outputs": [
        {
          "output_type": "execute_result",
          "data": {
            "text/html": [
              "<div>\n",
              "<style scoped>\n",
              "    .dataframe tbody tr th:only-of-type {\n",
              "        vertical-align: middle;\n",
              "    }\n",
              "\n",
              "    .dataframe tbody tr th {\n",
              "        vertical-align: top;\n",
              "    }\n",
              "\n",
              "    .dataframe thead th {\n",
              "        text-align: right;\n",
              "    }\n",
              "</style>\n",
              "<table border=\"1\" class=\"dataframe\">\n",
              "  <thead>\n",
              "    <tr style=\"text-align: right;\">\n",
              "      <th></th>\n",
              "      <th>Cidade</th>\n",
              "      <th>Data</th>\n",
              "      <th>Vendas</th>\n",
              "      <th>LojaID</th>\n",
              "      <th>Qtde</th>\n",
              "      <th>Receita</th>\n",
              "      <th>Receita/Vendas</th>\n",
              "      <th>Ano_Venda</th>\n",
              "    </tr>\n",
              "  </thead>\n",
              "  <tbody>\n",
              "    <tr>\n",
              "      <th>124</th>\n",
              "      <td>Salvador</td>\n",
              "      <td>2019-03-02</td>\n",
              "      <td>44.82</td>\n",
              "      <td>1034</td>\n",
              "      <td>3</td>\n",
              "      <td>134.46</td>\n",
              "      <td>3.0</td>\n",
              "      <td>2019</td>\n",
              "    </tr>\n",
              "    <tr>\n",
              "      <th>218</th>\n",
              "      <td>Salvador</td>\n",
              "      <td>2019-01-02</td>\n",
              "      <td>189.12</td>\n",
              "      <td>1036</td>\n",
              "      <td>3</td>\n",
              "      <td>567.36</td>\n",
              "      <td>3.0</td>\n",
              "      <td>2019</td>\n",
              "    </tr>\n",
              "    <tr>\n",
              "      <th>82</th>\n",
              "      <td>Aracaju</td>\n",
              "      <td>2018-01-01</td>\n",
              "      <td>150.48</td>\n",
              "      <td>1522</td>\n",
              "      <td>4</td>\n",
              "      <td>601.92</td>\n",
              "      <td>4.0</td>\n",
              "      <td>2018</td>\n",
              "    </tr>\n",
              "    <tr>\n",
              "      <th>29</th>\n",
              "      <td>Salvador</td>\n",
              "      <td>2019-01-01</td>\n",
              "      <td>9.27</td>\n",
              "      <td>1034</td>\n",
              "      <td>1</td>\n",
              "      <td>9.27</td>\n",
              "      <td>1.0</td>\n",
              "      <td>2019</td>\n",
              "    </tr>\n",
              "    <tr>\n",
              "      <th>123</th>\n",
              "      <td>Salvador</td>\n",
              "      <td>2019-03-02</td>\n",
              "      <td>127.45</td>\n",
              "      <td>1036</td>\n",
              "      <td>3</td>\n",
              "      <td>382.35</td>\n",
              "      <td>3.0</td>\n",
              "      <td>2019</td>\n",
              "    </tr>\n",
              "  </tbody>\n",
              "</table>\n",
              "</div>"
            ],
            "text/plain": [
              "       Cidade       Data  Vendas  ... Receita  Receita/Vendas  Ano_Venda\n",
              "124  Salvador 2019-03-02   44.82  ...  134.46             3.0       2019\n",
              "218  Salvador 2019-01-02  189.12  ...  567.36             3.0       2019\n",
              "82    Aracaju 2018-01-01  150.48  ...  601.92             4.0       2018\n",
              "29   Salvador 2019-01-01    9.27  ...    9.27             1.0       2019\n",
              "123  Salvador 2019-03-02  127.45  ...  382.35             3.0       2019\n",
              "\n",
              "[5 rows x 8 columns]"
            ]
          },
          "metadata": {
            "tags": []
          },
          "execution_count": 133
        }
      ]
    },
    {
      "cell_type": "code",
      "metadata": {
        "id": "zxQWaMkScLYS"
      },
      "source": [
        "#Extraindo o mês e o dia\n",
        "df[\"mes_venda\"], df[\"dia_venda\"] = (df[\"Data\"].dt.month, df[\"Data\"].dt.day)"
      ],
      "execution_count": null,
      "outputs": []
    },
    {
      "cell_type": "code",
      "metadata": {
        "outputId": "be23b592-06ec-4eab-88f0-46da74f85544",
        "colab": {
          "base_uri": "https://localhost:8080/",
          "height": 204
        },
        "id": "XWuhXhsgcLYT"
      },
      "source": [
        "df.sample(5)"
      ],
      "execution_count": null,
      "outputs": [
        {
          "output_type": "execute_result",
          "data": {
            "text/html": [
              "<div>\n",
              "<style scoped>\n",
              "    .dataframe tbody tr th:only-of-type {\n",
              "        vertical-align: middle;\n",
              "    }\n",
              "\n",
              "    .dataframe tbody tr th {\n",
              "        vertical-align: top;\n",
              "    }\n",
              "\n",
              "    .dataframe thead th {\n",
              "        text-align: right;\n",
              "    }\n",
              "</style>\n",
              "<table border=\"1\" class=\"dataframe\">\n",
              "  <thead>\n",
              "    <tr style=\"text-align: right;\">\n",
              "      <th></th>\n",
              "      <th>Cidade</th>\n",
              "      <th>Data</th>\n",
              "      <th>Vendas</th>\n",
              "      <th>LojaID</th>\n",
              "      <th>Qtde</th>\n",
              "      <th>Receita</th>\n",
              "      <th>Receita/Vendas</th>\n",
              "      <th>Ano_Venda</th>\n",
              "      <th>mes_venda</th>\n",
              "      <th>dia_venda</th>\n",
              "    </tr>\n",
              "  </thead>\n",
              "  <tbody>\n",
              "    <tr>\n",
              "      <th>97</th>\n",
              "      <td>Salvador</td>\n",
              "      <td>2019-01-01</td>\n",
              "      <td>39.91</td>\n",
              "      <td>1037</td>\n",
              "      <td>3</td>\n",
              "      <td>119.73</td>\n",
              "      <td>3.0</td>\n",
              "      <td>2019</td>\n",
              "      <td>1</td>\n",
              "      <td>1</td>\n",
              "    </tr>\n",
              "    <tr>\n",
              "      <th>12</th>\n",
              "      <td>Aracaju</td>\n",
              "      <td>2019-01-01</td>\n",
              "      <td>9.78</td>\n",
              "      <td>1520</td>\n",
              "      <td>8</td>\n",
              "      <td>78.24</td>\n",
              "      <td>8.0</td>\n",
              "      <td>2019</td>\n",
              "      <td>1</td>\n",
              "      <td>1</td>\n",
              "    </tr>\n",
              "    <tr>\n",
              "      <th>59</th>\n",
              "      <td>Natal</td>\n",
              "      <td>2018-01-15</td>\n",
              "      <td>369.00</td>\n",
              "      <td>853</td>\n",
              "      <td>2</td>\n",
              "      <td>738.00</td>\n",
              "      <td>2.0</td>\n",
              "      <td>2018</td>\n",
              "      <td>1</td>\n",
              "      <td>15</td>\n",
              "    </tr>\n",
              "    <tr>\n",
              "      <th>13</th>\n",
              "      <td>Natal</td>\n",
              "      <td>2018-09-12</td>\n",
              "      <td>458.00</td>\n",
              "      <td>852</td>\n",
              "      <td>4</td>\n",
              "      <td>1832.00</td>\n",
              "      <td>4.0</td>\n",
              "      <td>2018</td>\n",
              "      <td>9</td>\n",
              "      <td>12</td>\n",
              "    </tr>\n",
              "    <tr>\n",
              "      <th>16</th>\n",
              "      <td>Aracaju</td>\n",
              "      <td>2018-01-01</td>\n",
              "      <td>37.68</td>\n",
              "      <td>1522</td>\n",
              "      <td>10</td>\n",
              "      <td>376.80</td>\n",
              "      <td>10.0</td>\n",
              "      <td>2018</td>\n",
              "      <td>1</td>\n",
              "      <td>1</td>\n",
              "    </tr>\n",
              "  </tbody>\n",
              "</table>\n",
              "</div>"
            ],
            "text/plain": [
              "      Cidade       Data  Vendas  ... Ano_Venda  mes_venda  dia_venda\n",
              "97  Salvador 2019-01-01   39.91  ...      2019          1          1\n",
              "12   Aracaju 2019-01-01    9.78  ...      2019          1          1\n",
              "59     Natal 2018-01-15  369.00  ...      2018          1         15\n",
              "13     Natal 2018-09-12  458.00  ...      2018          9         12\n",
              "16   Aracaju 2018-01-01   37.68  ...      2018          1          1\n",
              "\n",
              "[5 rows x 10 columns]"
            ]
          },
          "metadata": {
            "tags": []
          },
          "execution_count": 136
        }
      ]
    },
    {
      "cell_type": "code",
      "metadata": {
        "outputId": "bd244f1b-6e69-4991-c290-f071af4e0d60",
        "colab": {
          "base_uri": "https://localhost:8080/",
          "height": 34
        },
        "id": "j_8-CudwcLYT"
      },
      "source": [
        "#Retornando a data mais antiga\n",
        "df[\"Data\"].min()"
      ],
      "execution_count": null,
      "outputs": [
        {
          "output_type": "execute_result",
          "data": {
            "text/plain": [
              "Timestamp('2018-01-01 00:00:00')"
            ]
          },
          "metadata": {
            "tags": []
          },
          "execution_count": 137
        }
      ]
    },
    {
      "cell_type": "code",
      "metadata": {
        "id": "pNcL19-scLYT"
      },
      "source": [
        "#Calculando a diferença de dias\n",
        "df[\"diferenca_dias\"] = df[\"Data\"] - df[\"Data\"].min()"
      ],
      "execution_count": null,
      "outputs": []
    },
    {
      "cell_type": "code",
      "metadata": {
        "outputId": "3cdb03c2-cb8d-4891-b10b-27474beb1806",
        "colab": {
          "base_uri": "https://localhost:8080/",
          "height": 204
        },
        "id": "XkezsIVwcLYT"
      },
      "source": [
        "df.sample(5)"
      ],
      "execution_count": null,
      "outputs": [
        {
          "output_type": "execute_result",
          "data": {
            "text/html": [
              "<div>\n",
              "<style scoped>\n",
              "    .dataframe tbody tr th:only-of-type {\n",
              "        vertical-align: middle;\n",
              "    }\n",
              "\n",
              "    .dataframe tbody tr th {\n",
              "        vertical-align: top;\n",
              "    }\n",
              "\n",
              "    .dataframe thead th {\n",
              "        text-align: right;\n",
              "    }\n",
              "</style>\n",
              "<table border=\"1\" class=\"dataframe\">\n",
              "  <thead>\n",
              "    <tr style=\"text-align: right;\">\n",
              "      <th></th>\n",
              "      <th>Cidade</th>\n",
              "      <th>Data</th>\n",
              "      <th>Vendas</th>\n",
              "      <th>LojaID</th>\n",
              "      <th>Qtde</th>\n",
              "      <th>Receita</th>\n",
              "      <th>Receita/Vendas</th>\n",
              "      <th>Ano_Venda</th>\n",
              "      <th>mes_venda</th>\n",
              "      <th>dia_venda</th>\n",
              "      <th>diferenca_dias</th>\n",
              "    </tr>\n",
              "  </thead>\n",
              "  <tbody>\n",
              "    <tr>\n",
              "      <th>104</th>\n",
              "      <td>Aracaju</td>\n",
              "      <td>2018-01-01</td>\n",
              "      <td>46.96</td>\n",
              "      <td>1522</td>\n",
              "      <td>1</td>\n",
              "      <td>46.96</td>\n",
              "      <td>1.0</td>\n",
              "      <td>2018</td>\n",
              "      <td>1</td>\n",
              "      <td>1</td>\n",
              "      <td>0 days</td>\n",
              "    </tr>\n",
              "    <tr>\n",
              "      <th>70</th>\n",
              "      <td>Recife</td>\n",
              "      <td>2019-01-01</td>\n",
              "      <td>20.40</td>\n",
              "      <td>983</td>\n",
              "      <td>7</td>\n",
              "      <td>142.80</td>\n",
              "      <td>7.0</td>\n",
              "      <td>2019</td>\n",
              "      <td>1</td>\n",
              "      <td>1</td>\n",
              "      <td>365 days</td>\n",
              "    </tr>\n",
              "    <tr>\n",
              "      <th>50</th>\n",
              "      <td>Salvador</td>\n",
              "      <td>2019-01-01</td>\n",
              "      <td>44.87</td>\n",
              "      <td>1036</td>\n",
              "      <td>3</td>\n",
              "      <td>134.61</td>\n",
              "      <td>3.0</td>\n",
              "      <td>2019</td>\n",
              "      <td>1</td>\n",
              "      <td>1</td>\n",
              "      <td>365 days</td>\n",
              "    </tr>\n",
              "    <tr>\n",
              "      <th>34</th>\n",
              "      <td>Recife</td>\n",
              "      <td>2019-01-01</td>\n",
              "      <td>24.97</td>\n",
              "      <td>980</td>\n",
              "      <td>5</td>\n",
              "      <td>124.85</td>\n",
              "      <td>5.0</td>\n",
              "      <td>2019</td>\n",
              "      <td>1</td>\n",
              "      <td>1</td>\n",
              "      <td>365 days</td>\n",
              "    </tr>\n",
              "    <tr>\n",
              "      <th>147</th>\n",
              "      <td>Salvador</td>\n",
              "      <td>2019-01-02</td>\n",
              "      <td>34.50</td>\n",
              "      <td>1035</td>\n",
              "      <td>1</td>\n",
              "      <td>34.50</td>\n",
              "      <td>1.0</td>\n",
              "      <td>2019</td>\n",
              "      <td>1</td>\n",
              "      <td>2</td>\n",
              "      <td>366 days</td>\n",
              "    </tr>\n",
              "  </tbody>\n",
              "</table>\n",
              "</div>"
            ],
            "text/plain": [
              "       Cidade       Data  Vendas  ... mes_venda  dia_venda  diferenca_dias\n",
              "104   Aracaju 2018-01-01   46.96  ...         1          1          0 days\n",
              "70     Recife 2019-01-01   20.40  ...         1          1        365 days\n",
              "50   Salvador 2019-01-01   44.87  ...         1          1        365 days\n",
              "34     Recife 2019-01-01   24.97  ...         1          1        365 days\n",
              "147  Salvador 2019-01-02   34.50  ...         1          2        366 days\n",
              "\n",
              "[5 rows x 11 columns]"
            ]
          },
          "metadata": {
            "tags": []
          },
          "execution_count": 139
        }
      ]
    },
    {
      "cell_type": "code",
      "metadata": {
        "id": "RAwaG9yCcLYU"
      },
      "source": [
        "#Criando a coluna de trimestre\n",
        "df[\"trimestre_venda\"] = df[\"Data\"].dt.quarter"
      ],
      "execution_count": null,
      "outputs": []
    },
    {
      "cell_type": "code",
      "metadata": {
        "outputId": "79806c1f-ed51-4705-d0b9-cbb2659f5844",
        "colab": {
          "base_uri": "https://localhost:8080/",
          "height": 204
        },
        "id": "5ScXP4LTcLYU"
      },
      "source": [
        "df.sample(5)"
      ],
      "execution_count": null,
      "outputs": [
        {
          "output_type": "execute_result",
          "data": {
            "text/html": [
              "<div>\n",
              "<style scoped>\n",
              "    .dataframe tbody tr th:only-of-type {\n",
              "        vertical-align: middle;\n",
              "    }\n",
              "\n",
              "    .dataframe tbody tr th {\n",
              "        vertical-align: top;\n",
              "    }\n",
              "\n",
              "    .dataframe thead th {\n",
              "        text-align: right;\n",
              "    }\n",
              "</style>\n",
              "<table border=\"1\" class=\"dataframe\">\n",
              "  <thead>\n",
              "    <tr style=\"text-align: right;\">\n",
              "      <th></th>\n",
              "      <th>Cidade</th>\n",
              "      <th>Data</th>\n",
              "      <th>Vendas</th>\n",
              "      <th>LojaID</th>\n",
              "      <th>Qtde</th>\n",
              "      <th>Receita</th>\n",
              "      <th>Receita/Vendas</th>\n",
              "      <th>Ano_Venda</th>\n",
              "      <th>mes_venda</th>\n",
              "      <th>dia_venda</th>\n",
              "      <th>diferenca_dias</th>\n",
              "      <th>trimestre_venda</th>\n",
              "    </tr>\n",
              "  </thead>\n",
              "  <tbody>\n",
              "    <tr>\n",
              "      <th>85</th>\n",
              "      <td>Fortaleza</td>\n",
              "      <td>2019-01-01</td>\n",
              "      <td>149.00</td>\n",
              "      <td>1005</td>\n",
              "      <td>3</td>\n",
              "      <td>447.00</td>\n",
              "      <td>3.0</td>\n",
              "      <td>2019</td>\n",
              "      <td>1</td>\n",
              "      <td>1</td>\n",
              "      <td>365 days</td>\n",
              "      <td>1</td>\n",
              "    </tr>\n",
              "    <tr>\n",
              "      <th>2</th>\n",
              "      <td>Aracaju</td>\n",
              "      <td>2018-01-01</td>\n",
              "      <td>71.55</td>\n",
              "      <td>1520</td>\n",
              "      <td>1</td>\n",
              "      <td>71.55</td>\n",
              "      <td>1.0</td>\n",
              "      <td>2018</td>\n",
              "      <td>1</td>\n",
              "      <td>1</td>\n",
              "      <td>0 days</td>\n",
              "      <td>1</td>\n",
              "    </tr>\n",
              "    <tr>\n",
              "      <th>54</th>\n",
              "      <td>Fortaleza</td>\n",
              "      <td>2019-01-01</td>\n",
              "      <td>16.73</td>\n",
              "      <td>1002</td>\n",
              "      <td>5</td>\n",
              "      <td>83.65</td>\n",
              "      <td>5.0</td>\n",
              "      <td>2019</td>\n",
              "      <td>1</td>\n",
              "      <td>1</td>\n",
              "      <td>365 days</td>\n",
              "      <td>1</td>\n",
              "    </tr>\n",
              "    <tr>\n",
              "      <th>81</th>\n",
              "      <td>Aracaju</td>\n",
              "      <td>2018-01-01</td>\n",
              "      <td>53.41</td>\n",
              "      <td>1520</td>\n",
              "      <td>2</td>\n",
              "      <td>106.82</td>\n",
              "      <td>2.0</td>\n",
              "      <td>2018</td>\n",
              "      <td>1</td>\n",
              "      <td>1</td>\n",
              "      <td>0 days</td>\n",
              "      <td>1</td>\n",
              "    </tr>\n",
              "    <tr>\n",
              "      <th>45</th>\n",
              "      <td>Fortaleza</td>\n",
              "      <td>2019-01-01</td>\n",
              "      <td>0.00</td>\n",
              "      <td>1004</td>\n",
              "      <td>3</td>\n",
              "      <td>0.00</td>\n",
              "      <td>NaN</td>\n",
              "      <td>2019</td>\n",
              "      <td>1</td>\n",
              "      <td>1</td>\n",
              "      <td>365 days</td>\n",
              "      <td>1</td>\n",
              "    </tr>\n",
              "  </tbody>\n",
              "</table>\n",
              "</div>"
            ],
            "text/plain": [
              "       Cidade       Data  Vendas  ... dia_venda  diferenca_dias  trimestre_venda\n",
              "85  Fortaleza 2019-01-01  149.00  ...         1        365 days                1\n",
              "2     Aracaju 2018-01-01   71.55  ...         1          0 days                1\n",
              "54  Fortaleza 2019-01-01   16.73  ...         1        365 days                1\n",
              "81    Aracaju 2018-01-01   53.41  ...         1          0 days                1\n",
              "45  Fortaleza 2019-01-01    0.00  ...         1        365 days                1\n",
              "\n",
              "[5 rows x 12 columns]"
            ]
          },
          "metadata": {
            "tags": []
          },
          "execution_count": 144
        }
      ]
    },
    {
      "cell_type": "code",
      "metadata": {
        "id": "ZUE8mg2wcLYU"
      },
      "source": [
        "#Filtrando as vendas de 2019 do mês de março\n",
        "vendas_marco_19 = df.loc[(df[\"Data\"].dt.year == 2019) & (df[\"Data\"].dt.month == 3)]"
      ],
      "execution_count": null,
      "outputs": []
    },
    {
      "cell_type": "code",
      "metadata": {
        "outputId": "c65a0365-31d1-4876-96a9-803c355a4bed",
        "colab": {
          "base_uri": "https://localhost:8080/",
          "height": 669
        },
        "id": "AReERE8pcLYV"
      },
      "source": [
        "vendas_marco_19.sample(20)"
      ],
      "execution_count": null,
      "outputs": [
        {
          "output_type": "execute_result",
          "data": {
            "text/html": [
              "<div>\n",
              "<style scoped>\n",
              "    .dataframe tbody tr th:only-of-type {\n",
              "        vertical-align: middle;\n",
              "    }\n",
              "\n",
              "    .dataframe tbody tr th {\n",
              "        vertical-align: top;\n",
              "    }\n",
              "\n",
              "    .dataframe thead th {\n",
              "        text-align: right;\n",
              "    }\n",
              "</style>\n",
              "<table border=\"1\" class=\"dataframe\">\n",
              "  <thead>\n",
              "    <tr style=\"text-align: right;\">\n",
              "      <th></th>\n",
              "      <th>Cidade</th>\n",
              "      <th>Data</th>\n",
              "      <th>Vendas</th>\n",
              "      <th>LojaID</th>\n",
              "      <th>Qtde</th>\n",
              "      <th>Receita</th>\n",
              "      <th>Receita/Vendas</th>\n",
              "      <th>Ano_Venda</th>\n",
              "      <th>mes_venda</th>\n",
              "      <th>dia_venda</th>\n",
              "      <th>diferenca_dias</th>\n",
              "      <th>trimestre_venda</th>\n",
              "    </tr>\n",
              "  </thead>\n",
              "  <tbody>\n",
              "    <tr>\n",
              "      <th>125</th>\n",
              "      <td>Fortaleza</td>\n",
              "      <td>2019-03-02</td>\n",
              "      <td>37.60</td>\n",
              "      <td>983</td>\n",
              "      <td>4</td>\n",
              "      <td>150.40</td>\n",
              "      <td>4.0</td>\n",
              "      <td>2019</td>\n",
              "      <td>3</td>\n",
              "      <td>2</td>\n",
              "      <td>425 days</td>\n",
              "      <td>1</td>\n",
              "    </tr>\n",
              "    <tr>\n",
              "      <th>124</th>\n",
              "      <td>Fortaleza</td>\n",
              "      <td>2019-03-02</td>\n",
              "      <td>47.98</td>\n",
              "      <td>983</td>\n",
              "      <td>7</td>\n",
              "      <td>335.86</td>\n",
              "      <td>7.0</td>\n",
              "      <td>2019</td>\n",
              "      <td>3</td>\n",
              "      <td>2</td>\n",
              "      <td>425 days</td>\n",
              "      <td>1</td>\n",
              "    </tr>\n",
              "    <tr>\n",
              "      <th>115</th>\n",
              "      <td>Fortaleza</td>\n",
              "      <td>2019-03-02</td>\n",
              "      <td>12.23</td>\n",
              "      <td>981</td>\n",
              "      <td>3</td>\n",
              "      <td>36.69</td>\n",
              "      <td>3.0</td>\n",
              "      <td>2019</td>\n",
              "      <td>3</td>\n",
              "      <td>2</td>\n",
              "      <td>425 days</td>\n",
              "      <td>1</td>\n",
              "    </tr>\n",
              "    <tr>\n",
              "      <th>50</th>\n",
              "      <td>Natal</td>\n",
              "      <td>2019-03-08</td>\n",
              "      <td>324.00</td>\n",
              "      <td>854</td>\n",
              "      <td>4</td>\n",
              "      <td>1296.00</td>\n",
              "      <td>4.0</td>\n",
              "      <td>2019</td>\n",
              "      <td>3</td>\n",
              "      <td>8</td>\n",
              "      <td>431 days</td>\n",
              "      <td>1</td>\n",
              "    </tr>\n",
              "    <tr>\n",
              "      <th>126</th>\n",
              "      <td>Recife</td>\n",
              "      <td>2019-03-02</td>\n",
              "      <td>41.87</td>\n",
              "      <td>980</td>\n",
              "      <td>8</td>\n",
              "      <td>334.96</td>\n",
              "      <td>8.0</td>\n",
              "      <td>2019</td>\n",
              "      <td>3</td>\n",
              "      <td>2</td>\n",
              "      <td>425 days</td>\n",
              "      <td>1</td>\n",
              "    </tr>\n",
              "    <tr>\n",
              "      <th>125</th>\n",
              "      <td>Recife</td>\n",
              "      <td>2019-03-02</td>\n",
              "      <td>37.60</td>\n",
              "      <td>983</td>\n",
              "      <td>4</td>\n",
              "      <td>150.40</td>\n",
              "      <td>4.0</td>\n",
              "      <td>2019</td>\n",
              "      <td>3</td>\n",
              "      <td>2</td>\n",
              "      <td>425 days</td>\n",
              "      <td>1</td>\n",
              "    </tr>\n",
              "    <tr>\n",
              "      <th>140</th>\n",
              "      <td>Fortaleza</td>\n",
              "      <td>2019-03-02</td>\n",
              "      <td>166.89</td>\n",
              "      <td>983</td>\n",
              "      <td>5</td>\n",
              "      <td>834.45</td>\n",
              "      <td>5.0</td>\n",
              "      <td>2019</td>\n",
              "      <td>3</td>\n",
              "      <td>2</td>\n",
              "      <td>425 days</td>\n",
              "      <td>1</td>\n",
              "    </tr>\n",
              "    <tr>\n",
              "      <th>140</th>\n",
              "      <td>Recife</td>\n",
              "      <td>2019-03-02</td>\n",
              "      <td>166.89</td>\n",
              "      <td>983</td>\n",
              "      <td>5</td>\n",
              "      <td>834.45</td>\n",
              "      <td>5.0</td>\n",
              "      <td>2019</td>\n",
              "      <td>3</td>\n",
              "      <td>2</td>\n",
              "      <td>425 days</td>\n",
              "      <td>1</td>\n",
              "    </tr>\n",
              "    <tr>\n",
              "      <th>2</th>\n",
              "      <td>Natal</td>\n",
              "      <td>2019-03-11</td>\n",
              "      <td>308.00</td>\n",
              "      <td>852</td>\n",
              "      <td>3</td>\n",
              "      <td>924.00</td>\n",
              "      <td>3.0</td>\n",
              "      <td>2019</td>\n",
              "      <td>3</td>\n",
              "      <td>11</td>\n",
              "      <td>434 days</td>\n",
              "      <td>1</td>\n",
              "    </tr>\n",
              "    <tr>\n",
              "      <th>131</th>\n",
              "      <td>Salvador</td>\n",
              "      <td>2019-03-02</td>\n",
              "      <td>63.48</td>\n",
              "      <td>1037</td>\n",
              "      <td>3</td>\n",
              "      <td>190.44</td>\n",
              "      <td>3.0</td>\n",
              "      <td>2019</td>\n",
              "      <td>3</td>\n",
              "      <td>2</td>\n",
              "      <td>425 days</td>\n",
              "      <td>1</td>\n",
              "    </tr>\n",
              "    <tr>\n",
              "      <th>108</th>\n",
              "      <td>Salvador</td>\n",
              "      <td>2019-03-02</td>\n",
              "      <td>11.72</td>\n",
              "      <td>1037</td>\n",
              "      <td>1</td>\n",
              "      <td>11.72</td>\n",
              "      <td>1.0</td>\n",
              "      <td>2019</td>\n",
              "      <td>3</td>\n",
              "      <td>2</td>\n",
              "      <td>425 days</td>\n",
              "      <td>1</td>\n",
              "    </tr>\n",
              "    <tr>\n",
              "      <th>118</th>\n",
              "      <td>Recife</td>\n",
              "      <td>2019-03-02</td>\n",
              "      <td>17.70</td>\n",
              "      <td>981</td>\n",
              "      <td>5</td>\n",
              "      <td>88.50</td>\n",
              "      <td>5.0</td>\n",
              "      <td>2019</td>\n",
              "      <td>3</td>\n",
              "      <td>2</td>\n",
              "      <td>425 days</td>\n",
              "      <td>1</td>\n",
              "    </tr>\n",
              "    <tr>\n",
              "      <th>66</th>\n",
              "      <td>Natal</td>\n",
              "      <td>2019-03-24</td>\n",
              "      <td>559.00</td>\n",
              "      <td>853</td>\n",
              "      <td>2</td>\n",
              "      <td>1118.00</td>\n",
              "      <td>2.0</td>\n",
              "      <td>2019</td>\n",
              "      <td>3</td>\n",
              "      <td>24</td>\n",
              "      <td>447 days</td>\n",
              "      <td>1</td>\n",
              "    </tr>\n",
              "    <tr>\n",
              "      <th>137</th>\n",
              "      <td>Recife</td>\n",
              "      <td>2019-03-02</td>\n",
              "      <td>51.99</td>\n",
              "      <td>983</td>\n",
              "      <td>3</td>\n",
              "      <td>155.97</td>\n",
              "      <td>3.0</td>\n",
              "      <td>2019</td>\n",
              "      <td>3</td>\n",
              "      <td>2</td>\n",
              "      <td>425 days</td>\n",
              "      <td>1</td>\n",
              "    </tr>\n",
              "    <tr>\n",
              "      <th>136</th>\n",
              "      <td>Recife</td>\n",
              "      <td>2019-03-02</td>\n",
              "      <td>39.09</td>\n",
              "      <td>982</td>\n",
              "      <td>4</td>\n",
              "      <td>156.36</td>\n",
              "      <td>4.0</td>\n",
              "      <td>2019</td>\n",
              "      <td>3</td>\n",
              "      <td>2</td>\n",
              "      <td>425 days</td>\n",
              "      <td>1</td>\n",
              "    </tr>\n",
              "    <tr>\n",
              "      <th>121</th>\n",
              "      <td>Salvador</td>\n",
              "      <td>2019-03-02</td>\n",
              "      <td>100.70</td>\n",
              "      <td>1037</td>\n",
              "      <td>3</td>\n",
              "      <td>302.10</td>\n",
              "      <td>3.0</td>\n",
              "      <td>2019</td>\n",
              "      <td>3</td>\n",
              "      <td>2</td>\n",
              "      <td>425 days</td>\n",
              "      <td>1</td>\n",
              "    </tr>\n",
              "    <tr>\n",
              "      <th>111</th>\n",
              "      <td>Salvador</td>\n",
              "      <td>2019-03-02</td>\n",
              "      <td>147.35</td>\n",
              "      <td>1037</td>\n",
              "      <td>2</td>\n",
              "      <td>294.70</td>\n",
              "      <td>2.0</td>\n",
              "      <td>2019</td>\n",
              "      <td>3</td>\n",
              "      <td>2</td>\n",
              "      <td>425 days</td>\n",
              "      <td>1</td>\n",
              "    </tr>\n",
              "    <tr>\n",
              "      <th>138</th>\n",
              "      <td>Recife</td>\n",
              "      <td>2019-03-02</td>\n",
              "      <td>150.38</td>\n",
              "      <td>983</td>\n",
              "      <td>6</td>\n",
              "      <td>902.28</td>\n",
              "      <td>6.0</td>\n",
              "      <td>2019</td>\n",
              "      <td>3</td>\n",
              "      <td>2</td>\n",
              "      <td>425 days</td>\n",
              "      <td>1</td>\n",
              "    </tr>\n",
              "    <tr>\n",
              "      <th>108</th>\n",
              "      <td>Fortaleza</td>\n",
              "      <td>2019-03-02</td>\n",
              "      <td>152.89</td>\n",
              "      <td>981</td>\n",
              "      <td>4</td>\n",
              "      <td>611.56</td>\n",
              "      <td>4.0</td>\n",
              "      <td>2019</td>\n",
              "      <td>3</td>\n",
              "      <td>2</td>\n",
              "      <td>425 days</td>\n",
              "      <td>1</td>\n",
              "    </tr>\n",
              "    <tr>\n",
              "      <th>82</th>\n",
              "      <td>Natal</td>\n",
              "      <td>2019-03-07</td>\n",
              "      <td>868.00</td>\n",
              "      <td>854</td>\n",
              "      <td>3</td>\n",
              "      <td>2604.00</td>\n",
              "      <td>3.0</td>\n",
              "      <td>2019</td>\n",
              "      <td>3</td>\n",
              "      <td>7</td>\n",
              "      <td>430 days</td>\n",
              "      <td>1</td>\n",
              "    </tr>\n",
              "  </tbody>\n",
              "</table>\n",
              "</div>"
            ],
            "text/plain": [
              "        Cidade       Data  Vendas  ... dia_venda  diferenca_dias  trimestre_venda\n",
              "125  Fortaleza 2019-03-02   37.60  ...         2        425 days                1\n",
              "124  Fortaleza 2019-03-02   47.98  ...         2        425 days                1\n",
              "115  Fortaleza 2019-03-02   12.23  ...         2        425 days                1\n",
              "50       Natal 2019-03-08  324.00  ...         8        431 days                1\n",
              "126     Recife 2019-03-02   41.87  ...         2        425 days                1\n",
              "125     Recife 2019-03-02   37.60  ...         2        425 days                1\n",
              "140  Fortaleza 2019-03-02  166.89  ...         2        425 days                1\n",
              "140     Recife 2019-03-02  166.89  ...         2        425 days                1\n",
              "2        Natal 2019-03-11  308.00  ...        11        434 days                1\n",
              "131   Salvador 2019-03-02   63.48  ...         2        425 days                1\n",
              "108   Salvador 2019-03-02   11.72  ...         2        425 days                1\n",
              "118     Recife 2019-03-02   17.70  ...         2        425 days                1\n",
              "66       Natal 2019-03-24  559.00  ...        24        447 days                1\n",
              "137     Recife 2019-03-02   51.99  ...         2        425 days                1\n",
              "136     Recife 2019-03-02   39.09  ...         2        425 days                1\n",
              "121   Salvador 2019-03-02  100.70  ...         2        425 days                1\n",
              "111   Salvador 2019-03-02  147.35  ...         2        425 days                1\n",
              "138     Recife 2019-03-02  150.38  ...         2        425 days                1\n",
              "108  Fortaleza 2019-03-02  152.89  ...         2        425 days                1\n",
              "82       Natal 2019-03-07  868.00  ...         7        430 days                1\n",
              "\n",
              "[20 rows x 12 columns]"
            ]
          },
          "metadata": {
            "tags": []
          },
          "execution_count": 147
        }
      ]
    },
    {
      "cell_type": "markdown",
      "metadata": {
        "id": "G2RavTidRF8A"
      },
      "source": [
        "#**Visualização de dados**"
      ]
    },
    {
      "cell_type": "code",
      "metadata": {
        "colab": {
          "base_uri": "https://localhost:8080/",
          "height": 357
        },
        "outputId": "fcc0d3fd-32a1-4059-c89f-d14c033842ea",
        "id": "1MtUbw6XcLYV"
      },
      "source": [
        "df[\"LojaID\"].value_counts(ascending=False)"
      ],
      "execution_count": null,
      "outputs": [
        {
          "output_type": "execute_result",
          "data": {
            "text/plain": [
              "1036    117\n",
              "1035    112\n",
              "1037    101\n",
              "1034     67\n",
              "983      65\n",
              "982      44\n",
              "1522     41\n",
              "1520     39\n",
              "980      36\n",
              "981      31\n",
              "1002     30\n",
              "1005     30\n",
              "852      29\n",
              "1523     29\n",
              "1004     28\n",
              "854      28\n",
              "853      26\n",
              "1521     21\n",
              "1003     20\n",
              "Name: LojaID, dtype: int64"
            ]
          },
          "metadata": {
            "tags": []
          },
          "execution_count": 204
        }
      ]
    },
    {
      "cell_type": "code",
      "metadata": {
        "id": "LCh4ANjpRDiU",
        "colab": {
          "base_uri": "https://localhost:8080/",
          "height": 468
        },
        "outputId": "4d5393d3-98ee-4067-8a2c-22a0b85975c0"
      },
      "source": [
        "#Gráfico de barras\n",
        "df[\"LojaID\"].value_counts(ascending=False).plot.bar()"
      ],
      "execution_count": null,
      "outputs": [
        {
          "output_type": "execute_result",
          "data": {
            "text/plain": [
              "<matplotlib.axes._subplots.AxesSubplot at 0x7f07e66aa710>"
            ]
          },
          "metadata": {
            "tags": []
          },
          "execution_count": 205
        },
        {
          "output_type": "display_data",
          "data": {
            "image/png": "[encoded data removed]",
            "text/plain": [
              "<Figure size 640x480 with 1 Axes>"
            ]
          },
          "metadata": {
            "tags": []
          }
        }
      ]
    },
    {
      "cell_type": "code",
      "metadata": {
        "id": "hMiNsqBKR3K2",
        "colab": {
          "base_uri": "https://localhost:8080/",
          "height": 447
        },
        "outputId": "f57f2b15-b9b2-436d-fbee-51cd724abe5f"
      },
      "source": [
        "#Gráfico de barras horizontais\n",
        "df[\"LojaID\"].value_counts().plot.barh()"
      ],
      "execution_count": null,
      "outputs": [
        {
          "output_type": "execute_result",
          "data": {
            "text/plain": [
              "<matplotlib.axes._subplots.AxesSubplot at 0x7f07e64d6400>"
            ]
          },
          "metadata": {
            "tags": []
          },
          "execution_count": 206
        },
        {
          "output_type": "display_data",
          "data": {
            "image/png": "[encoded data removed]",
            "text/plain": [
              "<Figure size 640x480 with 1 Axes>"
            ]
          },
          "metadata": {
            "tags": []
          }
        }
      ]
    },
    {
      "cell_type": "code",
      "metadata": {
        "id": "rg7ehfpzSE2W",
        "colab": {
          "base_uri": "https://localhost:8080/",
          "height": 430
        },
        "outputId": "8f9170af-f986-4188-da92-5d4cef66e860"
      },
      "source": [
        "#Gráfico de barras horizontais\n",
        "df[\"LojaID\"].value_counts(ascending=True).plot.barh();"
      ],
      "execution_count": null,
      "outputs": [
        {
          "output_type": "display_data",
          "data": {
            "image/png": "[encoded data removed]",
            "text/plain": [
              "<Figure size 640x480 with 1 Axes>"
            ]
          },
          "metadata": {
            "tags": []
          }
        }
      ]
    },
    {
      "cell_type": "code",
      "metadata": {
        "id": "pJ0gpi2_SKrh",
        "colab": {
          "base_uri": "https://localhost:8080/",
          "height": 423
        },
        "outputId": "99f08166-8040-4e6b-8370-5e0853fb9b80"
      },
      "source": [
        "#Gráfico de Pizza\n",
        "df.groupby(df[\"Data\"].dt.year)[\"Receita\"].sum().plot.pie()"
      ],
      "execution_count": null,
      "outputs": [
        {
          "output_type": "execute_result",
          "data": {
            "text/plain": [
              "<matplotlib.axes._subplots.AxesSubplot at 0x7f07e6378320>"
            ]
          },
          "metadata": {
            "tags": []
          },
          "execution_count": 209
        },
        {
          "output_type": "display_data",
          "data": {
            "image/png": "[encoded data removed]",
            "text/plain": [
              "<Figure size 640x480 with 1 Axes>"
            ]
          },
          "metadata": {
            "tags": []
          }
        }
      ]
    },
    {
      "cell_type": "code",
      "metadata": {
        "id": "2y-7DsTsTSMV",
        "colab": {
          "base_uri": "https://localhost:8080/",
          "height": 119
        },
        "outputId": "416e4eee-3d9f-4470-cd20-5d4e131716b2"
      },
      "source": [
        "#Total vendas por cidade\n",
        "df[\"Cidade\"].value_counts()"
      ],
      "execution_count": null,
      "outputs": [
        {
          "output_type": "execute_result",
          "data": {
            "text/plain": [
              "Natal        240\n",
              "Salvador     240\n",
              "Fortaleza    142\n",
              "Recife       142\n",
              "Aracaju      130\n",
              "Name: Cidade, dtype: int64"
            ]
          },
          "metadata": {
            "tags": []
          },
          "execution_count": 210
        }
      ]
    },
    {
      "cell_type": "code",
      "metadata": {
        "id": "6IWtDupKSmDn",
        "colab": {
          "base_uri": "https://localhost:8080/",
          "height": 522
        },
        "outputId": "ee683895-a27a-4032-df49-224b7e338b3f"
      },
      "source": [
        "#Adicionando um título e alterando o nome dos eixos\n",
        "import matplotlib.pyplot as plt\n",
        "df[\"Cidade\"].value_counts().plot.bar(title=\"Total vendas por Cidade\")\n",
        "plt.xlabel(\"Cidade\")\n",
        "plt.ylabel(\"Total Vendas\");"
      ],
      "execution_count": null,
      "outputs": [
        {
          "output_type": "display_data",
          "data": {
            "image/png": "[encoded data removed]",
            "text/plain": [
              "<Figure size 640x480 with 1 Axes>"
            ]
          },
          "metadata": {
            "tags": []
          }
        }
      ]
    },
    {
      "cell_type": "code",
      "metadata": {
        "id": "Gtp8f-8wTK82",
        "colab": {
          "base_uri": "https://localhost:8080/",
          "height": 522
        },
        "outputId": "8cc99270-325b-4ee0-a0e1-2edbf11202a7"
      },
      "source": [
        "#Alterando a cor\n",
        "df[\"Cidade\"].value_counts().plot.bar(title=\"Total vendas por Cidade\", color=\"red\")\n",
        "plt.xlabel(\"Cidade\")\n",
        "plt.ylabel(\"Total Vendas\");"
      ],
      "execution_count": null,
      "outputs": [
        {
          "output_type": "display_data",
          "data": {
            "image/png": "[encoded data removed]",
            "text/plain": [
              "<Figure size 640x480 with 1 Axes>"
            ]
          },
          "metadata": {
            "tags": []
          }
        }
      ]
    },
    {
      "cell_type": "code",
      "metadata": {
        "id": "7ee4w2uHVBHJ"
      },
      "source": [
        "#Alterando o estilo\n",
        "plt.style.use(\"ggplot\")"
      ],
      "execution_count": null,
      "outputs": []
    },
    {
      "cell_type": "code",
      "metadata": {
        "id": "QhimePNYVRnR",
        "colab": {
          "base_uri": "https://localhost:8080/",
          "height": 477
        },
        "outputId": "b9c36ccc-d7a9-4510-f29f-95a981d88d24"
      },
      "source": [
        "df.groupby(df[\"mes_venda\"])[\"Qtde\"].sum().plot(title = \"Total Produtos vendidos x mês\")\n",
        "plt.xlabel(\"Mês\")\n",
        "plt.ylabel(\"Total Produtos Vendidos\")\n",
        "plt.legend();"
      ],
      "execution_count": null,
      "outputs": [
        {
          "output_type": "display_data",
          "data": {
            "image/png": "[encoded data removed]",
            "text/plain": [
              "<Figure size 640x480 with 1 Axes>"
            ]
          },
          "metadata": {
            "tags": []
          }
        }
      ]
    },
    {
      "cell_type": "code",
      "metadata": {
        "id": "N8-WMDAZVj5P",
        "colab": {
          "base_uri": "https://localhost:8080/",
          "height": 255
        },
        "outputId": "5d0f1192-6ef7-4268-9a7a-ec8f295ea6f3"
      },
      "source": [
        "df.groupby(df[\"mes_venda\"])[\"Qtde\"].sum()"
      ],
      "execution_count": null,
      "outputs": [
        {
          "output_type": "execute_result",
          "data": {
            "text/plain": [
              "mes_venda\n",
              "1     2208\n",
              "2      144\n",
              "3      467\n",
              "4       23\n",
              "5       17\n",
              "6       13\n",
              "7       13\n",
              "8        2\n",
              "9       10\n",
              "10      14\n",
              "11       2\n",
              "12       3\n",
              "Name: Qtde, dtype: int64"
            ]
          },
          "metadata": {
            "tags": []
          },
          "execution_count": 219
        }
      ]
    },
    {
      "cell_type": "code",
      "metadata": {
        "id": "FwhIPO6DVoRD"
      },
      "source": [
        "#Selecionando apenas as vendas de 2019\n",
        "df_2019 = df[df[\"Ano_Venda\"] == 2019]"
      ],
      "execution_count": null,
      "outputs": []
    },
    {
      "cell_type": "code",
      "metadata": {
        "id": "Pd33t7PKj360",
        "colab": {
          "base_uri": "https://localhost:8080/",
          "height": 119
        },
        "outputId": "27497ff8-f68d-4278-b7a1-e6333d773283"
      },
      "source": [
        "df_2019.groupby(df_2019[\"mes_venda\"])[\"Qtde\"].sum()"
      ],
      "execution_count": null,
      "outputs": [
        {
          "output_type": "execute_result",
          "data": {
            "text/plain": [
              "mes_venda\n",
              "1    1541\n",
              "2     128\n",
              "3     460\n",
              "4      12\n",
              "Name: Qtde, dtype: int64"
            ]
          },
          "metadata": {
            "tags": []
          },
          "execution_count": 224
        }
      ]
    },
    {
      "cell_type": "code",
      "metadata": {
        "id": "7wdwXD2RX9Qo",
        "colab": {
          "base_uri": "https://localhost:8080/",
          "height": 455
        },
        "outputId": "8512105b-ae83-434b-89f4-da12f3e52a2d"
      },
      "source": [
        "#Total produtos vendidos por mês\n",
        "df_2019.groupby(df_2019[\"mes_venda\"])[\"Qtde\"].sum().plot(marker = \"o\")\n",
        "plt.xlabel(\"Mês\")\n",
        "plt.ylabel(\"Total Produtos Vendidos\")\n",
        "plt.legend();"
      ],
      "execution_count": null,
      "outputs": [
        {
          "output_type": "display_data",
          "data": {
            "image/png": "[encoded data removed]",
            "text/plain": [
              "<Figure size 640x480 with 1 Axes>"
            ]
          },
          "metadata": {
            "tags": []
          }
        }
      ]
    },
    {
      "cell_type": "code",
      "metadata": {
        "id": "AHLzBwDpY4he",
        "colab": {
          "base_uri": "https://localhost:8080/",
          "height": 430
        },
        "outputId": "3a74b228-183a-4dde-dab1-f709419621be"
      },
      "source": [
        "#Hisograma\n",
        "plt.hist(df[\"Qtde\"], color=\"orangered\");"
      ],
      "execution_count": null,
      "outputs": [
        {
          "output_type": "display_data",
          "data": {
            "image/png": "[encoded data removed]",
            "text/plain": [
              "<Figure size 640x480 with 1 Axes>"
            ]
          },
          "metadata": {
            "tags": []
          }
        }
      ]
    },
    {
      "cell_type": "code",
      "metadata": {
        "id": "bmET28xDacQb",
        "colab": {
          "base_uri": "https://localhost:8080/",
          "height": 430
        },
        "outputId": "8e7cd981-3d01-44b5-895b-16b27f431b8a"
      },
      "source": [
        "plt.scatter(x=df_2019[\"dia_venda\"], y = df_2019[\"Receita\"]);"
      ],
      "execution_count": null,
      "outputs": [
        {
          "output_type": "display_data",
          "data": {
            "image/png": "[encoded data removed]",
            "text/plain": [
              "<Figure size 640x480 with 1 Axes>"
            ]
          },
          "metadata": {
            "tags": []
          }
        }
      ]
    },
    {
      "cell_type": "code",
      "metadata": {
        "id": "1tFrsehWc7IN",
        "colab": {
          "base_uri": "https://localhost:8080/",
          "height": 478
        },
        "outputId": "b185e26f-1aa4-4d09-f2aa-e5bc3ee748c6"
      },
      "source": [
        "#Salvando em png\n",
        "df_2019.groupby(df_2019[\"mes_venda\"])[\"Qtde\"].sum().plot(marker = \"v\")\n",
        "plt.title(\"Quantidade de produtos vendidos x mês\")\n",
        "plt.xlabel(\"Mês\")\n",
        "plt.ylabel(\"Total Produtos Vendidos\");\n",
        "plt.legend()\n",
        "plt.savefig(\"grafico QTDE x MES.png\")"
      ],
      "execution_count": null,
      "outputs": [
        {
          "output_type": "display_data",
          "data": {
            "image/png": "[encoded data removed]",
            "text/plain": [
              "<Figure size 640x480 with 1 Axes>"
            ]
          },
          "metadata": {
            "tags": []
          }
        }
      ]
    },
    {
      "cell_type": "code",
      "metadata": {
        "id": "mIcmLx2iktxl"
      },
      "source": [],
      "execution_count": null,
      "outputs": []
    },
    {
      "cell_type": "code",
      "metadata": {
        "id": "G5HpRApza9UR"
      },
      "source": [
        "#Importando as bibliotecas\n",
        "import pandas as pd\n",
        "import matplotlib.pyplot as plt\n",
        "plt.style.use(\"seaborn\")"
      ],
      "execution_count": null,
      "outputs": []
    },
    {
      "cell_type": "code",
      "metadata": {
        "id": "3qLVp0Z_bUXq",
        "outputId": "0aff5a55-7dc4-495b-c217-0c15f8750e35",
        "colab": {
          "resources": {
            "http://localhost:8080/nbextensions/google.colab/files.js": {
              "data": "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",
              "ok": true,
              "headers": [
                [
                  "content-type",
                  "application/javascript"
                ]
              ],
              "status": 200,
              "status_text": ""
            }
          },
          "base_uri": "https://localhost:8080/",
          "height": 74
        }
      },
      "source": [
        "#Upload do arquivo\n",
        "from google.colab import files\n",
        "arq = files.upload()"
      ],
      "execution_count": null,
      "outputs": [
        {
          "output_type": "display_data",
          "data": {
            "text/html": [
              "\n",
              "     <input type=\"file\" id=\"files-a8fe5d14-f053-4b7d-98eb-b5ad1d50c22f\" name=\"files[]\" multiple disabled />\n",
              "     <output id=\"result-a8fe5d14-f053-4b7d-98eb-b5ad1d50c22f\">\n",
              "      Upload widget is only available when the cell has been executed in the\n",
              "      current browser session. Please rerun this cell to enable.\n",
              "      </output>\n",
              "      <script src=\"/nbextensions/google.colab/files.js\"></script> "
            ],
            "text/plain": [
              "<IPython.core.display.HTML object>"
            ]
          },
          "metadata": {
            "tags": []
          }
        },
        {
          "output_type": "stream",
          "text": [
            "Saving AdventureWorks.xlsx to AdventureWorks (5).xlsx\n"
          ],
          "name": "stdout"
        }
      ]
    },
    {
      "cell_type": "code",
      "metadata": {
        "id": "Rpxs2yU0ba23"
      },
      "source": [
        "#Criando nosso DataFrame\n",
        "df = pd.read_excel(\"AdventureWorks.xlsx\")"
      ],
      "execution_count": null,
      "outputs": []
    },
    {
      "cell_type": "code",
      "metadata": {
        "id": "DPOEg0MikIXG",
        "outputId": "633ff3c2-2339-4b86-8110-b65b6d29e2d2",
        "colab": {
          "base_uri": "https://localhost:8080/",
          "height": 391
        }
      },
      "source": [
        "#Visualizando as 5 primeiras linhas\n",
        "df.head()"
      ],
      "execution_count": null,
      "outputs": [
        {
          "output_type": "execute_result",
          "data": {
            "text/html": [
              "<div>\n",
              "<style scoped>\n",
              "    .dataframe tbody tr th:only-of-type {\n",
              "        vertical-align: middle;\n",
              "    }\n",
              "\n",
              "    .dataframe tbody tr th {\n",
              "        vertical-align: top;\n",
              "    }\n",
              "\n",
              "    .dataframe thead th {\n",
              "        text-align: right;\n",
              "    }\n",
              "</style>\n",
              "<table border=\"1\" class=\"dataframe\">\n",
              "  <thead>\n",
              "    <tr style=\"text-align: right;\">\n",
              "      <th></th>\n",
              "      <th>Data Venda</th>\n",
              "      <th>Data Envio</th>\n",
              "      <th>ID Loja</th>\n",
              "      <th>ID Produto</th>\n",
              "      <th>ID Cliente</th>\n",
              "      <th>No. Venda</th>\n",
              "      <th>Custo Unitário</th>\n",
              "      <th>Preço Unitário</th>\n",
              "      <th>Quantidade</th>\n",
              "      <th>Valor Desconto</th>\n",
              "      <th>Valor Venda</th>\n",
              "      <th>Produto</th>\n",
              "      <th>Fabricante</th>\n",
              "      <th>Marca</th>\n",
              "      <th>Classe</th>\n",
              "      <th>Cor</th>\n",
              "    </tr>\n",
              "  </thead>\n",
              "  <tbody>\n",
              "    <tr>\n",
              "      <th>0</th>\n",
              "      <td>2008-05-09</td>\n",
              "      <td>2008-05-29</td>\n",
              "      <td>199</td>\n",
              "      <td>384</td>\n",
              "      <td>18839</td>\n",
              "      <td>200805093CS607</td>\n",
              "      <td>348.58</td>\n",
              "      <td>758.0</td>\n",
              "      <td>6</td>\n",
              "      <td>0.0</td>\n",
              "      <td>4548.0</td>\n",
              "      <td>Adventure Works Laptop15.4W M1548 Red</td>\n",
              "      <td>Adventure Works</td>\n",
              "      <td>Adventure Works</td>\n",
              "      <td>Regular</td>\n",
              "      <td>Red</td>\n",
              "    </tr>\n",
              "    <tr>\n",
              "      <th>1</th>\n",
              "      <td>2008-05-12</td>\n",
              "      <td>2008-05-17</td>\n",
              "      <td>306</td>\n",
              "      <td>384</td>\n",
              "      <td>19051</td>\n",
              "      <td>200805123CS567</td>\n",
              "      <td>348.58</td>\n",
              "      <td>758.0</td>\n",
              "      <td>6</td>\n",
              "      <td>0.0</td>\n",
              "      <td>4548.0</td>\n",
              "      <td>Adventure Works Laptop15.4W M1548 Red</td>\n",
              "      <td>Adventure Works</td>\n",
              "      <td>Adventure Works</td>\n",
              "      <td>Regular</td>\n",
              "      <td>Red</td>\n",
              "    </tr>\n",
              "    <tr>\n",
              "      <th>2</th>\n",
              "      <td>2008-05-14</td>\n",
              "      <td>2008-05-20</td>\n",
              "      <td>306</td>\n",
              "      <td>384</td>\n",
              "      <td>19052</td>\n",
              "      <td>200805143CS576</td>\n",
              "      <td>348.58</td>\n",
              "      <td>758.0</td>\n",
              "      <td>6</td>\n",
              "      <td>0.0</td>\n",
              "      <td>4548.0</td>\n",
              "      <td>Adventure Works Laptop15.4W M1548 Red</td>\n",
              "      <td>Adventure Works</td>\n",
              "      <td>Adventure Works</td>\n",
              "      <td>Regular</td>\n",
              "      <td>Red</td>\n",
              "    </tr>\n",
              "    <tr>\n",
              "      <th>3</th>\n",
              "      <td>2008-05-21</td>\n",
              "      <td>2008-05-27</td>\n",
              "      <td>306</td>\n",
              "      <td>384</td>\n",
              "      <td>19052</td>\n",
              "      <td>200805213CS576</td>\n",
              "      <td>348.58</td>\n",
              "      <td>758.0</td>\n",
              "      <td>6</td>\n",
              "      <td>0.0</td>\n",
              "      <td>4548.0</td>\n",
              "      <td>Adventure Works Laptop15.4W M1548 Red</td>\n",
              "      <td>Adventure Works</td>\n",
              "      <td>Adventure Works</td>\n",
              "      <td>Regular</td>\n",
              "      <td>Red</td>\n",
              "    </tr>\n",
              "    <tr>\n",
              "      <th>4</th>\n",
              "      <td>2008-06-20</td>\n",
              "      <td>2008-06-27</td>\n",
              "      <td>306</td>\n",
              "      <td>384</td>\n",
              "      <td>19053</td>\n",
              "      <td>200806203CS586</td>\n",
              "      <td>348.58</td>\n",
              "      <td>758.0</td>\n",
              "      <td>6</td>\n",
              "      <td>0.0</td>\n",
              "      <td>4548.0</td>\n",
              "      <td>Adventure Works Laptop15.4W M1548 Red</td>\n",
              "      <td>Adventure Works</td>\n",
              "      <td>Adventure Works</td>\n",
              "      <td>Regular</td>\n",
              "      <td>Red</td>\n",
              "    </tr>\n",
              "  </tbody>\n",
              "</table>\n",
              "</div>"
            ],
            "text/plain": [
              "  Data Venda Data Envio  ID Loja  ...            Marca   Classe  Cor\n",
              "0 2008-05-09 2008-05-29      199  ...  Adventure Works  Regular  Red\n",
              "1 2008-05-12 2008-05-17      306  ...  Adventure Works  Regular  Red\n",
              "2 2008-05-14 2008-05-20      306  ...  Adventure Works  Regular  Red\n",
              "3 2008-05-21 2008-05-27      306  ...  Adventure Works  Regular  Red\n",
              "4 2008-06-20 2008-06-27      306  ...  Adventure Works  Regular  Red\n",
              "\n",
              "[5 rows x 16 columns]"
            ]
          },
          "metadata": {
            "tags": []
          },
          "execution_count": 7
        }
      ]
    },
    {
      "cell_type": "code",
      "metadata": {
        "id": "UCJpu--kK9wo",
        "outputId": "8d55d823-0742-4a54-fcb2-16df652007da",
        "colab": {
          "base_uri": "https://localhost:8080/",
          "height": 34
        }
      },
      "source": [
        "#Quantidade de linhas e colunas\n",
        "df.shape"
      ],
      "execution_count": null,
      "outputs": [
        {
          "output_type": "execute_result",
          "data": {
            "text/plain": [
              "(904, 16)"
            ]
          },
          "metadata": {
            "tags": []
          },
          "execution_count": 8
        }
      ]
    },
    {
      "cell_type": "code",
      "metadata": {
        "id": "P9S1i8o1lUu-",
        "outputId": "6197dad1-cbfe-444a-a212-1bfa12541ebd",
        "colab": {
          "base_uri": "https://localhost:8080/",
          "height": 306
        }
      },
      "source": [
        "#Verificando os tipos de dados\n",
        "df.dtypes"
      ],
      "execution_count": null,
      "outputs": [
        {
          "output_type": "execute_result",
          "data": {
            "text/plain": [
              "Data Venda        datetime64[ns]\n",
              "Data Envio        datetime64[ns]\n",
              "ID Loja                    int64\n",
              "ID Produto                 int64\n",
              "ID Cliente                 int64\n",
              "No. Venda                 object\n",
              "Custo Unitário           float64\n",
              "Preço Unitário           float64\n",
              "Quantidade                 int64\n",
              "Valor Desconto           float64\n",
              "Valor Venda              float64\n",
              "Produto                   object\n",
              "Fabricante                object\n",
              "Marca                     object\n",
              "Classe                    object\n",
              "Cor                       object\n",
              "dtype: object"
            ]
          },
          "metadata": {
            "tags": []
          },
          "execution_count": 9
        }
      ]
    },
    {
      "cell_type": "code",
      "metadata": {
        "id": "duheNX1GlhWw",
        "outputId": "0b047796-3ab7-4dd4-a370-ecce8e256679",
        "colab": {
          "base_uri": "https://localhost:8080/",
          "height": 34
        }
      },
      "source": [
        "#Qual a Receita total?\n",
        "df[\"Valor Venda\"].sum()"
      ],
      "execution_count": null,
      "outputs": [
        {
          "output_type": "execute_result",
          "data": {
            "text/plain": [
              "5984606.1426"
            ]
          },
          "metadata": {
            "tags": []
          },
          "execution_count": 10
        }
      ]
    },
    {
      "cell_type": "code",
      "metadata": {
        "id": "IHop-35BlyDO"
      },
      "source": [
        "#Qual o custo Total?\n",
        "df[\"custo\"] = df[\"Custo Unitário\"].mul(df[\"Quantidade\"]) #Criando a coluna de custo"
      ],
      "execution_count": null,
      "outputs": []
    },
    {
      "cell_type": "code",
      "metadata": {
        "id": "3fy4QmNLmMWd",
        "outputId": "b08296d5-566d-4123-a8d7-b2c4d959e935",
        "colab": {
          "base_uri": "https://localhost:8080/",
          "height": 168
        }
      },
      "source": [
        "df.head(1)"
      ],
      "execution_count": null,
      "outputs": [
        {
          "output_type": "execute_result",
          "data": {
            "text/html": [
              "<div>\n",
              "<style scoped>\n",
              "    .dataframe tbody tr th:only-of-type {\n",
              "        vertical-align: middle;\n",
              "    }\n",
              "\n",
              "    .dataframe tbody tr th {\n",
              "        vertical-align: top;\n",
              "    }\n",
              "\n",
              "    .dataframe thead th {\n",
              "        text-align: right;\n",
              "    }\n",
              "</style>\n",
              "<table border=\"1\" class=\"dataframe\">\n",
              "  <thead>\n",
              "    <tr style=\"text-align: right;\">\n",
              "      <th></th>\n",
              "      <th>Data Venda</th>\n",
              "      <th>Data Envio</th>\n",
              "      <th>ID Loja</th>\n",
              "      <th>ID Produto</th>\n",
              "      <th>ID Cliente</th>\n",
              "      <th>No. Venda</th>\n",
              "      <th>Custo Unitário</th>\n",
              "      <th>Preço Unitário</th>\n",
              "      <th>Quantidade</th>\n",
              "      <th>Valor Desconto</th>\n",
              "      <th>Valor Venda</th>\n",
              "      <th>Produto</th>\n",
              "      <th>Fabricante</th>\n",
              "      <th>Marca</th>\n",
              "      <th>Classe</th>\n",
              "      <th>Cor</th>\n",
              "      <th>custo</th>\n",
              "    </tr>\n",
              "  </thead>\n",
              "  <tbody>\n",
              "    <tr>\n",
              "      <th>0</th>\n",
              "      <td>2008-05-09</td>\n",
              "      <td>2008-05-29</td>\n",
              "      <td>199</td>\n",
              "      <td>384</td>\n",
              "      <td>18839</td>\n",
              "      <td>200805093CS607</td>\n",
              "      <td>348.58</td>\n",
              "      <td>758.0</td>\n",
              "      <td>6</td>\n",
              "      <td>0.0</td>\n",
              "      <td>4548.0</td>\n",
              "      <td>Adventure Works Laptop15.4W M1548 Red</td>\n",
              "      <td>Adventure Works</td>\n",
              "      <td>Adventure Works</td>\n",
              "      <td>Regular</td>\n",
              "      <td>Red</td>\n",
              "      <td>2091.48</td>\n",
              "    </tr>\n",
              "  </tbody>\n",
              "</table>\n",
              "</div>"
            ],
            "text/plain": [
              "  Data Venda Data Envio  ID Loja  ...   Classe  Cor    custo\n",
              "0 2008-05-09 2008-05-29      199  ...  Regular  Red  2091.48\n",
              "\n",
              "[1 rows x 17 columns]"
            ]
          },
          "metadata": {
            "tags": []
          },
          "execution_count": 12
        }
      ]
    },
    {
      "cell_type": "code",
      "metadata": {
        "id": "Uj7LTfyumqcn",
        "outputId": "ed0c7864-fc3c-40e2-e2e1-04182d758866",
        "colab": {
          "base_uri": "https://localhost:8080/",
          "height": 34
        }
      },
      "source": [
        "#Qual o custo Total?\n",
        "round(df[\"custo\"].sum(), 2)"
      ],
      "execution_count": null,
      "outputs": [
        {
          "output_type": "execute_result",
          "data": {
            "text/plain": [
              "2486783.05"
            ]
          },
          "metadata": {
            "tags": []
          },
          "execution_count": 13
        }
      ]
    },
    {
      "cell_type": "code",
      "metadata": {
        "id": "dcL7yq6dm6-R"
      },
      "source": [
        "#Agora que temos a receita e custo e o total, podemos achar o Lucro total\n",
        "#Vamos criar uma coluna de Lucro que será Receita - Custo\n",
        "df[\"lucro\"]  = df[\"Valor Venda\"] - df[\"custo\"] "
      ],
      "execution_count": null,
      "outputs": []
    },
    {
      "cell_type": "code",
      "metadata": {
        "id": "AESBzwFuqgy4",
        "outputId": "a832d8aa-bbee-41c6-e823-5844dd61890c",
        "colab": {
          "base_uri": "https://localhost:8080/",
          "height": 168
        }
      },
      "source": [
        "df.head(1)"
      ],
      "execution_count": null,
      "outputs": [
        {
          "output_type": "execute_result",
          "data": {
            "text/html": [
              "<div>\n",
              "<style scoped>\n",
              "    .dataframe tbody tr th:only-of-type {\n",
              "        vertical-align: middle;\n",
              "    }\n",
              "\n",
              "    .dataframe tbody tr th {\n",
              "        vertical-align: top;\n",
              "    }\n",
              "\n",
              "    .dataframe thead th {\n",
              "        text-align: right;\n",
              "    }\n",
              "</style>\n",
              "<table border=\"1\" class=\"dataframe\">\n",
              "  <thead>\n",
              "    <tr style=\"text-align: right;\">\n",
              "      <th></th>\n",
              "      <th>Data Venda</th>\n",
              "      <th>Data Envio</th>\n",
              "      <th>ID Loja</th>\n",
              "      <th>ID Produto</th>\n",
              "      <th>ID Cliente</th>\n",
              "      <th>No. Venda</th>\n",
              "      <th>Custo Unitário</th>\n",
              "      <th>Preço Unitário</th>\n",
              "      <th>Quantidade</th>\n",
              "      <th>Valor Desconto</th>\n",
              "      <th>Valor Venda</th>\n",
              "      <th>Produto</th>\n",
              "      <th>Fabricante</th>\n",
              "      <th>Marca</th>\n",
              "      <th>Classe</th>\n",
              "      <th>Cor</th>\n",
              "      <th>custo</th>\n",
              "      <th>lucro</th>\n",
              "    </tr>\n",
              "  </thead>\n",
              "  <tbody>\n",
              "    <tr>\n",
              "      <th>0</th>\n",
              "      <td>2008-05-09</td>\n",
              "      <td>2008-05-29</td>\n",
              "      <td>199</td>\n",
              "      <td>384</td>\n",
              "      <td>18839</td>\n",
              "      <td>200805093CS607</td>\n",
              "      <td>348.58</td>\n",
              "      <td>758.0</td>\n",
              "      <td>6</td>\n",
              "      <td>0.0</td>\n",
              "      <td>4548.0</td>\n",
              "      <td>Adventure Works Laptop15.4W M1548 Red</td>\n",
              "      <td>Adventure Works</td>\n",
              "      <td>Adventure Works</td>\n",
              "      <td>Regular</td>\n",
              "      <td>Red</td>\n",
              "      <td>2091.48</td>\n",
              "      <td>2456.52</td>\n",
              "    </tr>\n",
              "  </tbody>\n",
              "</table>\n",
              "</div>"
            ],
            "text/plain": [
              "  Data Venda Data Envio  ID Loja  ID Produto  ...   Classe  Cor    custo    lucro\n",
              "0 2008-05-09 2008-05-29      199         384  ...  Regular  Red  2091.48  2456.52\n",
              "\n",
              "[1 rows x 18 columns]"
            ]
          },
          "metadata": {
            "tags": []
          },
          "execution_count": 15
        }
      ]
    },
    {
      "cell_type": "code",
      "metadata": {
        "id": "odfh78ayqpN4",
        "outputId": "8e29504f-0eb5-4bc7-8312-ae1df3d7de5f",
        "colab": {
          "base_uri": "https://localhost:8080/",
          "height": 34
        }
      },
      "source": [
        "#Total Lucro\n",
        "round(df[\"lucro\"].sum(),2)"
      ],
      "execution_count": null,
      "outputs": [
        {
          "output_type": "execute_result",
          "data": {
            "text/plain": [
              "3497823.09"
            ]
          },
          "metadata": {
            "tags": []
          },
          "execution_count": 16
        }
      ]
    },
    {
      "cell_type": "code",
      "metadata": {
        "id": "dOlaVDsFqv-t"
      },
      "source": [
        "#Criando uma coluna com total de dias para enviar o produto\n",
        "df[\"Tempo_envio\"] = df[\"Data Envio\"] - df[\"Data Venda\"]"
      ],
      "execution_count": null,
      "outputs": []
    },
    {
      "cell_type": "code",
      "metadata": {
        "id": "xzf6mIH5r3vy",
        "outputId": "e5444795-08c5-434f-b88a-0043c6fb2c66",
        "colab": {
          "base_uri": "https://localhost:8080/",
          "height": 168
        }
      },
      "source": [
        "df.head(1)"
      ],
      "execution_count": null,
      "outputs": [
        {
          "output_type": "execute_result",
          "data": {
            "text/html": [
              "<div>\n",
              "<style scoped>\n",
              "    .dataframe tbody tr th:only-of-type {\n",
              "        vertical-align: middle;\n",
              "    }\n",
              "\n",
              "    .dataframe tbody tr th {\n",
              "        vertical-align: top;\n",
              "    }\n",
              "\n",
              "    .dataframe thead th {\n",
              "        text-align: right;\n",
              "    }\n",
              "</style>\n",
              "<table border=\"1\" class=\"dataframe\">\n",
              "  <thead>\n",
              "    <tr style=\"text-align: right;\">\n",
              "      <th></th>\n",
              "      <th>Data Venda</th>\n",
              "      <th>Data Envio</th>\n",
              "      <th>ID Loja</th>\n",
              "      <th>ID Produto</th>\n",
              "      <th>ID Cliente</th>\n",
              "      <th>No. Venda</th>\n",
              "      <th>Custo Unitário</th>\n",
              "      <th>Preço Unitário</th>\n",
              "      <th>Quantidade</th>\n",
              "      <th>Valor Desconto</th>\n",
              "      <th>Valor Venda</th>\n",
              "      <th>Produto</th>\n",
              "      <th>Fabricante</th>\n",
              "      <th>Marca</th>\n",
              "      <th>Classe</th>\n",
              "      <th>Cor</th>\n",
              "      <th>custo</th>\n",
              "      <th>lucro</th>\n",
              "      <th>Tempo_envio</th>\n",
              "    </tr>\n",
              "  </thead>\n",
              "  <tbody>\n",
              "    <tr>\n",
              "      <th>0</th>\n",
              "      <td>2008-05-09</td>\n",
              "      <td>2008-05-29</td>\n",
              "      <td>199</td>\n",
              "      <td>384</td>\n",
              "      <td>18839</td>\n",
              "      <td>200805093CS607</td>\n",
              "      <td>348.58</td>\n",
              "      <td>758.0</td>\n",
              "      <td>6</td>\n",
              "      <td>0.0</td>\n",
              "      <td>4548.0</td>\n",
              "      <td>Adventure Works Laptop15.4W M1548 Red</td>\n",
              "      <td>Adventure Works</td>\n",
              "      <td>Adventure Works</td>\n",
              "      <td>Regular</td>\n",
              "      <td>Red</td>\n",
              "      <td>2091.48</td>\n",
              "      <td>2456.52</td>\n",
              "      <td>20 days</td>\n",
              "    </tr>\n",
              "  </tbody>\n",
              "</table>\n",
              "</div>"
            ],
            "text/plain": [
              "  Data Venda Data Envio  ID Loja  ID Produto  ...  Cor    custo    lucro  Tempo_envio\n",
              "0 2008-05-09 2008-05-29      199         384  ...  Red  2091.48  2456.52      20 days\n",
              "\n",
              "[1 rows x 19 columns]"
            ]
          },
          "metadata": {
            "tags": []
          },
          "execution_count": 18
        }
      ]
    },
    {
      "cell_type": "markdown",
      "metadata": {
        "id": "tYKqnysZthDh"
      },
      "source": [
        "**Agora, queremos saber a média do tempo de envio para cada Marca, e para isso precisamos transformar a coluna Tempo_envio em númerica**"
      ]
    },
    {
      "cell_type": "code",
      "metadata": {
        "id": "eUAJwu45uVV-"
      },
      "source": [
        "#Extraindo apenas os dias\n",
        "df[\"Tempo_envio\"] = (df[\"Data Envio\"] - df[\"Data Venda\"]).dt.days"
      ],
      "execution_count": null,
      "outputs": []
    },
    {
      "cell_type": "code",
      "metadata": {
        "id": "MngNW5dZxjh_",
        "outputId": "ce20f74d-8730-463e-ed5e-b0a40104bcd7",
        "colab": {
          "base_uri": "https://localhost:8080/",
          "height": 168
        }
      },
      "source": [
        "df.head(1)"
      ],
      "execution_count": null,
      "outputs": [
        {
          "output_type": "execute_result",
          "data": {
            "text/html": [
              "<div>\n",
              "<style scoped>\n",
              "    .dataframe tbody tr th:only-of-type {\n",
              "        vertical-align: middle;\n",
              "    }\n",
              "\n",
              "    .dataframe tbody tr th {\n",
              "        vertical-align: top;\n",
              "    }\n",
              "\n",
              "    .dataframe thead th {\n",
              "        text-align: right;\n",
              "    }\n",
              "</style>\n",
              "<table border=\"1\" class=\"dataframe\">\n",
              "  <thead>\n",
              "    <tr style=\"text-align: right;\">\n",
              "      <th></th>\n",
              "      <th>Data Venda</th>\n",
              "      <th>Data Envio</th>\n",
              "      <th>ID Loja</th>\n",
              "      <th>ID Produto</th>\n",
              "      <th>ID Cliente</th>\n",
              "      <th>No. Venda</th>\n",
              "      <th>Custo Unitário</th>\n",
              "      <th>Preço Unitário</th>\n",
              "      <th>Quantidade</th>\n",
              "      <th>Valor Desconto</th>\n",
              "      <th>Valor Venda</th>\n",
              "      <th>Produto</th>\n",
              "      <th>Fabricante</th>\n",
              "      <th>Marca</th>\n",
              "      <th>Classe</th>\n",
              "      <th>Cor</th>\n",
              "      <th>custo</th>\n",
              "      <th>lucro</th>\n",
              "      <th>Tempo_envio</th>\n",
              "    </tr>\n",
              "  </thead>\n",
              "  <tbody>\n",
              "    <tr>\n",
              "      <th>0</th>\n",
              "      <td>2008-05-09</td>\n",
              "      <td>2008-05-29</td>\n",
              "      <td>199</td>\n",
              "      <td>384</td>\n",
              "      <td>18839</td>\n",
              "      <td>200805093CS607</td>\n",
              "      <td>348.58</td>\n",
              "      <td>758.0</td>\n",
              "      <td>6</td>\n",
              "      <td>0.0</td>\n",
              "      <td>4548.0</td>\n",
              "      <td>Adventure Works Laptop15.4W M1548 Red</td>\n",
              "      <td>Adventure Works</td>\n",
              "      <td>Adventure Works</td>\n",
              "      <td>Regular</td>\n",
              "      <td>Red</td>\n",
              "      <td>2091.48</td>\n",
              "      <td>2456.52</td>\n",
              "      <td>20</td>\n",
              "    </tr>\n",
              "  </tbody>\n",
              "</table>\n",
              "</div>"
            ],
            "text/plain": [
              "  Data Venda Data Envio  ID Loja  ...    custo    lucro Tempo_envio\n",
              "0 2008-05-09 2008-05-29      199  ...  2091.48  2456.52          20\n",
              "\n",
              "[1 rows x 19 columns]"
            ]
          },
          "metadata": {
            "tags": []
          },
          "execution_count": 20
        }
      ]
    },
    {
      "cell_type": "code",
      "metadata": {
        "id": "k9le4YEvxlow",
        "outputId": "4fa5b1a9-e7c4-43ba-f074-7e539c3faf8e",
        "colab": {
          "base_uri": "https://localhost:8080/",
          "height": 34
        }
      },
      "source": [
        "#Verificando o tipo da coluna Tempo_envio\n",
        "df[\"Tempo_envio\"].dtype"
      ],
      "execution_count": null,
      "outputs": [
        {
          "output_type": "execute_result",
          "data": {
            "text/plain": [
              "dtype('int64')"
            ]
          },
          "metadata": {
            "tags": []
          },
          "execution_count": 21
        }
      ]
    },
    {
      "cell_type": "code",
      "metadata": {
        "id": "VtCqhtr60byy",
        "outputId": "8f08f2ff-50b9-40c3-b103-153a19a4e335",
        "colab": {
          "base_uri": "https://localhost:8080/",
          "height": 102
        }
      },
      "source": [
        "#Média do tempo de envio por Marca\n",
        "df.groupby(\"Marca\")[\"Tempo_envio\"].mean()"
      ],
      "execution_count": null,
      "outputs": [
        {
          "output_type": "execute_result",
          "data": {
            "text/plain": [
              "Marca\n",
              "Adventure Works    8.663866\n",
              "Contoso            8.470930\n",
              "Fabrikam           8.510121\n",
              "Name: Tempo_envio, dtype: float64"
            ]
          },
          "metadata": {
            "tags": []
          },
          "execution_count": 22
        }
      ]
    },
    {
      "cell_type": "markdown",
      "metadata": {
        "id": "I1sg7kwKjuU1"
      },
      "source": [
        " **Missing Values**"
      ]
    },
    {
      "cell_type": "code",
      "metadata": {
        "id": "a26UV-kTjmog",
        "outputId": "2db6fd94-9426-4085-c484-81ac68e32e6c",
        "colab": {
          "base_uri": "https://localhost:8080/",
          "height": 357
        }
      },
      "source": [
        "#Verificando se temos dados faltantes\n",
        "df.isnull().sum()"
      ],
      "execution_count": null,
      "outputs": [
        {
          "output_type": "execute_result",
          "data": {
            "text/plain": [
              "Data Venda        0\n",
              "Data Envio        0\n",
              "ID Loja           0\n",
              "ID Produto        0\n",
              "ID Cliente        0\n",
              "No. Venda         0\n",
              "Custo Unitário    0\n",
              "Preço Unitário    0\n",
              "Quantidade        0\n",
              "Valor Desconto    0\n",
              "Valor Venda       0\n",
              "Produto           0\n",
              "Fabricante        0\n",
              "Marca             0\n",
              "Classe            0\n",
              "Cor               0\n",
              "custo             0\n",
              "lucro             0\n",
              "Tempo_envio       0\n",
              "dtype: int64"
            ]
          },
          "metadata": {
            "tags": []
          },
          "execution_count": 23
        }
      ]
    },
    {
      "cell_type": "markdown",
      "metadata": {
        "id": "Mh40m00N0lQE"
      },
      "source": [
        "**E, se a gente quiser saber o Lucro por Ano e Por Marca?**"
      ]
    },
    {
      "cell_type": "code",
      "metadata": {
        "id": "7CPhZjrJ00a1",
        "outputId": "08a87137-f56d-4a34-891d-679beef065b8",
        "colab": {
          "base_uri": "https://localhost:8080/",
          "height": 153
        }
      },
      "source": [
        "#Vamos Agrupar por ano e marca\n",
        "df.groupby([df[\"Data Venda\"].dt.year, \"Marca\"])[\"lucro\"].sum()"
      ],
      "execution_count": null,
      "outputs": [
        {
          "output_type": "execute_result",
          "data": {
            "text/plain": [
              "Data Venda  Marca          \n",
              "2008        Adventure Works             306,641.16\n",
              "            Contoso                      56,416.00\n",
              "            Fabrikam                  1,557,020.55\n",
              "2009        Adventure Works             405,395.08\n",
              "            Contoso                     138,258.95\n",
              "            Fabrikam                  1,034,091.35\n",
              "Name: lucro, dtype: float64"
            ]
          },
          "metadata": {
            "tags": []
          },
          "execution_count": 26
        }
      ]
    },
    {
      "cell_type": "code",
      "metadata": {
        "id": "kZ3lxKGabXeq"
      },
      "source": [
        " pd.options.display.float_format = '{:20,.2f}'.format"
      ],
      "execution_count": null,
      "outputs": []
    },
    {
      "cell_type": "code",
      "metadata": {
        "id": "knQfX6NC3GMc",
        "outputId": "8030fd21-9a09-4637-fe4f-97361465cbf4",
        "colab": {
          "base_uri": "https://localhost:8080/",
          "height": 235
        }
      },
      "source": [
        "#Resetando o index\n",
        "lucro_ano = df.groupby([df[\"Data Venda\"].dt.year, \"Marca\"])[\"lucro\"].sum().reset_index()\n",
        "lucro_ano"
      ],
      "execution_count": null,
      "outputs": [
        {
          "output_type": "execute_result",
          "data": {
            "text/html": [
              "<div>\n",
              "<style scoped>\n",
              "    .dataframe tbody tr th:only-of-type {\n",
              "        vertical-align: middle;\n",
              "    }\n",
              "\n",
              "    .dataframe tbody tr th {\n",
              "        vertical-align: top;\n",
              "    }\n",
              "\n",
              "    .dataframe thead th {\n",
              "        text-align: right;\n",
              "    }\n",
              "</style>\n",
              "<table border=\"1\" class=\"dataframe\">\n",
              "  <thead>\n",
              "    <tr style=\"text-align: right;\">\n",
              "      <th></th>\n",
              "      <th>Data Venda</th>\n",
              "      <th>Marca</th>\n",
              "      <th>lucro</th>\n",
              "    </tr>\n",
              "  </thead>\n",
              "  <tbody>\n",
              "    <tr>\n",
              "      <th>0</th>\n",
              "      <td>2008</td>\n",
              "      <td>Adventure Works</td>\n",
              "      <td>306,641.16</td>\n",
              "    </tr>\n",
              "    <tr>\n",
              "      <th>1</th>\n",
              "      <td>2008</td>\n",
              "      <td>Contoso</td>\n",
              "      <td>56,416.00</td>\n",
              "    </tr>\n",
              "    <tr>\n",
              "      <th>2</th>\n",
              "      <td>2008</td>\n",
              "      <td>Fabrikam</td>\n",
              "      <td>1,557,020.55</td>\n",
              "    </tr>\n",
              "    <tr>\n",
              "      <th>3</th>\n",
              "      <td>2009</td>\n",
              "      <td>Adventure Works</td>\n",
              "      <td>405,395.08</td>\n",
              "    </tr>\n",
              "    <tr>\n",
              "      <th>4</th>\n",
              "      <td>2009</td>\n",
              "      <td>Contoso</td>\n",
              "      <td>138,258.95</td>\n",
              "    </tr>\n",
              "    <tr>\n",
              "      <th>5</th>\n",
              "      <td>2009</td>\n",
              "      <td>Fabrikam</td>\n",
              "      <td>1,034,091.35</td>\n",
              "    </tr>\n",
              "  </tbody>\n",
              "</table>\n",
              "</div>"
            ],
            "text/plain": [
              "   Data Venda            Marca                lucro\n",
              "0        2008  Adventure Works           306,641.16\n",
              "1        2008          Contoso            56,416.00\n",
              "2        2008         Fabrikam         1,557,020.55\n",
              "3        2009  Adventure Works           405,395.08\n",
              "4        2009          Contoso           138,258.95\n",
              "5        2009         Fabrikam         1,034,091.35"
            ]
          },
          "metadata": {
            "tags": []
          },
          "execution_count": 27
        }
      ]
    },
    {
      "cell_type": "code",
      "metadata": {
        "id": "0xu9qx1x4WM6",
        "outputId": "28166c13-06a7-4532-908a-2cd10156422b",
        "colab": {
          "base_uri": "https://localhost:8080/",
          "height": 204
        }
      },
      "source": [
        "#Qual o total de produtos vendidos?\n",
        "df.groupby(\"Produto\")[\"Quantidade\"].sum().sort_values(ascending=False)"
      ],
      "execution_count": null,
      "outputs": [
        {
          "output_type": "execute_result",
          "data": {
            "text/plain": [
              "Produto\n",
              "Headphone Adapter for Contoso Phone E130 Silver    25232\n",
              "Headphone Adapter for Contoso Phone E130 White     25008\n",
              "Adventure Works Laptop15.4W M1548 Black             1089\n",
              "Fabrikam Trendsetter 2/3'' 17mm X100 Grey           1087\n",
              "Adventure Works Laptop15.4W M1548 Red               1047\n",
              "Fabrikam Trendsetter 2/3'' 17mm X100 Black           926\n",
              "Fabrikam Trendsetter 1/3'' 8.5mm X200 Black          884\n",
              "Fabrikam Trendsetter 1/3'' 8.5mm X200 Grey           845\n",
              "Fabrikam Trendsetter 1/3'' 8.5mm X200 White          789\n",
              "Name: Quantidade, dtype: int64"
            ]
          },
          "metadata": {
            "tags": []
          },
          "execution_count": 28
        }
      ]
    },
    {
      "cell_type": "code",
      "metadata": {
        "id": "Ov8qN2bI56NI",
        "outputId": "f7f81f4d-dd72-4500-dd5d-3459964fbaff",
        "colab": {
          "base_uri": "https://localhost:8080/",
          "height": 376
        }
      },
      "source": [
        "#Gráfico Total de produtos vendidos\n",
        "df.groupby(\"Produto\")[\"Quantidade\"].sum().sort_values(ascending=True).plot.barh(title=\"Total Produtos Vendidos\")\n",
        "plt.xlabel(\"Total\")\n",
        "plt.ylabel(\"Produto\");"
      ],
      "execution_count": null,
      "outputs": [
        {
          "output_type": "display_data",
          "data": {
            "image/png": "[encoded data removed]",
            "text/plain": [
              "<Figure size 576x396 with 1 Axes>"
            ]
          },
          "metadata": {
            "tags": []
          }
        }
      ]
    },
    {
      "cell_type": "code",
      "metadata": {
        "id": "qFQBaeXNcMd4",
        "outputId": "bbe89a72-81a8-4a44-c93c-6b01de01621a",
        "colab": {
          "base_uri": "https://localhost:8080/",
          "height": 388
        }
      },
      "source": [
        "df.groupby(df[\"Data Venda\"].dt.year)[\"lucro\"].sum().plot.bar(title=\"Lucro x Ano\")\n",
        "plt.xlabel(\"Ano\")\n",
        "plt.ylabel(\"Receita\");"
      ],
      "execution_count": null,
      "outputs": [
        {
          "output_type": "display_data",
          "data": {
            "image/png": "[encoded data removed]",
            "text/plain": [
              "<Figure size 576x396 with 1 Axes>"
            ]
          },
          "metadata": {
            "tags": []
          }
        }
      ]
    },
    {
      "cell_type": "code",
      "metadata": {
        "id": "4-FPJ5dP5saX",
        "outputId": "3f945085-2546-4643-86b3-bbb2f0f9d235",
        "colab": {
          "base_uri": "https://localhost:8080/",
          "height": 85
        }
      },
      "source": [
        "df.groupby(df[\"Data Venda\"].dt.year)[\"lucro\"].sum()"
      ],
      "execution_count": null,
      "outputs": [
        {
          "output_type": "execute_result",
          "data": {
            "text/plain": [
              "Data Venda\n",
              "2008           1,920,077.71\n",
              "2009           1,577,745.38\n",
              "Name: lucro, dtype: float64"
            ]
          },
          "metadata": {
            "tags": []
          },
          "execution_count": 31
        }
      ]
    },
    {
      "cell_type": "code",
      "metadata": {
        "id": "qEjCs7y77966"
      },
      "source": [
        "#Selecionando apenas as vendas de 2009\n",
        "df_2009 = df[df[\"Data Venda\"].dt.year == 2009]"
      ],
      "execution_count": null,
      "outputs": []
    },
    {
      "cell_type": "code",
      "metadata": {
        "id": "GiL4JRnU_LSf",
        "colab": {
          "base_uri": "https://localhost:8080/",
          "height": 496
        },
        "outputId": "f55f66df-5bd7-408b-9113-c7bf694fd2fb"
      },
      "source": [
        "df_2009.head()"
      ],
      "execution_count": null,
      "outputs": [
        {
          "output_type": "execute_result",
          "data": {
            "text/html": [
              "<div>\n",
              "<style scoped>\n",
              "    .dataframe tbody tr th:only-of-type {\n",
              "        vertical-align: middle;\n",
              "    }\n",
              "\n",
              "    .dataframe tbody tr th {\n",
              "        vertical-align: top;\n",
              "    }\n",
              "\n",
              "    .dataframe thead th {\n",
              "        text-align: right;\n",
              "    }\n",
              "</style>\n",
              "<table border=\"1\" class=\"dataframe\">\n",
              "  <thead>\n",
              "    <tr style=\"text-align: right;\">\n",
              "      <th></th>\n",
              "      <th>Data Venda</th>\n",
              "      <th>Data Envio</th>\n",
              "      <th>ID Loja</th>\n",
              "      <th>ID Produto</th>\n",
              "      <th>ID Cliente</th>\n",
              "      <th>No. Venda</th>\n",
              "      <th>Custo Unitário</th>\n",
              "      <th>Preço Unitário</th>\n",
              "      <th>Quantidade</th>\n",
              "      <th>Valor Desconto</th>\n",
              "      <th>Valor Venda</th>\n",
              "      <th>Produto</th>\n",
              "      <th>Fabricante</th>\n",
              "      <th>Marca</th>\n",
              "      <th>Classe</th>\n",
              "      <th>Cor</th>\n",
              "      <th>custo</th>\n",
              "      <th>lucro</th>\n",
              "      <th>Tempo_envio</th>\n",
              "    </tr>\n",
              "  </thead>\n",
              "  <tbody>\n",
              "    <tr>\n",
              "      <th>11</th>\n",
              "      <td>2009-05-02</td>\n",
              "      <td>2009-05-14</td>\n",
              "      <td>199</td>\n",
              "      <td>384</td>\n",
              "      <td>18938</td>\n",
              "      <td>200905023CS847</td>\n",
              "      <td>348.58</td>\n",
              "      <td>758.00</td>\n",
              "      <td>6</td>\n",
              "      <td>0.00</td>\n",
              "      <td>4,548.00</td>\n",
              "      <td>Adventure Works Laptop15.4W M1548 Red</td>\n",
              "      <td>Adventure Works</td>\n",
              "      <td>Adventure Works</td>\n",
              "      <td>Regular</td>\n",
              "      <td>Red</td>\n",
              "      <td>2,091.48</td>\n",
              "      <td>2,456.52</td>\n",
              "      <td>12</td>\n",
              "    </tr>\n",
              "    <tr>\n",
              "      <th>12</th>\n",
              "      <td>2009-05-16</td>\n",
              "      <td>2009-05-27</td>\n",
              "      <td>306</td>\n",
              "      <td>384</td>\n",
              "      <td>19067</td>\n",
              "      <td>200905163CS746</td>\n",
              "      <td>348.58</td>\n",
              "      <td>758.00</td>\n",
              "      <td>6</td>\n",
              "      <td>0.00</td>\n",
              "      <td>4,548.00</td>\n",
              "      <td>Adventure Works Laptop15.4W M1548 Red</td>\n",
              "      <td>Adventure Works</td>\n",
              "      <td>Adventure Works</td>\n",
              "      <td>Regular</td>\n",
              "      <td>Red</td>\n",
              "      <td>2,091.48</td>\n",
              "      <td>2,456.52</td>\n",
              "      <td>11</td>\n",
              "    </tr>\n",
              "    <tr>\n",
              "      <th>13</th>\n",
              "      <td>2009-05-31</td>\n",
              "      <td>2009-06-12</td>\n",
              "      <td>306</td>\n",
              "      <td>384</td>\n",
              "      <td>19068</td>\n",
              "      <td>200905313CS748</td>\n",
              "      <td>348.58</td>\n",
              "      <td>758.00</td>\n",
              "      <td>6</td>\n",
              "      <td>0.00</td>\n",
              "      <td>4,548.00</td>\n",
              "      <td>Adventure Works Laptop15.4W M1548 Red</td>\n",
              "      <td>Adventure Works</td>\n",
              "      <td>Adventure Works</td>\n",
              "      <td>Regular</td>\n",
              "      <td>Red</td>\n",
              "      <td>2,091.48</td>\n",
              "      <td>2,456.52</td>\n",
              "      <td>12</td>\n",
              "    </tr>\n",
              "    <tr>\n",
              "      <th>14</th>\n",
              "      <td>2009-06-28</td>\n",
              "      <td>2009-07-11</td>\n",
              "      <td>199</td>\n",
              "      <td>384</td>\n",
              "      <td>18959</td>\n",
              "      <td>200906283CS870</td>\n",
              "      <td>348.58</td>\n",
              "      <td>758.00</td>\n",
              "      <td>6</td>\n",
              "      <td>0.00</td>\n",
              "      <td>4,548.00</td>\n",
              "      <td>Adventure Works Laptop15.4W M1548 Red</td>\n",
              "      <td>Adventure Works</td>\n",
              "      <td>Adventure Works</td>\n",
              "      <td>Regular</td>\n",
              "      <td>Red</td>\n",
              "      <td>2,091.48</td>\n",
              "      <td>2,456.52</td>\n",
              "      <td>13</td>\n",
              "    </tr>\n",
              "    <tr>\n",
              "      <th>15</th>\n",
              "      <td>2009-07-08</td>\n",
              "      <td>2009-07-12</td>\n",
              "      <td>306</td>\n",
              "      <td>384</td>\n",
              "      <td>19070</td>\n",
              "      <td>200907083CS757</td>\n",
              "      <td>348.58</td>\n",
              "      <td>758.00</td>\n",
              "      <td>6</td>\n",
              "      <td>0.00</td>\n",
              "      <td>4,548.00</td>\n",
              "      <td>Adventure Works Laptop15.4W M1548 Red</td>\n",
              "      <td>Adventure Works</td>\n",
              "      <td>Adventure Works</td>\n",
              "      <td>Regular</td>\n",
              "      <td>Red</td>\n",
              "      <td>2,091.48</td>\n",
              "      <td>2,456.52</td>\n",
              "      <td>4</td>\n",
              "    </tr>\n",
              "  </tbody>\n",
              "</table>\n",
              "</div>"
            ],
            "text/plain": [
              "   Data Venda Data Envio  ...                lucro  Tempo_envio\n",
              "11 2009-05-02 2009-05-14  ...             2,456.52           12\n",
              "12 2009-05-16 2009-05-27  ...             2,456.52           11\n",
              "13 2009-05-31 2009-06-12  ...             2,456.52           12\n",
              "14 2009-06-28 2009-07-11  ...             2,456.52           13\n",
              "15 2009-07-08 2009-07-12  ...             2,456.52            4\n",
              "\n",
              "[5 rows x 19 columns]"
            ]
          },
          "metadata": {
            "tags": []
          },
          "execution_count": 33
        }
      ]
    },
    {
      "cell_type": "code",
      "metadata": {
        "id": "xaH-Ym6h_SG9",
        "colab": {
          "base_uri": "https://localhost:8080/",
          "height": 376
        },
        "outputId": "1ea0cbdf-ecea-4722-e6c4-9e0557b931c1"
      },
      "source": [
        "df_2009.groupby(df_2009[\"Data Venda\"].dt.month)[\"lucro\"].sum().plot(title=\"Lucro x Mês\")\n",
        "plt.xlabel(\"Mês\")\n",
        "plt.ylabel(\"Lucro\");"
      ],
      "execution_count": null,
      "outputs": [
        {
          "output_type": "display_data",
          "data": {
            "image/png": "[encoded data removed]",
            "text/plain": [
              "<Figure size 576x396 with 1 Axes>"
            ]
          },
          "metadata": {
            "tags": []
          }
        }
      ]
    },
    {
      "cell_type": "code",
      "metadata": {
        "id": "8HDLr3pp_hqf",
        "colab": {
          "base_uri": "https://localhost:8080/",
          "height": 376
        },
        "outputId": "e476ce16-0d5f-4bf6-c5c5-7cec1e4ec576"
      },
      "source": [
        "df_2009.groupby(\"Marca\")[\"lucro\"].sum().plot.bar(title=\"Lucro x Marca\")\n",
        "plt.xlabel(\"Marca\")\n",
        "plt.ylabel(\"Lucro\")\n",
        "plt.xticks(rotation='horizontal');"
      ],
      "execution_count": null,
      "outputs": [
        {
          "output_type": "display_data",
          "data": {
            "image/png": "[encoded data removed]",
            "text/plain": [
              "<Figure size 576x396 with 1 Axes>"
            ]
          },
          "metadata": {
            "tags": []
          }
        }
      ]
    },
    {
      "cell_type": "code",
      "metadata": {
        "id": "xguSC8ya_mr7",
        "colab": {
          "base_uri": "https://localhost:8080/",
          "height": 376
        },
        "outputId": "bec6125e-6b51-4aac-b9df-d6826c26afdc"
      },
      "source": [
        "df_2009.groupby(\"Classe\")[\"lucro\"].sum().plot.bar(title=\"Lucro x Classe\")\n",
        "plt.xlabel(\"Classe\")\n",
        "plt.ylabel(\"Lucro\")\n",
        "plt.xticks(rotation='horizontal');"
      ],
      "execution_count": null,
      "outputs": [
        {
          "output_type": "display_data",
          "data": {
            "image/png": "[encoded data removed]",
            "text/plain": [
              "<Figure size 576x396 with 1 Axes>"
            ]
          },
          "metadata": {
            "tags": []
          }
        }
      ]
    },
    {
      "cell_type": "code",
      "metadata": {
        "id": "IbO8CjekDdbk",
        "colab": {
          "base_uri": "https://localhost:8080/",
          "height": 170
        },
        "outputId": "0f917524-9158-48af-b8d2-a91dfa5d348b"
      },
      "source": [
        "df[\"Tempo_envio\"].describe()"
      ],
      "execution_count": null,
      "outputs": [
        {
          "output_type": "execute_result",
          "data": {
            "text/plain": [
              "count                 904.00\n",
              "mean                    8.54\n",
              "std                     3.06\n",
              "min                     4.00\n",
              "25%                     6.00\n",
              "50%                     9.00\n",
              "75%                    11.00\n",
              "max                    20.00\n",
              "Name: Tempo_envio, dtype: float64"
            ]
          },
          "metadata": {
            "tags": []
          },
          "execution_count": 37
        }
      ]
    },
    {
      "cell_type": "code",
      "metadata": {
        "id": "yVBuChl7D-LK",
        "colab": {
          "base_uri": "https://localhost:8080/",
          "height": 347
        },
        "outputId": "4a661f48-67f7-414e-9993-941548179c6d"
      },
      "source": [
        "#Gráfico de Boxplot\n",
        "plt.boxplot(df[\"Tempo_envio\"]);"
      ],
      "execution_count": null,
      "outputs": [
        {
          "output_type": "display_data",
          "data": {
            "image/png": "[encoded data removed]",
            "text/plain": [
              "<Figure size 576x396 with 1 Axes>"
            ]
          },
          "metadata": {
            "tags": []
          }
        }
      ]
    },
    {
      "cell_type": "code",
      "metadata": {
        "id": "AAso8LU5GiFN",
        "colab": {
          "base_uri": "https://localhost:8080/",
          "height": 347
        },
        "outputId": "69919c67-916c-490c-a647-1462e363612f"
      },
      "source": [
        "#Histograma\n",
        "plt.hist(df[\"Tempo_envio\"]);"
      ],
      "execution_count": null,
      "outputs": [
        {
          "output_type": "display_data",
          "data": {
            "image/png": "[encoded data removed]",
            "text/plain": [
              "<Figure size 576x396 with 1 Axes>"
            ]
          },
          "metadata": {
            "tags": []
          }
        }
      ]
    },
    {
      "cell_type": "code",
      "metadata": {
        "id": "hkxhLlATHMN3",
        "colab": {
          "base_uri": "https://localhost:8080/",
          "height": 34
        },
        "outputId": "c5e19e4f-d830-416f-ce78-7367926adb04"
      },
      "source": [
        "#Tempo mínimo de envio\n",
        "df[\"Tempo_envio\"].min()"
      ],
      "execution_count": null,
      "outputs": [
        {
          "output_type": "execute_result",
          "data": {
            "text/plain": [
              "4"
            ]
          },
          "metadata": {
            "tags": []
          },
          "execution_count": 40
        }
      ]
    },
    {
      "cell_type": "code",
      "metadata": {
        "id": "qg1q3fAKIDtM",
        "colab": {
          "base_uri": "https://localhost:8080/",
          "height": 34
        },
        "outputId": "9f4667ac-1557-4591-9fdc-5436c14099c5"
      },
      "source": [
        "#Tempo máximo de envio\n",
        "df['Tempo_envio'].max()"
      ],
      "execution_count": null,
      "outputs": [
        {
          "output_type": "execute_result",
          "data": {
            "text/plain": [
              "20"
            ]
          },
          "metadata": {
            "tags": []
          },
          "execution_count": 41
        }
      ]
    },
    {
      "cell_type": "code",
      "metadata": {
        "id": "BiOyhekfIgLb",
        "colab": {
          "base_uri": "https://localhost:8080/",
          "height": 168
        },
        "outputId": "732adad6-aa24-4067-a926-7aacf59992e0"
      },
      "source": [
        "#Identificando o Outlier\n",
        "df[df[\"Tempo_envio\"] == 20]"
      ],
      "execution_count": null,
      "outputs": [
        {
          "output_type": "execute_result",
          "data": {
            "text/html": [
              "<div>\n",
              "<style scoped>\n",
              "    .dataframe tbody tr th:only-of-type {\n",
              "        vertical-align: middle;\n",
              "    }\n",
              "\n",
              "    .dataframe tbody tr th {\n",
              "        vertical-align: top;\n",
              "    }\n",
              "\n",
              "    .dataframe thead th {\n",
              "        text-align: right;\n",
              "    }\n",
              "</style>\n",
              "<table border=\"1\" class=\"dataframe\">\n",
              "  <thead>\n",
              "    <tr style=\"text-align: right;\">\n",
              "      <th></th>\n",
              "      <th>Data Venda</th>\n",
              "      <th>Data Envio</th>\n",
              "      <th>ID Loja</th>\n",
              "      <th>ID Produto</th>\n",
              "      <th>ID Cliente</th>\n",
              "      <th>No. Venda</th>\n",
              "      <th>Custo Unitário</th>\n",
              "      <th>Preço Unitário</th>\n",
              "      <th>Quantidade</th>\n",
              "      <th>Valor Desconto</th>\n",
              "      <th>Valor Venda</th>\n",
              "      <th>Produto</th>\n",
              "      <th>Fabricante</th>\n",
              "      <th>Marca</th>\n",
              "      <th>Classe</th>\n",
              "      <th>Cor</th>\n",
              "      <th>custo</th>\n",
              "      <th>lucro</th>\n",
              "      <th>Tempo_envio</th>\n",
              "    </tr>\n",
              "  </thead>\n",
              "  <tbody>\n",
              "    <tr>\n",
              "      <th>0</th>\n",
              "      <td>2008-05-09</td>\n",
              "      <td>2008-05-29</td>\n",
              "      <td>199</td>\n",
              "      <td>384</td>\n",
              "      <td>18839</td>\n",
              "      <td>200805093CS607</td>\n",
              "      <td>348.58</td>\n",
              "      <td>758.00</td>\n",
              "      <td>6</td>\n",
              "      <td>0.00</td>\n",
              "      <td>4,548.00</td>\n",
              "      <td>Adventure Works Laptop15.4W M1548 Red</td>\n",
              "      <td>Adventure Works</td>\n",
              "      <td>Adventure Works</td>\n",
              "      <td>Regular</td>\n",
              "      <td>Red</td>\n",
              "      <td>2,091.48</td>\n",
              "      <td>2,456.52</td>\n",
              "      <td>20</td>\n",
              "    </tr>\n",
              "  </tbody>\n",
              "</table>\n",
              "</div>"
            ],
            "text/plain": [
              "  Data Venda Data Envio  ...                lucro  Tempo_envio\n",
              "0 2008-05-09 2008-05-29  ...             2,456.52           20\n",
              "\n",
              "[1 rows x 19 columns]"
            ]
          },
          "metadata": {
            "tags": []
          },
          "execution_count": 42
        }
      ]
    },
    {
      "cell_type": "code",
      "metadata": {
        "id": "xL5IKMeeLI6v"
      },
      "source": [
        "df.to_csv(\"df_vendas_novo.csv\", index=False)"
      ],
      "execution_count": null,
      "outputs": []
    },
    {
      "cell_type": "code",
      "metadata": {
        "id": "NLtTuecu62_h"
      },
      "source": [],
      "execution_count": null,
      "outputs": []
    }
  ]
}